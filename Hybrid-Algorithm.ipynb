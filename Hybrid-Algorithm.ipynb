{
 "cells": [
  {
   "attachments": {},
   "cell_type": "markdown",
   "id": "ab9f605a",
   "metadata": {},
   "source": [
    "## Heisenberg-limit algorithm for ground state energy estimation"
   ]
  },
  {
   "cell_type": "code",
   "execution_count": 1,
   "id": "34aaafd7",
   "metadata": {},
   "outputs": [],
   "source": [
    "# general imports\n",
    "import numpy as np\n",
    "import math\n",
    "from math import pi\n",
    "import matplotlib.pyplot as plt\n",
    "# magic word for producing visualizations in notebook\n",
    "%matplotlib inline\n",
    "\n",
    "from braket.circuits import Circuit, circuit, Instruction\n",
    "from braket.devices import LocalSimulator\n",
    "\n",
    "from braket.tracking import Tracker\n",
    "\n",
    "from scipy.special import iv\n",
    "from scipy.linalg import expm, block_diag\n",
    "from openfermion import fermi_hubbard, jordan_wigner, get_sparse_operator"
   ]
  },
  {
   "cell_type": "code",
   "execution_count": 2,
   "id": "28d4dd0d",
   "metadata": {},
   "outputs": [],
   "source": [
    "tracker = Tracker().start()\n",
    "device = LocalSimulator()"
   ]
  },
  {
   "attachments": {},
   "cell_type": "markdown",
   "id": "dab43ef0",
   "metadata": {},
   "source": [
    "## Fermi-Hubbard Model\n",
    "\n",
    "$$\n",
    "H = -\\frac{t}{2} \\sum_{j,\\sigma}(X_{j,\\sigma}X_{j+1,\\sigma}+Y_{j,\\sigma}Y_{j+1,\\sigma}) + \\frac{U}{4} \\sum_j Z_{j,\\uparrow}Z_{j,\\downarrow}\n",
    "$$\n",
    "\n",
    "We wanna find the ground state energy of it."
   ]
  },
  {
   "cell_type": "code",
   "execution_count": 3,
   "id": "4a75811f",
   "metadata": {},
   "outputs": [],
   "source": [
    "hubbard = fermi_hubbard(1, 4, 1, 4, periodic=False,particle_hole_symmetry=True)\n",
    "jw_hamiltonian = jordan_wigner(hubbard)\n",
    "jw_hamiltonian = jordan_wigner(hubbard)\n",
    "fh_matrix = get_sparse_operator(jw_hamiltonian)\n",
    "fh_matrix = fh_matrix.todense()\n",
    "fh_matrix = fh_matrix.real\n",
    "\n",
    "#plt.matshow(fh_matrix)"
   ]
  },
  {
   "attachments": {},
   "cell_type": "markdown",
   "id": "37f04eb3",
   "metadata": {},
   "source": [
    "### Why $\\tau$?\n",
    "\n",
    "We need to normalize $H$ such that all its eigenvalue fall in [$-\\pi/3$, $\\pi/3$]. "
   ]
  },
  {
   "cell_type": "code",
   "execution_count": 4,
   "id": "34eedc76",
   "metadata": {},
   "outputs": [],
   "source": [
    "norm = np.linalg.norm(fh_matrix)\n",
    "tau = np.pi/(4*norm)"
   ]
  },
  {
   "attachments": {},
   "cell_type": "markdown",
   "id": "2d6af751",
   "metadata": {},
   "source": [
    "### Cumulative Distribution Function(CDF) for H\n",
    "\n",
    "Given a initial state $\\rho$, we can find the CDF for H, which is a ladder-like function from 0 t0 1. We choose the Hatree Fock state as the initial state(one occupation on each site and opposite spin for neighboring occupations)."
   ]
  },
  {
   "cell_type": "code",
   "execution_count": 5,
   "id": "92d67b6b",
   "metadata": {},
   "outputs": [],
   "source": [
    "def get_real_CDF(N_sites, t, U, precision):\n",
    "    norm = np.linalg.norm(fh_matrix)\n",
    "    tau = np.pi/(4*norm)\n",
    "    \n",
    "    Ndim = 2**(2*N_sites)\n",
    "    energy, eigenstate= np.linalg.eig(tau*fh_matrix)\n",
    "\n",
    "    hf_state = np.zeros(Ndim)\n",
    "    hf_index = 0\n",
    "    for i in range(N_sites):\n",
    "        if i%2==0:\n",
    "            hf_index += 2**(2*i)\n",
    "        elif i%2!=0:\n",
    "            hf_index += 2**(2*i+1)\n",
    "\n",
    "    hf_state[hf_index] = 1\n",
    "        \n",
    "\n",
    "    energy=energy.real\n",
    "    eigenstate[np.abs(eigenstate)<1e-10]=0\n",
    "    eigenstate = np.array(eigenstate)\n",
    "\n",
    "    prob_raw = np.zeros(Ndim)\n",
    "    for i in range(Ndim):\n",
    "        prob_raw[i] = np.abs(np.dot(hf_state,eigenstate[:,i]))**2\n",
    "    prob = []\n",
    "    ener = []\n",
    "    for i,ele in enumerate(prob_raw):\n",
    "        if ele!=0:\n",
    "            prob.append(ele)\n",
    "            ener.append(energy[i].real)\n",
    "\n",
    "    x_list = np.linspace(-np.pi/3, np.pi/3, precision)\n",
    "    CDF = np.zeros(len(x_list))\n",
    "\n",
    "    for j,ener_ele in enumerate(ener):\n",
    "        for i,x_ele in enumerate(x_list):\n",
    "            if x_ele>ener_ele:\n",
    "                CDF[i] += prob[j]\n",
    "\n",
    "    return CDF"
   ]
  },
  {
   "cell_type": "code",
   "execution_count": 6,
   "id": "32831ae0",
   "metadata": {},
   "outputs": [
    {
     "data": {
      "text/plain": [
       "Text(0.5, 1.0, 'CDF for tau*H')"
      ]
     },
     "execution_count": 6,
     "metadata": {},
     "output_type": "execute_result"
    },
    {
     "data": {
      "image/png": "[encoded data removed]",
      "text/plain": [
       "<Figure size 640x480 with 1 Axes>"
      ]
     },
     "metadata": {},
     "output_type": "display_data"
    }
   ],
   "source": [
    "plt.plot(np.linspace(-np.pi/3, np.pi/3, 10000), get_real_CDF(4, 1, 4, 10000))\n",
    "plt.title('CDF for tau*H')"
   ]
  },
  {
   "cell_type": "code",
   "execution_count": 7,
   "id": "2f200906",
   "metadata": {},
   "outputs": [],
   "source": [
    "## Get Trotterization Hamiltonian Evolution Gate:\n",
    "\n",
    "def fh_evolution(N_sites, t, U, tau, j, step):\n",
    "    \n",
    "    qc = Circuit()\n",
    "    \n",
    "    for _ in range(step):\n",
    "        \n",
    "        ## Hopping terms \n",
    "        theta = tau*t*j/step\n",
    "        \n",
    "        for i in range(N_sites//2):\n",
    "            qc.xx(2*i,2*i+1,theta)\n",
    "            qc.yy(2*i,2*i+1,theta)\n",
    "\n",
    "            qc.xx(2*i+N_sites,2*i+1+N_sites,theta)\n",
    "            qc.yy(2*i+N_sites,2*i+1+N_sites,theta)\n",
    "            \n",
    "        for i in range((N_sites-1)//2):\n",
    "            qc.xx(2*i+1,2*i+2,theta)\n",
    "            qc.yy(2*i+1,2*i+2,theta)\n",
    "\n",
    "            qc.xx(2*i+N_sites+1,2*i+2+N_sites,theta)\n",
    "            qc.yy(2*i+N_sites+1,2*i+2+N_sites,theta)\n",
    "        \n",
    "        ## Potential\n",
    "        gamma = tau*j*U/(2*step)\n",
    "        \n",
    "        for i in range(N_sites):\n",
    "            qc.zz(i,i+N_sites,gamma)\n",
    "    return qc"
   ]
  },
  {
   "cell_type": "code",
   "execution_count": 8,
   "id": "673656b3",
   "metadata": {},
   "outputs": [
    {
     "name": "stdout",
     "output_type": "stream",
     "text": [
      "T  : |   0    |   1    |            2             |   3    |        4        |\n",
      "                                                                              \n",
      "q0 : -XX(0.50)-YY(0.50)----------ZZ(0.50)-------------------------------------\n",
      "      |        |                 |                                            \n",
      "q1 : -XX(0.50)-YY(0.50)-XX(0.50)-|-----------------YY(0.50)-ZZ(0.50)----------\n",
      "                        |        |                 |        |                 \n",
      "q2 : -XX(0.50)-YY(0.50)-XX(0.50)-|-----------------YY(0.50)-|--------ZZ(0.50)-\n",
      "      |        |                 |                          |        |        \n",
      "q3 : -XX(0.50)-YY(0.50)----------|--------ZZ(0.50)----------|--------|--------\n",
      "                                 |        |                 |        |        \n",
      "q4 : -XX(0.50)-YY(0.50)----------ZZ(0.50)-|-----------------|--------|--------\n",
      "      |        |                          |                 |        |        \n",
      "q5 : -XX(0.50)-YY(0.50)-XX(0.50)----------|--------YY(0.50)-ZZ(0.50)-|--------\n",
      "                        |                 |        |                 |        \n",
      "q6 : -XX(0.50)-YY(0.50)-XX(0.50)----------|--------YY(0.50)----------ZZ(0.50)-\n",
      "      |        |                          |                                   \n",
      "q7 : -XX(0.50)-YY(0.50)-------------------ZZ(0.50)----------------------------\n",
      "\n",
      "T  : |   0    |   1    |            2             |   3    |        4        |\n"
     ]
    }
   ],
   "source": [
    "print(fh_evolution(4, 1, 2, 0.5, 1, 1))"
   ]
  },
  {
   "cell_type": "code",
   "execution_count": 9,
   "id": "b296eb54",
   "metadata": {},
   "outputs": [],
   "source": [
    "def czz_gate(angle):\n",
    "    qc = Circuit()\n",
    "    qc.cnot(1,2)\n",
    "    qc.cphaseshift(0,2,angle)\n",
    "    qc.cnot(1,2)\n",
    "    \n",
    "    return qc\n",
    "\n",
    "def cxx_gate(angle):\n",
    "    qc = Circuit()\n",
    "    qc.h([1,2])\n",
    "    qc.cnot(1,2)\n",
    "    qc.cphaseshift(0,2,angle)\n",
    "    qc.cnot(1,2)\n",
    "    qc.h([1,2])\n",
    "    return qc\n",
    "\n",
    "def cyy_gate(angle):\n",
    "    qc = Circuit()\n",
    "    qc.rx([1,2],pi/2)\n",
    "    qc.cnot(1,2)\n",
    "    qc.cphaseshift(0,2,angle)\n",
    "    qc.cnot(1,2)\n",
    "    qc.rx([1,2],-pi/2)\n",
    "    \n",
    "    return qc"
   ]
  },
  {
   "cell_type": "code",
   "execution_count": 10,
   "id": "0f05e1be",
   "metadata": {},
   "outputs": [],
   "source": [
    "# ## Get circuit for Hadamard Test\n",
    "\n",
    "# ## This function doesn't work properly! Please use get_new_Hadamard_circuit\n",
    "# ##\n",
    "\n",
    "# def get_Hadamard_circuit(N_sites, t, U, tau, j, step, test_type='real'):\n",
    "    \n",
    "#     num_qubits = 2*N_sites+1\n",
    "#     qc = Circuit()\n",
    "    \n",
    "#     qc.h(0)\n",
    "    \n",
    "#     ## State Initialization\n",
    "#     for i in range(N_sites):\n",
    "#         if i%2!=0:\n",
    "#             qc.x(i+1)\n",
    "#         else:\n",
    "#             qc.x(i+1+N_sites)\n",
    "            \n",
    "#     ## Control-Evolution Gate\n",
    "    \n",
    "#     for _ in range(step):\n",
    "        \n",
    "#         ## Hopping terms \n",
    "#         theta = tau*t*j/step    \n",
    "#         for i in range(N_sites//2):\n",
    "#             #qc.cxx(num_qubits-1,[2*i,2*i+1],theta)\n",
    "#             qc.add_circuit(cxx_gate(theta),[0, 2*i+1, 2*i+2])\n",
    "            \n",
    "#             #qc.cyy(num_qubits-1,[2*i,2*i+1],theta)\n",
    "#             qc.add_circuit(cyy_gate(theta),[0, 2*i+1, 2*i+2])\n",
    "            \n",
    "#             #qc.cxx(num_qubits-1,2*i+N_sites,2*i+1+N_sites,theta)\n",
    "#             qc.add_circuit(cxx_gate(theta),[0, 2*i+1+N_sites, 2*i+2+N_sites])\n",
    "            \n",
    "#             #qc.cyy(num_qubits-1,2*i+N_sites,2*i+1+N_sites,theta)\n",
    "#             qc.add_circuit(cyy_gate(theta),[0, 2*i+1+N_sites, 2*i+2+N_sites])\n",
    "\n",
    "            \n",
    "            \n",
    "#         for i in range((N_sites-1)//2):\n",
    "#             #qc.cxx(num_qubits-1,[2*i+1,2*i+2],theta)\n",
    "#             qc.add_circuit(cxx_gate(theta),[0, 2*i+2, 2*i+3])\n",
    "            \n",
    "#             #qc.cyy(num_qubits-1,[2*i+1,2*i+2],theta)\n",
    "#             qc.add_circuit(cyy_gate(theta),[0, 2*i+2, 2*i+3])\n",
    "            \n",
    "#             qc.add_circuit(cxx_gate(theta),[0, 2*i+2+N_sites, 2*i+3+N_sites])\n",
    "#             qc.add_circuit(cyy_gate(theta),[0, 2*i+2+N_sites, 2*i+3+N_sites])\n",
    "        \n",
    "#         ## Potential terms\n",
    "#         gamma = tau*U*j/(2*step)\n",
    "#         for i in range(N_sites):\n",
    "#             qc.add_circuit(czz_gate(gamma),[0, i+1, i+1+N_sites])\n",
    "    \n",
    "#     if test_type=='real':\n",
    "#         pass\n",
    "#     elif test_type=='imag':\n",
    "#         qc.si(0)\n",
    "    \n",
    "#     qc.h(0)\n",
    "    \n",
    "#     qc.probability(target=0)\n",
    "#     return qc\n"
   ]
  },
  {
   "cell_type": "code",
   "execution_count": 11,
   "id": "e42bb244",
   "metadata": {},
   "outputs": [],
   "source": [
    "def get_new_Hadamard_circuit(N_sites, t, U, tau, j, step, test_type='real'):\n",
    "    num_qubits = 2*N_sites+2\n",
    "    qc = Circuit()\n",
    "\n",
    "    qc.h([0,1])\n",
    "\n",
    "    if test_type=='real':\n",
    "        pass\n",
    "    elif test_type=='imag':\n",
    "        qc.s(0)\n",
    "\n",
    "    ## Control-UI gate\n",
    "    for i in range(N_sites):\n",
    "        if i%2!=0:\n",
    "            qc.cnot(0,i+2)\n",
    "        else:\n",
    "            qc.cnot(0, i+2+N_sites)\n",
    "\n",
    "    ## Control-UR gate, but pass\n",
    "\n",
    "    ## evolution\n",
    "    qc.add_circuit(fh_evolution(N_sites, t, U, tau, j, step), range(2,num_qubits))\n",
    "\n",
    "    ## Control-UI_dagger gate\n",
    "    for i in range(N_sites):\n",
    "        if i%2!=0:\n",
    "            qc.cnot(1,i+2)\n",
    "        else:\n",
    "            qc.cnot(1, i+2+N_sites)\n",
    "\n",
    "    qc.h([0,1])\n",
    "\n",
    "    qc.probability(target=range(num_qubits))\n",
    "    return qc"
   ]
  },
  {
   "cell_type": "code",
   "execution_count": 12,
   "id": "a6dffe72",
   "metadata": {},
   "outputs": [],
   "source": [
    "job = device.run(get_new_Hadamard_circuit(4, 1, 4, 0.5, 1, 1),shots=1000)\n",
    "res = job.result()"
   ]
  },
  {
   "cell_type": "code",
   "execution_count": 15,
   "id": "57a98180",
   "metadata": {},
   "outputs": [],
   "source": [
    "def get_new_Z(N_sites, t, U, tau, j, step, shots):\n",
    "\n",
    "    qc_real = get_new_Hadamard_circuit(N_sites, t, U, tau, j, step, test_type='real')\n",
    "    qc_imag = get_new_Hadamard_circuit(N_sites, t, U, tau, j, step, test_type='imag')\n",
    "\n",
    "    device = LocalSimulator()\n",
    "    job_real = device.run(qc_real, shots=shots)\n",
    "    job_imag = device.run(qc_imag, shots=shots)\n",
    "    res_real = job_real.result()\n",
    "    res_imag = job_imag.result()\n",
    "\n",
    "    probs_real = res_real.measurement_probabilities\n",
    "    p00, p01, p10, p11 = 0,0,0,0\n",
    "    if ('00'+'0'*2*N_sites) in probs_real.keys():\n",
    "        p00 = probs_real['00'+'0'*2*N_sites]\n",
    "    if ('01'+'0'*2*N_sites) in probs_real.keys():\n",
    "        p01 = probs_real['01'+'0'*2*N_sites]\n",
    "    if ('10'+'0'*2*N_sites) in probs_real.keys():\n",
    "        p10 = probs_real['10'+'0'*2*N_sites]\n",
    "    if ('11'+'0'*2*N_sites) in probs_real.keys():\n",
    "        p11 = probs_real['11'+'0'*2*N_sites]\n",
    "        \n",
    "    X = p00+p11-p01-p10 \n",
    "\n",
    "    probs_imag = res_imag.measurement_probabilities\n",
    "    p00, p01, p10, p11 = 0,0,0,0\n",
    "    if ('00'+'0'*2*N_sites) in probs_imag.keys():\n",
    "        p00 = probs_imag['00'+'0'*2*N_sites]\n",
    "    if ('01'+'0'*2*N_sites) in probs_imag.keys():\n",
    "        p01 = probs_imag['01'+'0'*2*N_sites]\n",
    "    if ('10'+'0'*2*N_sites) in probs_imag.keys():\n",
    "        p10 = probs_imag['10'+'0'*2*N_sites]\n",
    "    if ('11'+'0'*2*N_sites) in probs_imag.keys():\n",
    "        p11 = probs_imag['11'+'0'*2*N_sites]\n",
    "    \n",
    "    Y = p00+p11-p01-p10\n",
    "\n",
    "    lambda_R = U/4*N_sites\n",
    "\n",
    "    Z = 2*(X-1j*Y)*np.exp(-1j*lambda_R*j*tau)\n",
    "    return Z"
   ]
  },
  {
   "attachments": {},
   "cell_type": "markdown",
   "id": "c3c60b5a",
   "metadata": {},
   "source": [
    "## Calculate Fourier coefficient for step Function\n",
    "\n",
    "$$\n",
    "F = \\frac{1}{2} + \\sum_j F_j (e^{ijx} - e^{-ijx})\n",
    "$$\n",
    "\n",
    "Notice that $F_j=0$ for all even $j$. Therefore,\n",
    "\n",
    "$$\n",
    "F = \\frac{1}{2} + \\sum^d_{j=0} F_j (e^{i(2j+1)x} - e^{-i(2j+1)x})\n",
    "$$\n",
    "\n",
    "From the Appendix of the PRL paper, \n",
    "\n",
    "$$\n",
    "F_j = -i\\sqrt{\\frac{\\beta}{2\\pi}}e^{-\\beta}*\\frac{I_v(j, \\beta)+I_v(j+1, \\beta)}{2j+1}\n",
    "$$"
   ]
  },
  {
   "cell_type": "code",
   "execution_count": 16,
   "id": "35a42b48",
   "metadata": {},
   "outputs": [],
   "source": [
    "def get_F(beta, j):\n",
    "    \n",
    "    F = -1j*np.sqrt(beta/(2*pi))*np.exp(-beta)*(iv(j,beta)+iv(j+1,beta))/(2*j+1)\n",
    "\n",
    "    return F"
   ]
  },
  {
   "cell_type": "code",
   "execution_count": 17,
   "id": "253c5fb8",
   "metadata": {},
   "outputs": [],
   "source": [
    "def get_F_coefs(d, beta):\n",
    "    F_list = np.zeros(d+1,dtype='complex128')\n",
    "    \n",
    "    for j in range(d):\n",
    "        F_list[j] = get_F(beta, j)\n",
    "    \n",
    "    F_list[d] = -1j*np.sqrt(.5*beta/pi) * np.exp(-beta) * iv(d,beta)/(2*d+1)\n",
    "    \n",
    "    return F_list"
   ]
  },
  {
   "cell_type": "code",
   "execution_count": 18,
   "id": "89c9d29f",
   "metadata": {},
   "outputs": [],
   "source": [
    "def get_approx_step_function(d, beta):\n",
    "\n",
    "    x_list = np.linspace(-pi,pi,10000)\n",
    "    F_coefs = get_F_coefs(d, beta)\n",
    "\n",
    "    F_approx = 0.5*np.ones(len(x_list))\n",
    "\n",
    "    for j, F in enumerate(F_coefs):\n",
    "        term = 2j*np.sin((2*j+1)*x_list)\n",
    "        F_approx = F_approx + F*term\n",
    "    \n",
    "    return F_approx.real\n"
   ]
  },
  {
   "attachments": {},
   "cell_type": "markdown",
   "id": "85749c0e",
   "metadata": {},
   "source": [
    "We plot out the approximated step function."
   ]
  },
  {
   "cell_type": "code",
   "execution_count": 19,
   "id": "a33a8f08",
   "metadata": {},
   "outputs": [
    {
     "data": {
      "text/plain": [
       "<matplotlib.legend.Legend at 0x2904e1520>"
      ]
     },
     "execution_count": 19,
     "metadata": {},
     "output_type": "execute_result"
    },
    {
     "data": {
      "image/png": "[encoded data removed]",
      "text/plain": [
       "<Figure size 2000x500 with 2 Axes>"
      ]
     },
     "metadata": {},
     "output_type": "display_data"
    }
   ],
   "source": [
    "x_list = np.linspace(-pi,pi,10000)\n",
    "fig, ax = plt.subplots(1,2,figsize=(20,5))\n",
    "ax[0].plot(x_list,list(np.zeros(len(x_list)//2))+list(np.ones(len(x_list)//2)),label='step function')\n",
    "ax[0].plot(x_list,get_approx_step_function(d=10,beta=100),label='approx d=10')\n",
    "ax[0].plot(x_list,get_approx_step_function(d=100,beta=100),label='approx d=100')\n",
    "ax[0].plot(x_list,get_approx_step_function(d=1000,beta=100),label='approx d=1000')\n",
    "ax[0].set_title('Step function approximation (beta=100)')\n",
    "ax[0].legend()\n",
    "ax[0].set_xlim([-.01,.01])\n",
    "\n",
    "ax[1].plot(x_list,list(np.zeros(len(x_list)//2))+list(np.ones(len(x_list)//2)),label='step function')\n",
    "ax[1].plot(x_list,get_approx_step_function(d=10,beta=10),label='approx d=10')\n",
    "ax[1].plot(x_list,get_approx_step_function(d=100,beta=10),label='approx d=100')\n",
    "ax[1].plot(x_list,get_approx_step_function(d=1000,beta=10),label='approx d=1000')\n",
    "ax[1].set_title('Step function approximation (beta=10)')\n",
    "ax[1].set_xlim([-.01,.01])\n",
    "ax[1].legend()"
   ]
  },
  {
   "cell_type": "code",
   "execution_count": 20,
   "id": "d7034f59",
   "metadata": {},
   "outputs": [],
   "source": [
    "## Use the get_new_Z instead.\n",
    "\n",
    "# def get_Z(N_sites, t, U, tau, j, step, shots):\n",
    "    \n",
    "#     qc_real = get_Hadamard_circuit(N_sites, t, U, tau, j, step, test_type='real')\n",
    "#     qc_imag = get_Hadamard_circuit(N_sites, t, U, tau, j, step, test_type='imag')\n",
    "    \n",
    "#     device = LocalSimulator()\n",
    "#     job_real = device.run(qc_real, shots=shots)\n",
    "#     job_imag = device.run(qc_imag, shots=shots)\n",
    "#     res_real = job_real.result()\n",
    "#     res_imag = job_imag.result()\n",
    "#     prob_real = res_real.values[0]\n",
    "#     prob_imag = res_imag.values[0]\n",
    "    \n",
    "#     Z = (prob_real[0]-prob_real[1])+1j*(prob_imag[0]-prob_imag[1])\n",
    "    \n",
    "#     return Z"
   ]
  },
  {
   "cell_type": "code",
   "execution_count": 21,
   "id": "af6cee5d",
   "metadata": {},
   "outputs": [],
   "source": [
    "def get_Z_list(d, N_sites, t, U, tau, step, shots_per_run): ## shots_per_run should be replaced\n",
    "    \n",
    "    Z_list = [get_new_Z(N_sites, t, U, tau, 2*j+1, step, shots=shots_per_run) for j in range(d+1)]\n",
    "    \n",
    "    return Z_list"
   ]
  },
  {
   "cell_type": "code",
   "execution_count": 22,
   "id": "73a82b70",
   "metadata": {},
   "outputs": [
    {
     "data": {
      "text/plain": [
       "(0.9017593468936708+0.37557518593472117j)"
      ]
     },
     "execution_count": 22,
     "metadata": {},
     "output_type": "execute_result"
    }
   ],
   "source": [
    "#get_Z_list(d=20,N_sites=4, t=1, U=4, tau=0.0185533,step=1, shots_per_run=1000)\n",
    "get_new_Z(4, 1, 4, tau, 5, 1, 10000)"
   ]
  },
  {
   "cell_type": "markdown",
   "id": "5d8d6396",
   "metadata": {},
   "source": [
    "\\begin{equation}\n",
    "ACDF(x) = 0.5+\\sum^d_{j=0} F_j e^{i(2j+1)x} Z_j\n",
    "\\end{equation}\n"
   ]
  },
  {
   "cell_type": "code",
   "execution_count": 24,
   "id": "7408e604",
   "metadata": {},
   "outputs": [],
   "source": [
    "def Assembly_ACDF(Z_list, F_list, precision):\n",
    "    \n",
    "    ACDF = .5*np.ones(precision)\n",
    "    x_list = np.linspace(-pi,pi,precision)\n",
    "    d = len(F_list)-1\n",
    "    \n",
    "    for j in range(d+1):\n",
    "        ACDF = ACDF + F_list[j]*Z_list[j]*np.exp(1j*(2*j+1)*x_list) - F_list[j]*Z_list[j].conj()*np.exp(-1j*(2*j+1)*x_list)\n",
    "        #ACDF = ACDF + F_list[j]*Z_list[j]*2j*np.sin((2*j+1)*x_list)\n",
    "                                                                              \n",
    "    return ACDF"
   ]
  },
  {
   "cell_type": "code",
   "execution_count": 25,
   "id": "6fdb8a6f",
   "metadata": {},
   "outputs": [
    {
     "ename": "NameError",
     "evalue": "name 'Z_list' is not defined",
     "output_type": "error",
     "traceback": [
      "\u001b[0;31m---------------------------------------------------------------------------\u001b[0m",
      "\u001b[0;31mNameError\u001b[0m                                 Traceback (most recent call last)",
      "Cell \u001b[0;32mIn [25], line 1\u001b[0m\n\u001b[0;32m----> 1\u001b[0m Z_list\n",
      "\u001b[0;31mNameError\u001b[0m: name 'Z_list' is not defined"
     ]
    }
   ],
   "source": [
    "Z_list"
   ]
  },
  {
   "cell_type": "code",
   "execution_count": 26,
   "id": "1a62f851",
   "metadata": {},
   "outputs": [],
   "source": [
    "Z_list = get_Z_list(50, 4, 1, 4, tau, 1, 10000)\n",
    "F_list = get_F_coefs(d=50, beta=50)\n",
    "ACDF = Assembly_ACDF(Z_list, F_list, 10000)"
   ]
  },
  {
   "cell_type": "code",
   "execution_count": 27,
   "id": "b466beb0",
   "metadata": {},
   "outputs": [
    {
     "name": "stderr",
     "output_type": "stream",
     "text": [
      "/Users/dranz/Library/Python/3.9/lib/python/site-packages/matplotlib/cbook/__init__.py:1369: ComplexWarning: Casting complex values to real discards the imaginary part\n",
      "  return np.asarray(x, float)\n"
     ]
    },
    {
     "data": {
      "text/plain": [
       "(-1.0471975511965976, 1.0471975511965976)"
      ]
     },
     "execution_count": 27,
     "metadata": {},
     "output_type": "execute_result"
    },
    {
     "data": {
      "image/png": "[encoded data removed]",
      "text/plain": [
       "<Figure size 640x480 with 1 Axes>"
      ]
     },
     "metadata": {},
     "output_type": "display_data"
    }
   ],
   "source": [
    "plt.plot(np.linspace(-pi,pi,10000), ACDF)\n",
    "plt.plot(np.linspace(-np.pi/3, np.pi/3, 1000), get_real_CDF(4,1,4,precision=1000), label='CDF')\n",
    "plt.xlim([-pi/3, pi/3])"
   ]
  }
 ],
 "metadata": {
  "kernelspec": {
   "display_name": "Python 3",
   "language": "python",
   "name": "python3"
  },
  "language_info": {
   "codemirror_mode": {
    "name": "ipython",
    "version": 3
   },
   "file_extension": ".py",
   "mimetype": "text/x-python",
   "name": "python",
   "nbconvert_exporter": "python",
   "pygments_lexer": "ipython3",
   "version": "3.9.6"
  },
  "vscode": {
   "interpreter": {
    "hash": "31f2aee4e71d21fbe5cf8b01ff0e069b9275f58929596ceb00d14d90e3e16cd6"
   }
  }
 },
 "nbformat": 4,
 "nbformat_minor": 5
}

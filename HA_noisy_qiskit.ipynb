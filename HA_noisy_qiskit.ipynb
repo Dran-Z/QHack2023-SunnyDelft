{
 "cells": [
  {
   "attachments": {},
   "cell_type": "markdown",
   "metadata": {},
   "source": [
    "## Noisy simulator with error mitigation\n",
    "\n",
    "This is the notebook for noisy simulation. You are recommended to check this [notebook](HA_noiseless_qiskit.ipynb) first before starting with this one."
   ]
  },
  {
   "cell_type": "code",
   "execution_count": 1,
   "metadata": {},
   "outputs": [],
   "source": [
    "import numpy as np\n",
    "import math\n",
    "from math import pi\n",
    "import matplotlib.pyplot as plt\n",
    "# magic word for producing visualizations in notebook\n",
    "%matplotlib inline\n",
    "\n",
    "from scipy.special import iv\n",
    "from scipy.linalg import expm, block_diag\n",
    "from scipy import integrate\n",
    "from openfermion import fermi_hubbard, jordan_wigner, get_sparse_operator\n",
    "from collections import Counter\n",
    "\n",
    "from qiskit import QuantumCircuit, QuantumRegister, ClassicalRegister\n",
    "from qiskit import Aer, transpile\n",
    "from qiskit.circuit import Parameter\n",
    "from qiskit.providers.fake_provider import FakeGuadalupe, FakeNairobi\n",
    "from qiskit.visualization import plot_histogram\n",
    "from qiskit_aer import AerSimulator, noise\n",
    "from qiskit_aer.noise import (NoiseModel, QuantumError, ReadoutError,\n",
    "    pauli_error, depolarizing_error, thermal_relaxation_error)\n",
    "\n",
    "from HA_utils import get_fh_matrix, Assembly_ACDF, get_real_CDF"
   ]
  },
  {
   "cell_type": "code",
   "execution_count": 6,
   "metadata": {},
   "outputs": [],
   "source": [
    "def fh_evolution_para(N_sites, theta_para, gamma_para, step, to_gate=True):\n",
    "    \n",
    "    qr = QuantumRegister(2*N_sites)\n",
    "    qc = QuantumCircuit(qr)\n",
    "    \n",
    "    for _ in range(step):\n",
    "        \n",
    "        ## Hopping terms \n",
    "        #theta = tau*t*j/step\n",
    "        #theta = Parameter('theta')\n",
    "        \n",
    "        for i in range(N_sites//2):\n",
    "            qc.rxx(theta_para,2*i,2*i+1)\n",
    "            qc.ryy(theta_para,2*i,2*i+1)\n",
    "\n",
    "            qc.rxx(theta_para,2*i+N_sites,2*i+1+N_sites)\n",
    "            qc.ryy(theta_para,2*i+N_sites,2*i+1+N_sites)\n",
    "            \n",
    "        for i in range((N_sites-1)//2):\n",
    "            qc.rxx(theta_para,2*i+1,2*i+2)\n",
    "            qc.ryy(theta_para,2*i+1,2*i+2)\n",
    "\n",
    "            qc.rxx(theta_para,2*i+N_sites+1,2*i+2+N_sites)\n",
    "            qc.ryy(theta_para,2*i+N_sites+1,2*i+2+N_sites)\n",
    "        \n",
    "        ## Potential\n",
    "        #gamma = tau*j*U/(2*step)\n",
    "        #gamma = Parameter('gamma')\n",
    "        \n",
    "        for i in range(N_sites):\n",
    "            qc.rzz(gamma_para,i,i+N_sites)\n",
    "    return qc.to_gate() if to_gate else qc"
   ]
  },
  {
   "cell_type": "code",
   "execution_count": 7,
   "metadata": {},
   "outputs": [],
   "source": [
    "def initial_state_prep(N_sites, initial_state_symmetry=True, to_gate=True):\n",
    "\n",
    "    qr = QuantumRegister(2*N_sites,'q')\n",
    "    qc = QuantumCircuit(qr)\n",
    "\n",
    "    if initial_state_symmetry:\n",
    "        qc.h(0)\n",
    "        for i in range(N_sites):\n",
    "            if i%2!=0:\n",
    "                qc.x(i)\n",
    "            else:\n",
    "                qc.x(i+N_sites)\n",
    "\n",
    "        qc.cnot(0,range(1,2*N_sites))\n",
    "\n",
    "    else:\n",
    "        for i in range(N_sites):\n",
    "            if i%2!=0:\n",
    "                qc.x(i)\n",
    "            else:\n",
    "                qc.x(i+N_sites)\n",
    "        \n",
    "\n",
    "    return qc.to_gate() if to_gate else qc"
   ]
  },
  {
   "cell_type": "code",
   "execution_count": 9,
   "metadata": {},
   "outputs": [],
   "source": [
    "def get_new_Hadamard_circuit_para(N_sites, theta_para, gamma_para, step, initial_state_symmetry=True,test_type='real'):\n",
    "\n",
    "    qr = QuantumRegister(2*N_sites+2, 'q')\n",
    "    qc = QuantumCircuit(qr)\n",
    "\n",
    "    qc.h([0,1])\n",
    "    if test_type=='real':\n",
    "        pass\n",
    "    elif test_type=='imag':\n",
    "        qc.s(0)\n",
    "\n",
    "    \n",
    "    prep_gate = initial_state_prep(N_sites=N_sites,initial_state_symmetry=initial_state_symmetry)\n",
    "    qc.append(prep_gate.control(), [0]+list(range(2,2*N_sites+2)))\n",
    "\n",
    "    evolution_gate = fh_evolution_para(N_sites=N_sites, theta_para=theta_para, gamma_para=gamma_para, step=step)\n",
    "    qc.append(evolution_gate,range(2,2*N_sites+2))\n",
    "\n",
    "    prep_gate_conj = prep_gate.reverse_ops()\n",
    "    qc.append(prep_gate_conj.control(), [1]+list(range(2,2*N_sites+2)))\n",
    "\n",
    "    qc.h([0,1])\n",
    "\n",
    "    qc.measure_all()\n",
    "\n",
    "    \n",
    "    return qc "
   ]
  },
  {
   "attachments": {},
   "cell_type": "markdown",
   "metadata": {},
   "source": [
    "`prqs` is the function to random compiling the CNOT gates with single Pauli gates. This random compiling can help us turn coherent noise into depolarizing noise, which is easy to mitigate through error extrapolation."
   ]
  },
  {
   "cell_type": "code",
   "execution_count": 11,
   "metadata": {},
   "outputs": [],
   "source": [
    "def prqs(random_number, extra_level): \n",
    "    \n",
    "    extra_level = 2 * extra_level + 1\n",
    "    qc = QuantumCircuit(2)\n",
    "    pqrs_list = ['IIII','IXIX','IYZY','IZZZ','YIYX','YXYI','YYXZ','YZXY','XIXX','XXXI','XYYZ','XZYY','ZIZI','ZXZX','ZYIY','ZZIZ']\n",
    "    if random_number == 0:\n",
    "        qc.i(0)\n",
    "        qc.i(1)\n",
    "        for i in range(extra_level):\n",
    "            qc.cnot(0,1)\n",
    "        qc.i(0)\n",
    "        qc.i(1)\n",
    "    elif random_number == 1:\n",
    "        qc.i(0)\n",
    "        qc.x(1)\n",
    "        for i in range(extra_level):\n",
    "            qc.cnot(0,1)\n",
    "        qc.i(0)\n",
    "        qc.x(1)\n",
    "    elif random_number == 2:\n",
    "        qc.i(0)\n",
    "        qc.y(1)\n",
    "        for i in range(extra_level):\n",
    "            qc.cnot(0,1)\n",
    "        qc.z(0)\n",
    "        qc.y(1)\n",
    "    elif random_number == 3:\n",
    "        qc.i(0)\n",
    "        qc.z(1)\n",
    "        for i in range(extra_level):\n",
    "            qc.cnot(0,1)\n",
    "        qc.z(0)\n",
    "        qc.z(1)     \n",
    "    elif random_number == 4:\n",
    "        qc.y(0)\n",
    "        qc.i(1)\n",
    "        for i in range(extra_level):\n",
    "            qc.cnot(0,1)\n",
    "        qc.y(0)\n",
    "        qc.x(1)   \n",
    "    elif random_number == 5:\n",
    "        qc.y(0)\n",
    "        qc.x(1)\n",
    "        for i in range(extra_level):\n",
    "            qc.cnot(0,1)\n",
    "        qc.y(0)\n",
    "        qc.i(1)\n",
    "    elif random_number == 6:\n",
    "        qc.y(0)\n",
    "        qc.y(1)\n",
    "        for i in range(extra_level):\n",
    "            qc.cnot(0,1)\n",
    "        qc.x(0)\n",
    "        qc.z(1)\n",
    "    elif random_number == 7:\n",
    "        qc.y(0)\n",
    "        qc.z(1)\n",
    "        for i in range(extra_level):\n",
    "            qc.cnot(0,1)\n",
    "        qc.x(0)\n",
    "        qc.y(1)\n",
    "    elif random_number == 8:\n",
    "        qc.x(0)\n",
    "        qc.i(1)\n",
    "        for i in range(extra_level):\n",
    "            qc.cnot(0,1)\n",
    "        qc.x(0)\n",
    "        qc.x(1)\n",
    "    elif random_number == 9:\n",
    "        qc.x(0)\n",
    "        qc.x(1)\n",
    "        for i in range(extra_level):\n",
    "            qc.cnot(0,1)\n",
    "        qc.x(0)\n",
    "        qc.i(1)     \n",
    "    elif random_number == 10:\n",
    "        qc.x(0)\n",
    "        qc.y(1)\n",
    "        for i in range(extra_level):\n",
    "            qc.cnot(0,1)\n",
    "        qc.y(0)\n",
    "        qc.z(1)   \n",
    "    elif random_number == 11:\n",
    "        qc.x(0)\n",
    "        qc.z(1)\n",
    "        for i in range(extra_level):\n",
    "            qc.cnot(0,1)\n",
    "        qc.y(0)\n",
    "        qc.y(1)\n",
    "    elif random_number == 12:\n",
    "        qc.z(0)\n",
    "        qc.i(1)\n",
    "        for i in range(extra_level):\n",
    "            qc.cnot(0,1)\n",
    "        qc.z(0)\n",
    "        qc.i(1)\n",
    "    elif random_number == 13:\n",
    "        qc.z(0)\n",
    "        qc.x(1)\n",
    "        for i in range(extra_level):\n",
    "            qc.cnot(0,1)\n",
    "        qc.z(0)\n",
    "        qc.x(1)\n",
    "    elif random_number == 14:\n",
    "        qc.z(0)\n",
    "        qc.y(1)\n",
    "        for i in range(extra_level):\n",
    "            qc.cnot(0,1)\n",
    "        qc.i(0)\n",
    "        qc.y(1)\n",
    "    elif random_number == 15:\n",
    "        qc.z(0)\n",
    "        qc.z(1)\n",
    "        for i in range(extra_level):\n",
    "            qc.cnot(0,1)\n",
    "        qc.i(0)\n",
    "        qc.z(1)\n",
    "    return qc"
   ]
  },
  {
   "attachments": {},
   "cell_type": "markdown",
   "metadata": {},
   "source": [
    "`error_mitigation` take an ideal circuit as input, and return you the random compiled circuit with each CNOT gate replaced by multiple CNOT gates. These different circuit will be used for error extrapolation."
   ]
  },
  {
   "cell_type": "code",
   "execution_count": 12,
   "metadata": {},
   "outputs": [],
   "source": [
    "def error_mitigation(N_sites, trans_qc, extra_level):  #extra_level startz from 0. cnot_num = 2 * extra_level + 1\n",
    "    \n",
    "    num_qubits = trans_qc.num_qubits\n",
    "    qc = QuantumCircuit(num_qubits, 2 * N_sites + 2)\n",
    "\n",
    "    me = 0\n",
    "    for gate_data in trans_qc.data:\n",
    "        gate = gate_data[0]\n",
    "        qubits = gate_data[1]\n",
    "        if gate.name == 'cx':\n",
    "            index = [qubits[0].index, qubits[1].index]\n",
    "            random_num = np.random.randint(16)\n",
    "            qc.append(prqs(random_num, extra_level), index) # random compiling with the 'random_num'-th random set and '2*extra_level' CNOTs\n",
    "        elif gate.name == 'measure':\n",
    "            qc.measure(qubits[0], [me])\n",
    "            me = me + 1\n",
    "\n",
    "        else:\n",
    "            qc.append(gate_data)\n",
    "    \n",
    "    return qc"
   ]
  },
  {
   "cell_type": "code",
   "execution_count": 13,
   "metadata": {},
   "outputs": [],
   "source": [
    "def get_shots_per_run(F_list, total_shots,type='sample'):\n",
    "\n",
    "    F_list_abs = np.array([np.abs(ele) for ele in F_list])\n",
    "    probs = F_list_abs/sum(F_list_abs)\n",
    "    if type=='sample':\n",
    "\n",
    "        sampling = np.random.choice(range(len(probs)), size=int(total_shots), p=probs)\n",
    "        counter = Counter(sampling)\n",
    "        shots_list = np.zeros(len(probs),dtype=int)\n",
    "        for i in range(len(probs)):\n",
    "            shots_list[i] = int(counter[i])\n",
    "    elif type =='distribution':\n",
    "        shots_list = np.round(total_shots*probs)\n",
    "        \n",
    "    return shots_list"
   ]
  },
  {
   "cell_type": "code",
   "execution_count": 67,
   "metadata": {},
   "outputs": [],
   "source": [
    "def get_circuit_list_to_run(N_sites,t,U,tau,step,shots_list,backend,extra_level,initial_state_symmetry=True):\n",
    "\n",
    "    circ_list_real = []\n",
    "    circ_list_imag = []\n",
    "    theta = Parameter('theta')\n",
    "    gamma = Parameter('gamma')\n",
    "    circ_para_real = get_new_Hadamard_circuit_para(N_sites,theta_para=theta, gamma_para=gamma, step=step, initial_state_symmetry=initial_state_symmetry,test_type='real')\n",
    "    circ_para_imag = get_new_Hadamard_circuit_para(N_sites,theta_para=theta, gamma_para=gamma, step=step, initial_state_symmetry=initial_state_symmetry,test_type='imag')\n",
    "\n",
    "    circ_transpiled_real = transpile(circuits=circ_para_real, backend=backend, basis_gates=['cx','u3'], optimization_level=3)\n",
    "    circ_transpiled_imag = transpile(circuits=circ_para_imag, backend=backend, basis_gates=['cx','u3'], optimization_level=3)\n",
    "\n",
    "    circ_mitigated_real = error_mitigation(N_sites, circ_transpiled_real, extra_level=extra_level).decompose()\n",
    "    circ_mitigated_imag = error_mitigation(N_sites, circ_transpiled_imag, extra_level=extra_level).decompose()\n",
    "\n",
    "    # circ_transpiled_mitigated_real = transpile(circuits=circ_mitigated_real, backend=backend, optimization_level=0)\n",
    "    # circ_transpiled_mitigated_imag = transpile(circuits=circ_mitigated_imag, backend=backend, optimization_level=0)\n",
    "    \n",
    "    circ_transpiled_mitigated_real = circ_mitigated_real\n",
    "    circ_transpiled_mitigated_imag = circ_mitigated_imag\n",
    "    \n",
    "    for j, shot in enumerate(shots_list):\n",
    "\n",
    "        if shot:\n",
    "            \n",
    "            theta_value = tau*t*(2*j+1)/step\n",
    "            gamma_value = tau*U*(2*j+1)/(2*step)\n",
    "            circ_binded_real = circ_transpiled_mitigated_real.bind_parameters({theta:theta_value,gamma:gamma_value})\n",
    "            circ_binded_real.name = 'Re-circ-'+str(j)\n",
    "            circ_list_real.append(circ_binded_real)\n",
    "\n",
    "            circ_binded_imag = circ_transpiled_mitigated_imag.bind_parameters({theta:theta_value,gamma:gamma_value})\n",
    "            circ_binded_imag.name = 'Im-circ-'+str(j)\n",
    "            circ_list_imag.append(circ_binded_imag)\n",
    "\n",
    "    return circ_list_real, circ_list_imag"
   ]
  },
  {
   "cell_type": "code",
   "execution_count": 15,
   "metadata": {},
   "outputs": [],
   "source": [
    "def get_new_Z_list(d, N_sites, t, U, tau, step, shots_list, backend, extra_level, initial_state_symmetry=True):\n",
    "    \n",
    "    extra = extra_level\n",
    "    Z_list = np.zeros(d+1,dtype='complex')  \n",
    "\n",
    "    circ_list_real,circ_list_imag = get_circuit_list_to_run(N_sites,t,U,tau,step,shots_list, backend, extra, initial_state_symmetry)\n",
    "    \n",
    "    index = 0\n",
    "    for j in range(d+1):\n",
    "        shots = shots_list[j]\n",
    "        if shots != 0:  \n",
    "            \n",
    "            counts_real = backend.run(circ_list_real[index],shots=shots).result().get_counts()\n",
    "            counts_imag = backend.run(circ_list_imag[index],shots=shots).result().get_counts()\n",
    "            \n",
    "            shots_real = counts_real.shots()\n",
    "            shots_imag = counts_imag.shots()\n",
    "            \n",
    "            index = index + 1\n",
    "            \n",
    "            p00, p01, p10, p11 = 0,0,0,0\n",
    "            if ('0'*2*N_sites+'00') in counts_real.keys():\n",
    "                p00 = counts_real['0'*2*N_sites+'00']/shots_real\n",
    "            if ('0'*2*N_sites+'01') in counts_real.keys():\n",
    "                p01 = counts_real['0'*2*N_sites+'01']/shots_real\n",
    "            if ('0'*2*N_sites+'10') in counts_real.keys():\n",
    "                p10 = counts_real['0'*2*N_sites+'10']/shots_real\n",
    "            if ('0'*2*N_sites+'11') in counts_real.keys():\n",
    "                p11 = counts_real['0'*2*N_sites+'11']/shots_real\n",
    "\n",
    "            X = p00+p11-p01-p10\n",
    "\n",
    "            p00, p01, p10, p11 = 0,0,0,0\n",
    "            if ('0'*2*N_sites+'00') in counts_imag.keys():\n",
    "                p00 = counts_imag['0'*2*N_sites+'00']/shots_imag\n",
    "            if ('0'*2*N_sites+'01') in counts_imag.keys():\n",
    "                p01 = counts_imag['0'*2*N_sites+'01']/shots_imag\n",
    "            if ('0'*2*N_sites+'10') in counts_imag.keys():\n",
    "                p10 = counts_imag['0'*2*N_sites+'10']/shots_imag\n",
    "            if ('0'*2*N_sites+'11') in counts_imag.keys():\n",
    "                p11 = counts_imag['0'*2*N_sites+'11']/shots_imag\n",
    "\n",
    "            Y = p00+p11-p01-p10\n",
    "\n",
    "            lambda_R = U/4*N_sites\n",
    "\n",
    "            Z = 2*(X-1j*Y)*np.exp(-1j*lambda_R*(2*j+1)*tau)\n",
    "            Z_list[j] = Z\n",
    "\n",
    "    return Z_list\n"
   ]
  },
  {
   "cell_type": "code",
   "execution_count": 1425,
   "metadata": {},
   "outputs": [],
   "source": [
    "# ADD NOISE ON CNOTS\n",
    "\n",
    "prob_2 = 0.0002  # 2-qubit gate\n",
    "error_2 = noise.depolarizing_error(prob_2, 2)\n",
    "noise_model = noise.NoiseModel()\n",
    "noise_model.add_all_qubit_quantum_error(error_2, ['cx'])\n",
    "backend = AerSimulator(noise_model=noise_model)"
   ]
  },
  {
   "cell_type": "code",
   "execution_count": 1271,
   "metadata": {},
   "outputs": [],
   "source": [
    "# backend = Aer.get_backend('qasm_simulator')\n",
    "d = 2000\n",
    "N_sites,t,U,step = 4,1,4,2\n",
    "initial_state_symmetry = True\n",
    "# F_list_import = np.load('F_list_d2e4_lim1e4.npy')\n",
    "F_list_import = np.load('F_list_d2e3_lim2e3_delta4.npy')\n",
    "precision = 20000\n",
    "\n",
    "shots_list = get_shots_per_run(F_list=F_list_import, total_shots=10000, type='distribution')\n",
    "\n",
    "hubbard = fermi_hubbard(1, N_sites, t, U, periodic=False,particle_hole_symmetry=True)\n",
    "jw_hamiltonian = jordan_wigner(hubbard)\n",
    "jw_hamiltonian = jordan_wigner(hubbard)\n",
    "fh_matrix = get_sparse_operator(jw_hamiltonian)\n",
    "fh_matrix = fh_matrix.todense()\n",
    "fh_matrix = fh_matrix.real\n",
    "\n",
    "norm = np.linalg.norm(fh_matrix)\n",
    "tau = 3*np.pi/(4*norm)"
   ]
  },
  {
   "cell_type": "code",
   "execution_count": 1272,
   "metadata": {},
   "outputs": [
    {
     "name": "stderr",
     "output_type": "stream",
     "text": [
      "C:\\Users\\1\\AppData\\Local\\Temp\\ipykernel_3456\\1609993911.py:11: DeprecationWarning: Back-references to from Bit instances to their containing Registers have been deprecated. Instead, inspect Registers to find their contained Bits.\n",
      "  index = [qubits[0].index, qubits[1].index]\n"
     ]
    },
    {
     "name": "stdout",
     "output_type": "stream",
     "text": [
      "CPU times: total: 11min 10s\n",
      "Wall time: 2min 14s\n"
     ]
    }
   ],
   "source": [
    "%%time\n",
    "extra_level = 0 # 2*0+1 cnot\n",
    "Z_list_0 = get_new_Z_list(d, N_sites, t, U, tau, step, shots_list, backend, extra_level, initial_state_symmetry)\n",
    "ACDF_0 = Assembly_ACDF(Z_list_0, F_list_import, precision)"
   ]
  },
  {
   "cell_type": "code",
   "execution_count": 1273,
   "metadata": {},
   "outputs": [
    {
     "name": "stderr",
     "output_type": "stream",
     "text": [
      "C:\\Users\\1\\AppData\\Local\\Temp\\ipykernel_3456\\1609993911.py:11: DeprecationWarning: Back-references to from Bit instances to their containing Registers have been deprecated. Instead, inspect Registers to find their contained Bits.\n",
      "  index = [qubits[0].index, qubits[1].index]\n"
     ]
    },
    {
     "name": "stdout",
     "output_type": "stream",
     "text": [
      "CPU times: total: 14min 48s\n",
      "Wall time: 3min 1s\n"
     ]
    }
   ],
   "source": [
    "%%time\n",
    "extra_level = 1 # 2*1+1 cnot\n",
    "Z_list_1 = get_new_Z_list(d, N_sites, t, U, tau, step, shots_list, backend, extra_level, initial_state_symmetry)\n",
    "ACDF_1 = Assembly_ACDF(Z_list_1, F_list_import, precision)"
   ]
  },
  {
   "cell_type": "code",
   "execution_count": 1274,
   "metadata": {},
   "outputs": [
    {
     "name": "stderr",
     "output_type": "stream",
     "text": [
      "C:\\Users\\1\\AppData\\Local\\Temp\\ipykernel_3456\\1609993911.py:11: DeprecationWarning: Back-references to from Bit instances to their containing Registers have been deprecated. Instead, inspect Registers to find their contained Bits.\n",
      "  index = [qubits[0].index, qubits[1].index]\n"
     ]
    },
    {
     "name": "stdout",
     "output_type": "stream",
     "text": [
      "CPU times: total: 18min 33s\n",
      "Wall time: 3min 40s\n"
     ]
    }
   ],
   "source": [
    "%%time \n",
    "extra_level = 2 # 2*2+1 cnot\n",
    "Z_list_2 = get_new_Z_list(d, N_sites, t, U, tau, step, shots_list, backend, extra_level, initial_state_symmetry)\n",
    "ACDF_2 = Assembly_ACDF(Z_list_2, F_list_import, precision)"
   ]
  },
  {
   "cell_type": "code",
   "execution_count": 1303,
   "metadata": {},
   "outputs": [
    {
     "name": "stderr",
     "output_type": "stream",
     "text": [
      "C:\\Users\\1\\AppData\\Local\\Temp\\ipykernel_3456\\1609993911.py:11: DeprecationWarning: Back-references to from Bit instances to their containing Registers have been deprecated. Instead, inspect Registers to find their contained Bits.\n",
      "  index = [qubits[0].index, qubits[1].index]\n"
     ]
    },
    {
     "name": "stdout",
     "output_type": "stream",
     "text": [
      "CPU times: total: 22min 6s\n",
      "Wall time: 4min 12s\n"
     ]
    }
   ],
   "source": [
    "%%time \n",
    "extra_level = 3 # 2*3+1 cnot\n",
    "Z_list_3 = get_new_Z_list(d, N_sites, t, U, tau, step, shots_list, backend, extra_level, initial_state_symmetry)\n",
    "ACDF_3 = Assembly_ACDF(Z_list_3, F_list_import, precision)"
   ]
  },
  {
   "cell_type": "code",
   "execution_count": 1278,
   "metadata": {},
   "outputs": [],
   "source": [
    "CDF = get_real_CDF(N_sites,t,U, tau, precision, initial_state_symmetry)"
   ]
  },
  {
   "cell_type": "code",
   "execution_count": 1417,
   "metadata": {},
   "outputs": [
    {
     "name": "stderr",
     "output_type": "stream",
     "text": [
      "E:\\anaconda3\\lib\\site-packages\\matplotlib\\cbook\\__init__.py:1298: ComplexWarning: Casting complex values to real discards the imaginary part\n",
      "  return np.asarray(x, float)\n",
      "E:\\anaconda3\\lib\\site-packages\\matplotlib\\cbook\\__init__.py:1298: ComplexWarning: Casting complex values to real discards the imaginary part\n",
      "  return np.asarray(x, float)\n",
      "E:\\anaconda3\\lib\\site-packages\\matplotlib\\cbook\\__init__.py:1298: ComplexWarning: Casting complex values to real discards the imaginary part\n",
      "  return np.asarray(x, float)\n",
      "E:\\anaconda3\\lib\\site-packages\\matplotlib\\cbook\\__init__.py:1298: ComplexWarning: Casting complex values to real discards the imaginary part\n",
      "  return np.asarray(x, float)\n"
     ]
    },
    {
     "data": {
      "text/plain": [
       "Text(0.5, 1.0, 'N_sites=4; CNOT gate error = 0.0002')"
      ]
     },
     "execution_count": 1417,
     "metadata": {},
     "output_type": "execute_result"
    },
    {
     "data": {
      "image/png": "[encoded data removed]",
      "text/plain": [
       "<Figure size 432x288 with 1 Axes>"
      ]
     },
     "metadata": {
      "needs_background": "light"
     },
     "output_type": "display_data"
    }
   ],
   "source": [
    "half_nsites_4 = 0.41990430810024304*1/2\n",
    "plt.plot(np.linspace(-pi,pi,precision), ACDF_0, label='ACDF_0')\n",
    "plt.plot(np.linspace(-pi,pi,precision), ACDF_1, label='ACDF_1')\n",
    "plt.plot(np.linspace(-pi,pi,precision), ACDF_2, label='ACDF_2')\n",
    "plt.plot(np.linspace(-pi,pi,precision), ACDF_3, label='ACDF_3')\n",
    "plt.plot(np.linspace(-np.pi/3, np.pi/3, precision), CDF, label='CDF',c='purple', linewidth=3)\n",
    "plt.legend()\n",
    "plt.plot(np.linspace(-np.pi/3, np.pi/3, precision), half_nsites_4 * np.ones(precision), linestyle='-.', c='cyan')\n",
    "plt.xlim([-pi/3, pi/3])\n",
    "plt.xlabel('x')\n",
    "plt.title('N_sites=4; CNOT gate error = 0.0002')\n",
    "# plt.xlim([-0.37,-0.35])"
   ]
  },
  {
   "cell_type": "code",
   "execution_count": 1355,
   "metadata": {},
   "outputs": [],
   "source": [
    "def result_from_ACDF(start_point, ACDF, range_):  # Retrieve the eresult from ACDF\n",
    "    for i in range(7000, int(precision/2)):\n",
    "        if ACDF[i] <= half_nsites_4 and ACDF[i+1] >= half_nsites_4 and np.linspace(-np.pi, np.pi, precision)[i]>=range_:\n",
    "            result = 1/2*(np.linspace(-np.pi, np.pi, precision)[i] + np.linspace(-np.pi, np.pi, precision)[i+1])\n",
    "            break\n",
    "    return result\n",
    "\n",
    "range_ = -0.36    # Estimated minimum leaping point \n",
    "index = 6836"
   ]
  },
  {
   "cell_type": "markdown",
   "metadata": {},
   "source": [
    "## Find result from ACDF_0"
   ]
  },
  {
   "cell_type": "code",
   "execution_count": 1356,
   "metadata": {},
   "outputs": [
    {
     "name": "stdout",
     "output_type": "stream",
     "text": [
      "-0.3323971226059306\n"
     ]
    }
   ],
   "source": [
    "result_0 = result_from_ACDF(7000, ACDF_0, range_)\n",
    "print(result_0)"
   ]
  },
  {
   "cell_type": "markdown",
   "metadata": {},
   "source": [
    "## Find result from ACDF_1"
   ]
  },
  {
   "cell_type": "code",
   "execution_count": 1357,
   "metadata": {},
   "outputs": [
    {
     "name": "stdout",
     "output_type": "stream",
     "text": [
      "-0.3339679974764691\n"
     ]
    }
   ],
   "source": [
    "result_1 = result_from_ACDF(7000, ACDF_1, range_)\n",
    "print(result_1)"
   ]
  },
  {
   "cell_type": "markdown",
   "metadata": {},
   "source": [
    "## Find result from ACDF_2"
   ]
  },
  {
   "cell_type": "code",
   "execution_count": 1358,
   "metadata": {},
   "outputs": [
    {
     "name": "stdout",
     "output_type": "stream",
     "text": [
      "-0.34653499644077645\n"
     ]
    }
   ],
   "source": [
    "result_2 = result_from_ACDF(7000, ACDF_2,range_)\n",
    "print(result_2)"
   ]
  },
  {
   "cell_type": "markdown",
   "metadata": {},
   "source": [
    "## Find result from ACDF_3"
   ]
  },
  {
   "cell_type": "code",
   "execution_count": 1359,
   "metadata": {},
   "outputs": [
    {
     "name": "stdout",
     "output_type": "stream",
     "text": [
      "-0.3572169455604377\n"
     ]
    }
   ],
   "source": [
    "result_3 = result_from_ACDF(7000, ACDF_3,range_)\n",
    "print(result_3)"
   ]
  },
  {
   "cell_type": "code",
   "execution_count": 5,
   "metadata": {},
   "outputs": [],
   "source": [
    "from scipy.optimize import curve_fit\n",
    "error_weight = np.array([1,3,5,7])\n",
    "# final = np.array([result_0, result_1, result_2, result_3])\n",
    "final = np.array([-0.3323971226059306,-0.3339679974764691,-0.34653499644077645,-0.3572169455604377])"
   ]
  },
  {
   "cell_type": "markdown",
   "metadata": {},
   "source": [
    "## Error Mitigation Poly"
   ]
  },
  {
   "cell_type": "code",
   "execution_count": 36,
   "metadata": {},
   "outputs": [
    {
     "name": "stdout",
     "output_type": "stream",
     "text": [
      "mitigated_value = -0.3313878355016092\n",
      "standard_value = -0.33135\n"
     ]
    },
    {
     "data": {
      "image/png": "[encoded data removed]",
      "text/plain": [
       "<Figure size 432x288 with 1 Axes>"
      ]
     },
     "metadata": {
      "needs_background": "light"
     },
     "output_type": "display_data"
    }
   ],
   "source": [
    "# Curve Fitting\n",
    "coeff = np.polyfit(error_weight, final, 2)\n",
    "\n",
    "def func_poly(x, a, b, c):\n",
    "    return a*x**2 + b*x + c\n",
    "\n",
    "x_fit = np.linspace(0,8,100)\n",
    "plt.plot(x_fit, func_poly(x_fit, *coeff), label='Mitigation Curve')\n",
    "mitigated_value = func_poly(0, *coeff)\n",
    "\n",
    "plt.scatter(error_weight, final, c='maroon', label='ACDF Values')\n",
    "\n",
    "\n",
    "# standard_value = 1/2*(np.linspace(-np.pi/3, np.pi/3, precision)[index-1]+np.linspace(-np.pi/3, np.pi/3, precision)[index])\n",
    "standard_value = -0.33135\n",
    "print(f'mitigated_value =', mitigated_value)\n",
    "print(f'standard_value =', standard_value)\n",
    "\n",
    "plt.scatter(0, mitigated_value, c='limegreen',label='Mitigated Value')\n",
    "plt.scatter(0, standard_value, c='darkorange',label='Standard Value')\n",
    "\n",
    "plt.xlim([-4,8.5])\n",
    "plt.ylim([-0.360,-0.325])\n",
    "plt.legend()\n",
    "plt.plot(np.zeros(10), np.linspace(-0.360,-0.325,10), c = 'pink', linestyle='-.')\n",
    "plt.plot(np.linspace(-4,0,10), np.ones(10) * mitigated_value, c = 'pink', linestyle='-.')\n",
    "plt.plot(np.linspace(-4,0,10), np.ones(10) * standard_value, c = 'pink', linestyle='-.')\n",
    "\n",
    "# from matplotlib.pyplot import MultipleLocator\n",
    "# x_major_locator = MultipleLocator(2)\n",
    "# ax = plt.gca()\n",
    "# ax.xaxis.set_major_locator(x_major_locator)\n",
    "plt.xticks([0,1,3,5,7])\n",
    "\n",
    "plt.text(-4,mitigated_value-0.0018, s = 'mitigated=-0.33139')\n",
    "plt.text(-4,standard_value+0.0008, s = 'standard=-0.33135')\n",
    "plt.xlabel('Error Level')\n",
    "plt.ylabel('GS Value')\n",
    "plt.title('Polynomial Fitting')\n",
    "plt.show()"
   ]
  },
  {
   "cell_type": "markdown",
   "metadata": {},
   "source": [
    "## Error Mitigation Expo"
   ]
  },
  {
   "cell_type": "code",
   "execution_count": 38,
   "metadata": {},
   "outputs": [
    {
     "name": "stdout",
     "output_type": "stream",
     "text": [
      "mitigated_value = -0.3319099999999999\n",
      "standard_value = -0.33135\n"
     ]
    },
    {
     "data": {
      "image/png": "[encoded data removed]",
      "text/plain": [
       "<Figure size 432x288 with 1 Axes>"
      ]
     },
     "metadata": {
      "needs_background": "light"
     },
     "output_type": "display_data"
    }
   ],
   "source": [
    "# Curve Fitting\n",
    "\n",
    "# Import from MATLAB CURVE FITTING APP\n",
    "def func_expo(x):\n",
    "    b =    0.0006133  \n",
    "    c =    0.0005289  \n",
    "    d =      -1.33191  \n",
    "    return np.exp(-b*x**2+c*x)+d\n",
    "# Import from MATLAB CURVE FITTING APP\n",
    "\n",
    "\n",
    "x_fit = np.linspace(0,8,100)\n",
    "plt.plot(x_fit, func_expo(x_fit), label='Mitigation Curve')\n",
    "mitigated_value = func_expo(0)\n",
    "\n",
    "\n",
    "\n",
    "plt.scatter(error_weight, final, c='maroon', label='ACDF Values')\n",
    "\n",
    "\n",
    "\n",
    "# standard_value = 1/2*(np.linspace(-np.pi/3, np.pi/3, precision)[index-1]+np.linspace(-np.pi/3, np.pi/3, precision)[index])\n",
    "standard_value = -0.33135\n",
    "print(f'mitigated_value =', mitigated_value)\n",
    "print(f'standard_value =', standard_value)\n",
    "\n",
    "plt.scatter(0, mitigated_value, c='limegreen',label='Mitigated Value')\n",
    "plt.scatter(0, standard_value, c='darkorange',label='Standard Value')\n",
    "\n",
    "plt.xlim([-4,8.5])\n",
    "plt.ylim([-0.360,-0.325])\n",
    "plt.legend()\n",
    "plt.plot(np.zeros(10), np.linspace(-0.360,-0.325,10), c = 'pink', linestyle='-.')\n",
    "plt.plot(np.linspace(-4,0,10), np.ones(10) * mitigated_value, c = 'pink', linestyle='-.')\n",
    "plt.plot(np.linspace(-4,0,10), np.ones(10) * standard_value, c = 'pink', linestyle='-.')\n",
    "\n",
    "# from matplotlib.pyplot import MultipleLocator\n",
    "# x_major_locator = MultipleLocator(2)\n",
    "# ax = plt.gca()\n",
    "# ax.xaxis.set_major_locator(x_major_locator)\n",
    "plt.xticks([0,1,3,5,7])\n",
    "\n",
    "plt.xlabel('Error Level')\n",
    "plt.ylabel('GS Value')\n",
    "plt.text(-4,mitigated_value-0.0018, s = 'mitigated=-0.33191')\n",
    "plt.text(-4,standard_value+0.0008, s = 'standard=-0.33135')\n",
    "plt.title('Exponential Fitting')\n",
    "plt.show()"
   ]
  }
 ],
 "metadata": {
  "kernelspec": {
   "display_name": "Python 3 (ipykernel)",
   "language": "python",
   "name": "python3"
  },
  "language_info": {
   "codemirror_mode": {
    "name": "ipython",
    "version": 3
   },
   "file_extension": ".py",
   "mimetype": "text/x-python",
   "name": "python",
   "nbconvert_exporter": "python",
   "pygments_lexer": "ipython3",
   "version": "3.9.6"
  },
  "vscode": {
   "interpreter": {
    "hash": "31f2aee4e71d21fbe5cf8b01ff0e069b9275f58929596ceb00d14d90e3e16cd6"
   }
  },
  "widgets": {
   "application/vnd.jupyter.widget-state+json": {
    "state": {},
    "version_major": 2,
    "version_minor": 0
   }
  }
 },
 "nbformat": 4,
 "nbformat_minor": 4
}

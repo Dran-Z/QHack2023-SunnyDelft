{
 "cells": [
  {
   "attachments": {},
   "cell_type": "markdown",
   "metadata": {},
   "source": [
    "This is our code written in `AWS Braket`. We have this braket version of code in preparation for real submission to backends on AWS Braket platform. You are recommended to read [this](HA_noiseless_qiskit.ipynb) for the main story of our work."
   ]
  },
  {
   "cell_type": "code",
   "execution_count": 1,
   "metadata": {},
   "outputs": [],
   "source": [
    "# general imports\n",
    "import numpy as np\n",
    "import math\n",
    "import mpmath as mp\n",
    "from math import pi\n",
    "import matplotlib.pyplot as plt\n",
    "# magic word for producing visualizations in notebook\n",
    "%matplotlib inline\n",
    "\n",
    "from scipy.special import iv\n",
    "from scipy.linalg import expm, block_diag\n",
    "from scipy import integrate\n",
    "from openfermion import fermi_hubbard, jordan_wigner, get_sparse_operator\n",
    "from collections import Counter\n",
    "\n",
    "\n",
    "from braket.circuits import Circuit, circuit, Instruction\n",
    "from braket.devices import LocalSimulator\n",
    "\n",
    "from braket.tracking import Tracker\n",
    "\n",
    "from HA_utils import get_real_CDF, get_fh_matrix, Assembly_ACDF"
   ]
  },
  {
   "cell_type": "code",
   "execution_count": 2,
   "metadata": {},
   "outputs": [],
   "source": [
    "tracker = Tracker().start()\n",
    "device = LocalSimulator()"
   ]
  },
  {
   "cell_type": "code",
   "execution_count": 3,
   "metadata": {},
   "outputs": [],
   "source": [
    "def fh_evolution(N_sites, t, U, tau, j, step):\n",
    "    \n",
    "    qc = Circuit()\n",
    "    \n",
    "    for _ in range(step):\n",
    "        \n",
    "        ## Hopping terms \n",
    "        theta = tau*t*j/step\n",
    "        \n",
    "        for i in range(N_sites//2):\n",
    "            qc.xx(2*i,2*i+1,theta)\n",
    "            qc.yy(2*i,2*i+1,theta)\n",
    "\n",
    "            qc.xx(2*i+N_sites,2*i+1+N_sites,theta)\n",
    "            qc.yy(2*i+N_sites,2*i+1+N_sites,theta)\n",
    "            \n",
    "        for i in range((N_sites-1)//2):\n",
    "            qc.xx(2*i+1,2*i+2,theta)\n",
    "            qc.yy(2*i+1,2*i+2,theta)\n",
    "\n",
    "            qc.xx(2*i+N_sites+1,2*i+2+N_sites,theta)\n",
    "            qc.yy(2*i+N_sites+1,2*i+2+N_sites,theta)\n",
    "        \n",
    "        ## Potential\n",
    "        gamma = tau*j*U/(2*step)\n",
    "        \n",
    "        for i in range(N_sites):\n",
    "            qc.zz(i,i+N_sites,gamma)\n",
    "    return qc"
   ]
  },
  {
   "cell_type": "code",
   "execution_count": 4,
   "metadata": {},
   "outputs": [],
   "source": [
    "def czz_gate(angle):\n",
    "    qc = Circuit()\n",
    "    qc.cnot(1,2)\n",
    "    qc.cphaseshift(0,2,angle)\n",
    "    qc.cnot(1,2)\n",
    "    \n",
    "    return qc\n",
    "\n",
    "def cxx_gate(angle):\n",
    "    qc = Circuit()\n",
    "    qc.h([1,2])\n",
    "    qc.cnot(1,2)\n",
    "    qc.cphaseshift(0,2,angle)\n",
    "    qc.cnot(1,2)\n",
    "    qc.h([1,2])\n",
    "    return qc\n",
    "\n",
    "def cyy_gate(angle):\n",
    "    qc = Circuit()\n",
    "    qc.rx([1,2],pi/2)\n",
    "    qc.cnot(1,2)\n",
    "    qc.cphaseshift(0,2,angle)\n",
    "    qc.cnot(1,2)\n",
    "    qc.rx([1,2],-pi/2)\n",
    "    \n",
    "    return qc"
   ]
  },
  {
   "cell_type": "code",
   "execution_count": 5,
   "metadata": {},
   "outputs": [],
   "source": [
    "def get_new_Hadamard_circuit(N_sites, t, U, tau, j, step, initial_state_symmetry=True,test_type='real'):\n",
    "    num_qubits = 2*N_sites+2\n",
    "    qc = Circuit()\n",
    "\n",
    "    qc.h([0,1])\n",
    "\n",
    "    if test_type=='real':\n",
    "        pass\n",
    "    elif test_type=='imag':\n",
    "        qc.s(0)\n",
    "\n",
    "\n",
    "\n",
    "\n",
    "\n",
    "    ## Control-UI gate \n",
    "\n",
    "    if initial_state_symmetry:\n",
    "        for i in range(N_sites):\n",
    "            if i%2!=0:\n",
    "                qc.cnot(0,i+2)\n",
    "            else:\n",
    "                qc.cnot(0, i+2+N_sites)\n",
    "\n",
    "        ## CH(0, 2)\n",
    "        qc.ry(2, -pi/4)\n",
    "        qc.cz(0, 2)\n",
    "        qc.ry(2, pi/4)    \n",
    "\n",
    "        for i in range(2*N_sites-1):\n",
    "            qc.ccnot(0,2, i+3)\n",
    "    else:\n",
    "        for i in range(N_sites):\n",
    "            if i%2!=0:\n",
    "                qc.cnot(0,i+2)\n",
    "            else:\n",
    "                qc.cnot(0, i+2+N_sites)\n",
    "\n",
    "    \n",
    "    ## Control-UR gate, but pass\n",
    "\n",
    "    ## evolution\n",
    "    qc.add_circuit(fh_evolution(N_sites, t, U, tau, j, step), range(2,num_qubits))\n",
    "\n",
    "    # ## Control-UI_dagger gate\n",
    "    # for i in range(N_sites):\n",
    "    #     if i%2!=0:\n",
    "    #         qc.cnot(1,i+2)\n",
    "    #     else:\n",
    "    #         qc.cnot(1, i+2+N_sites)\n",
    "\n",
    "    ## Control-UI_dagger gate(Sym)\n",
    "\n",
    "    if initial_state_symmetry:\n",
    "        for i in range(2*N_sites-1):\n",
    "            qc.ccnot(1,2, i+3)    \n",
    "\n",
    "        qc.ry(2, -pi/4)\n",
    "        qc.cz(1, 2)\n",
    "        qc.ry(2, pi/4)\n",
    "\n",
    "        for i in range(N_sites):\n",
    "            if i%2!=0:\n",
    "                qc.cnot(1,i+2)\n",
    "            else:\n",
    "                qc.cnot(1, i+2+N_sites)\n",
    "    else:\n",
    "        for i in range(N_sites):\n",
    "            if i%2!=0:\n",
    "                qc.cnot(0,i+2)\n",
    "            else:\n",
    "                qc.cnot(0, i+2+N_sites)       \n",
    "\n",
    "\n",
    "    \n",
    "    \n",
    "    qc.h([0,1])\n",
    "\n",
    "    qc.probability(target=range(num_qubits))\n",
    "    return qc"
   ]
  },
  {
   "cell_type": "code",
   "execution_count": 6,
   "metadata": {},
   "outputs": [],
   "source": [
    "def get_new_Z(N_sites, t, U, tau, j, step, shots, initial_state_symmetry):\n",
    "\n",
    "    qc_real = get_new_Hadamard_circuit(N_sites, t, U, tau, j, step, initial_state_symmetry=initial_state_symmetry, test_type='real')\n",
    "    qc_imag = get_new_Hadamard_circuit(N_sites, t, U, tau, j, step, initial_state_symmetry=initial_state_symmetry, test_type='imag')\n",
    "\n",
    "    device = LocalSimulator()\n",
    "    job_real = device.run(qc_real, shots=shots)\n",
    "    job_imag = device.run(qc_imag, shots=shots)\n",
    "    res_real = job_real.result()\n",
    "    res_imag = job_imag.result()\n",
    "\n",
    "    probs_real = res_real.measurement_probabilities\n",
    "    p00, p01, p10, p11 = 0,0,0,0\n",
    "    if ('00'+'0'*2*N_sites) in probs_real.keys():\n",
    "        p00 = probs_real['00'+'0'*2*N_sites]\n",
    "    if ('01'+'0'*2*N_sites) in probs_real.keys():\n",
    "        p01 = probs_real['01'+'0'*2*N_sites]\n",
    "    if ('10'+'0'*2*N_sites) in probs_real.keys():\n",
    "        p10 = probs_real['10'+'0'*2*N_sites]\n",
    "    if ('11'+'0'*2*N_sites) in probs_real.keys():\n",
    "        p11 = probs_real['11'+'0'*2*N_sites]\n",
    "        \n",
    "    X = p00+p11-p01-p10 \n",
    "\n",
    "    probs_imag = res_imag.measurement_probabilities\n",
    "    p00, p01, p10, p11 = 0,0,0,0\n",
    "    if ('00'+'0'*2*N_sites) in probs_imag.keys():\n",
    "        p00 = probs_imag['00'+'0'*2*N_sites]\n",
    "    if ('01'+'0'*2*N_sites) in probs_imag.keys():\n",
    "        p01 = probs_imag['01'+'0'*2*N_sites]\n",
    "    if ('10'+'0'*2*N_sites) in probs_imag.keys():\n",
    "        p10 = probs_imag['10'+'0'*2*N_sites]\n",
    "    if ('11'+'0'*2*N_sites) in probs_imag.keys():\n",
    "        p11 = probs_imag['11'+'0'*2*N_sites]\n",
    "    \n",
    "    Y = p00+p11-p01-p10\n",
    "\n",
    "    lambda_R = U/4*N_sites\n",
    "\n",
    "    Z = 2*(X-1j*Y)*np.exp(-1j*lambda_R*j*tau)\n",
    "    return Z"
   ]
  },
  {
   "cell_type": "code",
   "execution_count": 7,
   "metadata": {},
   "outputs": [],
   "source": [
    "def get_shots_per_run(F_list, total_shots,type='sample'):\n",
    "\n",
    "    F_list_abs = np.array([np.abs(ele) for ele in F_list])\n",
    "    probs = F_list_abs/sum(F_list_abs)\n",
    "    if type=='sample':\n",
    "        sampling = np.random.choice(range(len(probs)), size=int(total_shots), p=probs)\n",
    "        counter = Counter(sampling)\n",
    "\n",
    "        shots_list = np.zeros(len(probs),dtype=int)\n",
    "        for i in range(len(probs)):\n",
    "            shots_list[i] = int(counter[i])\n",
    "    elif type=='distribution':\n",
    "        shots_list = np.round(total_shots*probs)\n",
    "    return shots_list"
   ]
  },
  {
   "cell_type": "code",
   "execution_count": 8,
   "metadata": {},
   "outputs": [],
   "source": [
    "def get_Z_list(d, N_sites, t, U, tau, step, shots_list, initial_state_symmetry): ## shots_per_run should be replaced\n",
    "    \n",
    "    #Z_list = [get_new_Z(N_sites, t, U, tau, 2*j+1, step, shots=shots_list) for j in range(d+1)]\n",
    "\n",
    "    Z_list = np.zeros(d+1,dtype='complex')\n",
    "    for j in range(d+1):\n",
    "        if shots_list[j]:\n",
    "            Z_list[j] = get_new_Z(N_sites, t, U, tau, 2*j+1, step, shots=shots_list[j], initial_state_symmetry=initial_state_symmetry)\n",
    "    return Z_list"
   ]
  },
  {
   "cell_type": "code",
   "execution_count": 10,
   "metadata": {},
   "outputs": [],
   "source": [
    "F_list_import =np.load('F_list/F_list_d2e4_lim1e4.npy')\n",
    "d = 20000"
   ]
  },
  {
   "cell_type": "code",
   "execution_count": 11,
   "metadata": {},
   "outputs": [],
   "source": [
    "N_sites = 4\n",
    "t = 1\n",
    "U = 4\n",
    "step = 10\n",
    "total_shots = 10000\n",
    "precision = 20000\n",
    "initial_state_symmetry = True\n",
    "\n",
    "fh_matrix = get_fh_matrix(N_sites=N_sites, t=t, U=U)\n",
    "tau = pi/(4*np.linalg.norm(fh_matrix))\n",
    "\n"
   ]
  },
  {
   "cell_type": "code",
   "execution_count": 12,
   "metadata": {},
   "outputs": [],
   "source": [
    "shots_list = get_shots_per_run(F_list=F_list_import, total_shots=total_shots)\n",
    "Z_list = get_Z_list(d=d, N_sites=N_sites, t=t, U=U, tau=tau, step=step, shots_list=shots_list, initial_state_symmetry=initial_state_symmetry)\n",
    "ACDF = Assembly_ACDF(Z_list, F_list_import, precision)\n",
    "\n",
    "CDF = get_real_CDF(N_sites=N_sites, t=t,U=U,tau=tau,precision=precision)"
   ]
  },
  {
   "cell_type": "code",
   "execution_count": 13,
   "metadata": {},
   "outputs": [
    {
     "name": "stderr",
     "output_type": "stream",
     "text": [
      "/Users/dranz/Library/Python/3.9/lib/python/site-packages/matplotlib/cbook/__init__.py:1369: ComplexWarning: Casting complex values to real discards the imaginary part\n",
      "  return np.asarray(x, float)\n"
     ]
    },
    {
     "data": {
      "text/plain": [
       "<matplotlib.legend.Legend at 0x297063e20>"
      ]
     },
     "execution_count": 13,
     "metadata": {},
     "output_type": "execute_result"
    },
    {
     "data": {
      "image/png": "[encoded data removed]",
      "text/plain": [
       "<Figure size 640x480 with 1 Axes>"
      ]
     },
     "metadata": {},
     "output_type": "display_data"
    }
   ],
   "source": [
    "plt.plot(np.linspace(-pi,pi,precision), ACDF,label='ACDF')\n",
    "plt.plot(np.linspace(-pi,pi,precision), CDF,label='CDF')\n",
    "plt.legend()"
   ]
  },
  {
   "cell_type": "markdown",
   "metadata": {},
   "source": []
  }
 ],
 "metadata": {
  "kernelspec": {
   "display_name": "Python 3",
   "language": "python",
   "name": "python3"
  },
  "language_info": {
   "codemirror_mode": {
    "name": "ipython",
    "version": 3
   },
   "file_extension": ".py",
   "mimetype": "text/x-python",
   "name": "python",
   "nbconvert_exporter": "python",
   "pygments_lexer": "ipython3",
   "version": "3.9.6"
  },
  "orig_nbformat": 4,
  "vscode": {
   "interpreter": {
    "hash": "31f2aee4e71d21fbe5cf8b01ff0e069b9275f58929596ceb00d14d90e3e16cd6"
   }
  }
 },
 "nbformat": 4,
 "nbformat_minor": 2
}

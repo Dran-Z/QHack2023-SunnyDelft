{
 "cells": [
  {
   "cell_type": "code",
   "execution_count": 1,
   "metadata": {},
   "outputs": [],
   "source": [
    "import numpy as np\n",
    "from scipy import integrate\n",
    "from matplotlib import pyplot as plt\n",
    "import time\n",
    "from math import pi"
   ]
  },
  {
   "cell_type": "code",
   "execution_count": 7,
   "metadata": {},
   "outputs": [],
   "source": [
    "def get_M(x,d,delta):\n",
    "\n",
    "    def get_Tn(x,n):\n",
    "        coef = np.zeros(n+1)\n",
    "        coef[n] = 1\n",
    "        return np.polynomial.chebyshev.chebval(x = x, c=coef)\n",
    "    def integrand(x):\n",
    "        temp = (np.cos(x) - np.cos(delta))/(1 + np.cos(delta) )\n",
    "        #temp = (mp.cos(x) - mp.cos(delta))/(1 + mp.cos(delta))\n",
    "        S = (1 + 2 * temp )\n",
    "        return get_Tn(x=S,n=d)\n",
    "\n",
    "\n",
    "    N, e = integrate.quad(integrand,-np.pi,np.pi, limit=d, points = np.linspace(-np.pi,np.pi,d))\n",
    "    print('error is', e)\n",
    "    #N = mp.quad(integrand, [-pi, pi])\n",
    "    \n",
    "    if d%1000==0:\n",
    "        print('d=', d)\n",
    "    return integrand(x)/N\n",
    "\n",
    "def get_new_F_coefs(d, delta):\n",
    "\n",
    "    d = d*2+2\n",
    "    def get_M_fourier(d,delta):\n",
    "        x = np.arange(-np.pi,np.pi,np.pi/(2*d))\n",
    "\n",
    "        M_list = get_M(x,d,delta)\n",
    "        # M_list = []\n",
    "        # for ele in x:\n",
    "        #      M_list.append(get_M(ele,d,delta))\n",
    "        x_ft = np.fft.fft(M_list)/(4*d)\n",
    "        \n",
    "        for i,ele in enumerate(x_ft):\n",
    "            x_ft[i]*=(-1)**i\n",
    "\n",
    "        return x_ft\n",
    "\n",
    "    def get_H_fourier(k):\n",
    "        if k%2 ==0 and k!=0:\n",
    "            return 0\n",
    "        elif k==0:\n",
    "            return np.sqrt(np.pi/2)\n",
    "        elif k%2 !=0:\n",
    "            return -1j*2/(np.sqrt(2*np.pi)*k)   \n",
    "\n",
    "    x = np.arange(-np.pi,np.pi,np.pi/d)\n",
    "    #M = get_M(x=x,d=d,delta=delta)\n",
    "    M_fourier = get_M_fourier(d,delta)\n",
    "    M_fourier = M_fourier[0:d+1]\n",
    "    H_fourier = np.array([get_H_fourier(k) for k in range(d+1)])\n",
    "    F = np.sqrt(2*np.pi) * M_fourier *H_fourier\n",
    "\n",
    "    F_odd = [1j*F[2*i+1].imag for i in range(d//2)]\n",
    "    return F_odd\n",
    "\n",
    "def get_F_from_M(M_list,d, delta):\n",
    "    \n",
    "    d = d*2+2\n",
    "    def get_M_fourier(d,delta):\n",
    "        x = np.arange(-np.pi,np.pi,np.pi/(2*d))\n",
    "        x_ft = np.fft.fft(M_list)/(4*d)\n",
    "        for i,ele in enumerate(x_ft):\n",
    "            x_ft[i]*=(-1)**i\n",
    "\n",
    "        return x_ft\n",
    "\n",
    "    def get_H_fourier(k):\n",
    "        if k%2 ==0 and k!=0:\n",
    "            return 0\n",
    "        elif k==0:\n",
    "            return np.sqrt(np.pi/2)\n",
    "        elif k%2 !=0:\n",
    "            return -1j*2/(np.sqrt(2*np.pi)*k)   \n",
    "\n",
    "    #x = np.arange(-np.pi,np.pi,10000)\n",
    "    #M = get_M(x=x,d=d,delta=delta)\n",
    "    M_fourier = get_M_fourier(d,delta)\n",
    "    M_fourier = M_fourier[0:d+1]\n",
    "    H_fourier = np.array([get_H_fourier(k) for k in range(d+1)])\n",
    "    print(len(H_fourier))\n",
    "    F = np.sqrt(2*np.pi) * M_fourier *H_fourier\n",
    "\n",
    "    F_odd = [1j*F[2*i+1].imag for i in range(d//2)]\n",
    "    return F_odd\n",
    "\n",
    "def get_new_approx_step_function(d, delta):\n",
    "\n",
    "    x_list = np.linspace(-pi,pi,10000)\n",
    "    F_coefs = get_new_F_coefs(d, delta)\n",
    "\n",
    "    F_approx = 0.5*np.ones(len(x_list))\n",
    "\n",
    "    for j, F in enumerate(F_coefs):\n",
    "        term = 2j*np.sin((2*j+1)*x_list)\n",
    "        F_approx = F_approx + F*term\n",
    "    \n",
    "    return F_approx.real\n",
    "\n",
    "def get_step_from_F(F_list):\n",
    "\n",
    "    d = len(F_list)-1\n",
    "    x_list = np.linspace(-pi,pi, 20000)\n",
    "    F_approx = 0.5*np.ones(len(x_list))\n",
    "    for j, F in enumerate(F_list):\n",
    "        term = 2j*np.sin((2*j+1)*x_list)\n",
    "        F_approx = F_approx + F*term\n",
    "    return F_approx.real"
   ]
  },
  {
   "cell_type": "code",
   "execution_count": null,
   "metadata": {},
   "outputs": [],
   "source": [
    "## It takes a long time if your d is large. Keep in mind!\n",
    "# d=2000\n",
    "# delta = 4/d\n",
    "# F_list = get_new_F_coefs(d=d, delta=delta)\n",
    "# file_name = 'file_name'\n",
    "# np.save('file_name', F_list)"
   ]
  },
  {
   "cell_type": "code",
   "execution_count": 8,
   "metadata": {},
   "outputs": [],
   "source": [
    "F_2e4 = np.load('F_list/F_list_d2e4_lim1e4.npy')\n",
    "step_2e4 = get_step_from_F(F_2e4)\n",
    "x_list = np.linspace(-pi,pi,20000)\n"
   ]
  },
  {
   "cell_type": "code",
   "execution_count": 10,
   "metadata": {},
   "outputs": [
    {
     "data": {
      "text/plain": [
       "(-0.01, 0.01)"
      ]
     },
     "execution_count": 10,
     "metadata": {},
     "output_type": "execute_result"
    },
    {
     "data": {
      "image/png": "[encoded data removed]",
      "text/plain": [
       "<Figure size 640x480 with 1 Axes>"
      ]
     },
     "metadata": {},
     "output_type": "display_data"
    }
   ],
   "source": [
    "plt.plot(x_list, step_2e4)\n",
    "plt.xlim([-0.01,.01])"
   ]
  },
  {
   "cell_type": "code",
   "execution_count": null,
   "metadata": {},
   "outputs": [],
   "source": []
  }
 ],
 "metadata": {
  "kernelspec": {
   "display_name": "Python 3",
   "language": "python",
   "name": "python3"
  },
  "language_info": {
   "codemirror_mode": {
    "name": "ipython",
    "version": 3
   },
   "file_extension": ".py",
   "mimetype": "text/x-python",
   "name": "python",
   "nbconvert_exporter": "python",
   "pygments_lexer": "ipython3",
   "version": "3.9.6"
  },
  "orig_nbformat": 4,
  "vscode": {
   "interpreter": {
    "hash": "31f2aee4e71d21fbe5cf8b01ff0e069b9275f58929596ceb00d14d90e3e16cd6"
   }
  }
 },
 "nbformat": 4,
 "nbformat_minor": 2
}

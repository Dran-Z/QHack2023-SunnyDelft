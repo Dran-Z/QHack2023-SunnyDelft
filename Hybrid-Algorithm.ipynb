{
 "cells": [
  {
   "cell_type": "markdown",
   "id": "ab9f605a",
   "metadata": {},
   "source": []
  },
  {
   "cell_type": "code",
   "execution_count": 237,
   "id": "34aaafd7",
   "metadata": {},
   "outputs": [],
   "source": [
    "# general imports\n",
    "import numpy as np\n",
    "import math\n",
    "from math import pi\n",
    "import matplotlib.pyplot as plt\n",
    "# magic word for producing visualizations in notebook\n",
    "%matplotlib inline\n",
    "\n",
    "from braket.circuits import Circuit, circuit, Instruction\n",
    "from braket.devices import LocalSimulator\n",
    "\n",
    "from braket.tracking import Tracker\n",
    "\n",
    "from scipy.special import iv\n",
    "from scipy.linalg import expm, block_diag"
   ]
  },
  {
   "cell_type": "code",
   "execution_count": 230,
   "id": "0762cf60",
   "metadata": {},
   "outputs": [],
   "source": [
    "from openfermion import fermi_hubbard, jordan_wigner, get_sparse_operator"
   ]
  },
  {
   "cell_type": "code",
   "execution_count": 7,
   "id": "28d4dd0d",
   "metadata": {},
   "outputs": [],
   "source": [
    "tracker = Tracker().start()\n",
    "device = LocalSimulator()"
   ]
  },
  {
   "cell_type": "code",
   "execution_count": 8,
   "id": "c9c40da4",
   "metadata": {},
   "outputs": [],
   "source": [
    "N_sites = 4"
   ]
  },
  {
   "cell_type": "code",
   "execution_count": 233,
   "id": "4a75811f",
   "metadata": {},
   "outputs": [
    {
     "data": {
      "text/plain": [
       "<matplotlib.image.AxesImage at 0x7f5b3e4efc10>"
      ]
     },
     "execution_count": 233,
     "metadata": {},
     "output_type": "execute_result"
    },
    {
     "data": {
      "image/png": "[encoded data removed]",
      "text/plain": [
       "<Figure size 480x480 with 1 Axes>"
      ]
     },
     "metadata": {},
     "output_type": "display_data"
    }
   ],
   "source": [
    "hubbard = fermi_hubbard(1, 4, 1, 4, periodic=False,particle_hole_symmetry=True)\n",
    "jw_hamiltonian = jordan_wigner(hubbard)\n",
    "jw_hamiltonian = jordan_wigner(hubbard)\n",
    "fh_matrix = get_sparse_operator(jw_hamiltonian)\n",
    "fh_matrix = fh_matrix.todense()\n",
    "fh_matrix = fh_matrix.real\n",
    "\n",
    "plt.matshow(fh_matrix)"
   ]
  },
  {
   "cell_type": "code",
   "execution_count": 239,
   "id": "32831ae0",
   "metadata": {},
   "outputs": [
    {
     "name": "stdout",
     "output_type": "stream",
     "text": [
      "T  : |0|\n",
      "        \n",
      "q0 : -U-\n",
      "      | \n",
      "q1 : -U-\n",
      "      | \n",
      "q2 : -U-\n",
      "      | \n",
      "q3 : -U-\n",
      "      | \n",
      "q4 : -U-\n",
      "      | \n",
      "q5 : -U-\n",
      "      | \n",
      "q6 : -U-\n",
      "      | \n",
      "q7 : -U-\n",
      "\n",
      "T  : |0|\n"
     ]
    }
   ],
   "source": [
    "A = Circuit().unitary(matrix=expm(1j*fh_matrix),targets=range(8))\n",
    "print(A)"
   ]
  },
  {
   "cell_type": "code",
   "execution_count": 3,
   "id": "d7d2cb6c",
   "metadata": {},
   "outputs": [],
   "source": [
    "## Get Fermi-Hubbard Hamiltonian\n",
    "\n",
    "def get_fh_Hamiltonian(t, U, N_sites):\n",
    "    \n",
    "    X = np.array([[0, 1], [1, 0]])\n",
    "    Y = np.array([[0,-1j], [1j, 0]])\n",
    "    Z = np.array([[1, 0], [0, -1]])\n",
    "    I = np.eye(2)\n",
    "    \n",
    "    dim = 2**(2*N_sites)\n",
    "    H = np.zeros((dim, dim))\n",
    "    \n",
    "    \n",
    "    return None"
   ]
  },
  {
   "cell_type": "code",
   "execution_count": 217,
   "id": "2f200906",
   "metadata": {},
   "outputs": [],
   "source": [
    "## Get Trotterization Hamiltonian Evolution Gate:\n",
    "\n",
    "def fh_evolution(N_sites, t, U, tau, j, step):\n",
    "    \n",
    "    qc = Circuit()\n",
    "    \n",
    "    for _ in range(step):\n",
    "        \n",
    "        ## Hopping terms \n",
    "        theta = tau*t*j/step\n",
    "        \n",
    "        for i in range(N_sites//2):\n",
    "            qc.xx(2*i,2*i+1,theta)\n",
    "            qc.yy(2*i,2*i+1,theta)\n",
    "\n",
    "            qc.xx(2*i+N_sites,2*i+1+N_sites,theta)\n",
    "            qc.yy(2*i+N_sites,2*i+1+N_sites,theta)\n",
    "            \n",
    "        for i in range((N_sites-1)//2):\n",
    "            qc.xx(2*i+1,2*i+2,theta)\n",
    "            qc.yy(2*i+1,2*i+2,theta)\n",
    "\n",
    "            qc.xx(2*i+N_sites+1,2*i+2+N_sites,theta)\n",
    "            qc.yy(2*i+N_sites+1,2*i+2+N_sites,theta)\n",
    "        \n",
    "        ## Potential\n",
    "        gamma = tau*j*U/(2*step)\n",
    "        \n",
    "        for i in range(N_sites):\n",
    "            qc.zz(i,i+N_sites,gamma)\n",
    "    return qc"
   ]
  },
  {
   "cell_type": "code",
   "execution_count": 218,
   "id": "673656b3",
   "metadata": {},
   "outputs": [
    {
     "name": "stdout",
     "output_type": "stream",
     "text": [
      "T  : |   0    |   1    |            2             |   3    |        4        |\n",
      "                                                                              \n",
      "q0 : -XX(0.50)-YY(0.50)----------ZZ(0.50)-------------------------------------\n",
      "      |        |                 |                                            \n",
      "q1 : -XX(0.50)-YY(0.50)-XX(0.50)-|-----------------YY(0.50)-ZZ(0.50)----------\n",
      "                        |        |                 |        |                 \n",
      "q2 : -XX(0.50)-YY(0.50)-XX(0.50)-|-----------------YY(0.50)-|--------ZZ(0.50)-\n",
      "      |        |                 |                          |        |        \n",
      "q3 : -XX(0.50)-YY(0.50)----------|--------ZZ(0.50)----------|--------|--------\n",
      "                                 |        |                 |        |        \n",
      "q4 : -XX(0.50)-YY(0.50)----------ZZ(0.50)-|-----------------|--------|--------\n",
      "      |        |                          |                 |        |        \n",
      "q5 : -XX(0.50)-YY(0.50)-XX(0.50)----------|--------YY(0.50)-ZZ(0.50)-|--------\n",
      "                        |                 |        |                 |        \n",
      "q6 : -XX(0.50)-YY(0.50)-XX(0.50)----------|--------YY(0.50)----------ZZ(0.50)-\n",
      "      |        |                          |                                   \n",
      "q7 : -XX(0.50)-YY(0.50)-------------------ZZ(0.50)----------------------------\n",
      "\n",
      "T  : |   0    |   1    |            2             |   3    |        4        |\n"
     ]
    }
   ],
   "source": [
    "print(fh_evolution(4, 1, 2, 0.5, 1, 1))"
   ]
  },
  {
   "cell_type": "code",
   "execution_count": 48,
   "id": "b296eb54",
   "metadata": {},
   "outputs": [],
   "source": [
    "def czz_gate(angle):\n",
    "    qc = Circuit()\n",
    "    qc.cnot(1,2)\n",
    "    qc.cphaseshift(0,2,angle)\n",
    "    qc.cnot(1,2)\n",
    "    \n",
    "    return qc\n",
    "\n",
    "def cxx_gate(angle):\n",
    "    qc = Circuit()\n",
    "    qc.h([1,2])\n",
    "    qc.cnot(1,2)\n",
    "    qc.cphaseshift(0,2,angle)\n",
    "    qc.cnot(1,2)\n",
    "    qc.h([1,2])\n",
    "    return qc\n",
    "\n",
    "def cyy_gate(angle):\n",
    "    qc = Circuit()\n",
    "    qc.rx([1,2],pi/2)\n",
    "    qc.cnot(1,2)\n",
    "    qc.cphaseshift(0,2,angle)\n",
    "    qc.cnot(1,2)\n",
    "    qc.rx([1,2],-pi/2)\n",
    "    \n",
    "    return qc"
   ]
  },
  {
   "cell_type": "code",
   "execution_count": 240,
   "id": "f10d25ce",
   "metadata": {},
   "outputs": [
    {
     "name": "stdout",
     "output_type": "stream",
     "text": [
      "T  : |0|     1     |2|\n",
      "                      \n",
      "q0 : ---C-------------\n",
      "        |             \n",
      "q1 : -C-|-----------C-\n",
      "      | |           | \n",
      "q2 : -X-PHASE(0.10)-X-\n",
      "\n",
      "T  : |0|     1     |2|\n"
     ]
    }
   ],
   "source": [
    "print(czz_gate(.1))"
   ]
  },
  {
   "cell_type": "code",
   "execution_count": 221,
   "id": "0f05e1be",
   "metadata": {},
   "outputs": [],
   "source": [
    "## Get circuit for Hadamard Test\n",
    "\n",
    "def get_Hadamard_circuit(N_sites, t, U, tau, j, step, test_type='real'):\n",
    "    \n",
    "    num_qubits = 2*N_sites+1\n",
    "    qc = Circuit()\n",
    "    \n",
    "    qc.h(num_qubits-1)\n",
    "    \n",
    "    ## State Initialization\n",
    "    for i in range(N_sites):\n",
    "        if i%2!=0:\n",
    "            qc.x(i)\n",
    "        else:\n",
    "            qc.x(i+N_sites)\n",
    "            \n",
    "    ## Control-Evolution Gate\n",
    "    \n",
    "    for _ in range(step):\n",
    "        \n",
    "        ## Hopping terms \n",
    "        theta = tau*t*j/step    \n",
    "        for i in range(N_sites//2):\n",
    "            #qc.cxx(num_qubits-1,[2*i,2*i+1],theta)\n",
    "            qc.add_circuit(cxx_gate(theta),[num_qubits-1, 2*i, 2*i+1])\n",
    "            \n",
    "            #qc.cyy(num_qubits-1,[2*i,2*i+1],theta)\n",
    "            qc.add_circuit(cyy_gate(theta),[num_qubits-1, 2*i, 2*i+1])\n",
    "            \n",
    "            #qc.cxx(num_qubits-1,2*i+N_sites,2*i+1+N_sites,theta)\n",
    "            qc.add_circuit(cxx_gate(theta),[num_qubits-1, 2*i+N_sites, 2*i+1+N_sites])\n",
    "            \n",
    "            #qc.cyy(num_qubits-1,2*i+N_sites,2*i+1+N_sites,theta)\n",
    "            qc.add_circuit(cyy_gate(theta),[num_qubits-1, 2*i+N_sites, 2*i+1+N_sites])\n",
    "\n",
    "            \n",
    "            \n",
    "        for i in range((N_sites-1)//2):\n",
    "            #qc.cxx(num_qubits-1,[2*i+1,2*i+2],theta)\n",
    "            qc.add_circuit(cxx_gate(theta),[num_qubits-1, 2*i+1, 2*i+2])\n",
    "            \n",
    "            #qc.cyy(num_qubits-1,[2*i+1,2*i+2],theta)\n",
    "            qc.add_circuit(cyy_gate(theta),[num_qubits-1, 2*i+1, 2*i+2])\n",
    "            \n",
    "            qc.add_circuit(cxx_gate(theta),[num_qubits-1, 2*i+1+N_sites, 2*i+2+N_sites])\n",
    "            qc.add_circuit(cyy_gate(theta),[num_qubits-1, 2*i+1+N_sites, 2*i+2+N_sites])\n",
    "        \n",
    "        ## Potential terms\n",
    "        gamma = tau*U*j/(2*step)\n",
    "        for i in range(N_sites):\n",
    "            qc.add_circuit(czz_gate(gamma),[num_qubits-1, i, i+N_sites])\n",
    "    \n",
    "    if test_type=='real':\n",
    "        pass\n",
    "    elif test_type=='imag':\n",
    "        qc.si(num_qubits-1)\n",
    "    \n",
    "    qc.h(num_qubits-1)\n",
    "    \n",
    "    qc.probability(target=num_qubits-1)\n",
    "    return qc\n"
   ]
  },
  {
   "cell_type": "code",
   "execution_count": 222,
   "id": "2dca4682",
   "metadata": {},
   "outputs": [
    {
     "name": "stdout",
     "output_type": "stream",
     "text": [
      "T  : |0|1|2|     3     |4|5|   6    |7|     8     |     9     |   10    |11|   12   |13|    14     |     15      |   16    |17 |   18   |19|    20     |    21     |   22    |23|   24   |25|    26     |     27      |   28    |29 |   30   |31|    32     |    33     |   34    |35|   36   |37|    38     |     39      |   40    |41 |    42     |    43     |    44     |45|Result Types|\n",
      "                                                                                                                                                                                                                                                                                                                                                                                              \n",
      "q0 : -H---C-------------C-H-Rx(1.57)-C-------------C-----------Rx(-1.57)------------------------------------------------------C---------------------------------------------------------------------------------------------------------------------------------------------------------------------------------------------C-----------------------------------------------------------------\n",
      "          |             |            |             |                                                                          |                                                                                                                                                                                             |                                                                 \n",
      "q1 : -X-H-X-PHASE(0.10)-X-H-Rx(1.57)-X-PHASE(0.10)-X-----------Rx(-1.57)-H----------------------------------------------------|--------------------------------------------------C-------------------------------------C---------H---Rx(1.57)-C--------------C-----------Rx(-1.57)------------------------------------------|---------C---------------C---------------------------------------\n",
      "            |                          |                                                                                      |                                                  |                                     |                      |              |                                                              |         |               |                                       \n",
      "q2 : -H---C-|--------------------------|--------------------------------------------------------------------------C---------H-|-Rx(1.57)-C--------------C-----------Rx(-1.57)-H--X-------------------------PHASE(0.10)-X---------H---Rx(1.57)-X--PHASE(0.10)-X-----------Rx(-1.57)------------------------------------------|---------|-C-------------|-----------C---------------------------\n",
      "          | |                          |                                                                          |           |          |              |                                                  |                                     |                                                                          |         | |             |           |                           \n",
      "q3 : -X-H-X-|--------------------------|--------------------------------------------------------------PHASE(0.10)-X---------H-|-Rx(1.57)-X--PHASE(0.10)-X-----------Rx(-1.57)------------------------------|-----------------------C-------------|--------------------------------------------------------------------------|---------|-|-------------|-----------|-----------C---------------\n",
      "            |                          |                                                              |                       |             |                                                              |                       |             |                                                                          |         | |             |           |           |               \n",
      "q4 : -X-H-C-|--------------------------|-----------------------C---------H--Rx(1.57)-C--------------C-|-----------Rx(-1.57)---X-------------|--------------------------------------------------------------|-----------------------|-------------|--------------------------------------------------------------PHASE(0.20)-X---------|-|-------------|-----------|-----------|---------------\n",
      "          | |                          |                       |                     |              | |                                     |                                                              |                       |             |                                                              |                     | |             |           |           |               \n",
      "q5 : -H---X-|--------------------------|-----------PHASE(0.10)-X---------H--Rx(1.57)-X--PHASE(0.10)-X-|-----------Rx(-1.57)-H---------------|--------------------------------------------------------------|-----------------------|-C-----------|-----------------------C---------H--Rx(1.57)-C--------------C-|-----------Rx(-1.57)-X-|-PHASE(0.20)-X-----------|-----------|---------------\n",
      "            |                          |           |                                    |             |                                     |                                                              |                       | |           |                       |                     |              | |                       | |                       |           |               \n",
      "q6 : -X-H-C-|--------------------------|-----------|------------------------------------|-------------|-------------------------------------|-----------------------C---------H--Rx(1.57)-C--------------C-|-----------Rx(-1.57)-H-|-X-----------|-----------PHASE(0.10)-X---------H--Rx(1.57)-X--PHASE(0.10)-X-|-----------Rx(-1.57)---X-|-----------PHASE(0.20)-X-----------|---------------\n",
      "          | |                          |           |                                    |             |                                     |                       |                     |              | |                       |             |           |                                    |             |                         |           |                       |               \n",
      "q7 : -H---X-|--------------------------|-----------|------------------------------------|-------------|-------------------------------------|-----------PHASE(0.10)-X---------H--Rx(1.57)-X--PHASE(0.10)-X-|-----------Rx(-1.57)---X-------------|-----------|------------------------------------|-------------|-------------------------|-----------|-----------PHASE(0.20)-X---------------\n",
      "            |                          |           |                                    |             |                                     |           |                                    |             |                                     |           |                                    |             |                         |           |           |                           \n",
      "q8 : -H-----C--------------------------C-----------C------------------------------------C-------------C-------------------------------------C-----------C------------------------------------C-------------C-------------------------------------C-----------C------------------------------------C-------------C-------------------------C-----------C-----------C-----------H--Probability--\n",
      "\n",
      "T  : |0|1|2|     3     |4|5|   6    |7|     8     |     9     |   10    |11|   12   |13|    14     |     15      |   16    |17 |   18   |19|    20     |    21     |   22    |23|   24   |25|    26     |     27      |   28    |29 |   30   |31|    32     |    33     |   34    |35|   36   |37|    38     |     39      |   40    |41 |    42     |    43     |    44     |45|Result Types|\n"
     ]
    }
   ],
   "source": [
    "print(get_Hadamard_circuit(N_sites=4, t=1, U=4, tau=.1, j=1, step=1))"
   ]
  },
  {
   "cell_type": "code",
   "execution_count": 90,
   "id": "57a98180",
   "metadata": {},
   "outputs": [],
   "source": [
    "circ = get_Hadamard_circuit(4, 1, 2, .5, 1, 1, test_type='real')\n",
    "job = device.run(circ, shots=1000)\n",
    "res = job.result()\n",
    "prob = res.values[0]"
   ]
  },
  {
   "cell_type": "code",
   "execution_count": 91,
   "id": "073411e0",
   "metadata": {},
   "outputs": [],
   "source": [
    "B = device.run(A, shots=1000)"
   ]
  },
  {
   "cell_type": "code",
   "execution_count": 186,
   "id": "7b07945d",
   "metadata": {},
   "outputs": [
    {
     "data": {
      "text/plain": [
       "[array([0.575, 0.425])]"
      ]
     },
     "execution_count": 186,
     "metadata": {},
     "output_type": "execute_result"
    }
   ],
   "source": [
    "res = B.result()\n"
   ]
  },
  {
   "cell_type": "code",
   "execution_count": 184,
   "id": "06effeeb",
   "metadata": {},
   "outputs": [
    {
     "data": {
      "text/plain": [
       "array([[0, 0, 1, ..., 1, 0, 1],\n",
       "       [0, 0, 1, ..., 0, 1, 0],\n",
       "       [0, 0, 1, ..., 0, 1, 1],\n",
       "       ...,\n",
       "       [0, 0, 1, ..., 1, 0, 1],\n",
       "       [0, 0, 1, ..., 0, 1, 1],\n",
       "       [0, 0, 1, ..., 0, 1, 0]])"
      ]
     },
     "execution_count": 184,
     "metadata": {},
     "output_type": "execute_result"
    }
   ],
   "source": [
    "res.measurements"
   ]
  },
  {
   "cell_type": "code",
   "execution_count": 143,
   "id": "35a42b48",
   "metadata": {},
   "outputs": [],
   "source": [
    "def get_F(beta, j):\n",
    "    \n",
    "    F = -1j*np.sqrt(beta/(2*pi))*np.exp(-beta)*(iv(j,beta)+iv(j+1,beta))/(2*j+1)\n",
    "    #print(np.sqrt(beta/(2*pi)))\n",
    "    #print((iv(j,beta)+iv(j+1,beta))/(2*j+1))\n",
    "    return F"
   ]
  },
  {
   "cell_type": "code",
   "execution_count": 139,
   "id": "253c5fb8",
   "metadata": {},
   "outputs": [],
   "source": [
    "def get_F_coefs(d, beta):\n",
    "    F_list = np.zeros(d+1,dtype='complex128')\n",
    "    \n",
    "    for j in range(d):\n",
    "        F_list[j] = get_F(beta, j)\n",
    "    \n",
    "    F_list[d] = -1j*np.sqrt(.5*beta/pi) * np.exp(-beta) * iv(d,beta)/(2*d+1)\n",
    "    \n",
    "    return F_list"
   ]
  },
  {
   "cell_type": "code",
   "execution_count": 176,
   "id": "89c9d29f",
   "metadata": {},
   "outputs": [],
   "source": [
    "def get_approx_step_function(d, beta):\n",
    "\n",
    "    x_list = np.linspace(-pi,pi,10000)\n",
    "    F_coefs = get_F_coefs(d, beta)\n",
    "\n",
    "    F_approx = 0.5*np.ones(len(x_list))\n",
    "\n",
    "    for j, F in enumerate(F_coefs):\n",
    "        term = 2j*np.sin((2*j+1)*x_list)\n",
    "        F_approx = F_approx + F*term\n",
    "    \n",
    "    return F_approx.real\n"
   ]
  },
  {
   "cell_type": "code",
   "execution_count": 241,
   "id": "a33a8f08",
   "metadata": {},
   "outputs": [
    {
     "data": {
      "text/plain": [
       "<matplotlib.legend.Legend at 0x7f5b3d8a8f50>"
      ]
     },
     "execution_count": 241,
     "metadata": {},
     "output_type": "execute_result"
    },
    {
     "data": {
      "image/png": "[encoded data removed]",
      "text/plain": [
       "<Figure size 2000x500 with 2 Axes>"
      ]
     },
     "metadata": {},
     "output_type": "display_data"
    }
   ],
   "source": [
    "fig, ax = plt.subplots(1,2,figsize=(20,5))\n",
    "ax[0].plot(x_list,list(np.zeros(len(x_list)//2))+list(np.ones(len(x_list)//2)),label='step function')\n",
    "ax[0].plot(x_list,get_approx_step_function(d=10,beta=100),label='approx d=10')\n",
    "ax[0].plot(x_list,get_approx_step_function(d=100,beta=100),label='approx d=100')\n",
    "ax[0].plot(x_list,get_approx_step_function(d=1000,beta=100),label='approx d=1000')\n",
    "ax[0].set_title('Step function approximation (beta=100)')\n",
    "ax[0].legend()\n",
    "ax[0].set_xlim([-.01,.01])\n",
    "\n",
    "ax[1].plot(x_list,list(np.zeros(len(x_list)//2))+list(np.ones(len(x_list)//2)),label='step function')\n",
    "ax[1].plot(x_list,get_approx_step_function(d=10,beta=10),label='approx d=10')\n",
    "ax[1].plot(x_list,get_approx_step_function(d=100,beta=10),label='approx d=100')\n",
    "ax[1].plot(x_list,get_approx_step_function(d=1000,beta=10),label='approx d=1000')\n",
    "ax[1].set_title('Step function approximation (beta=10)')\n",
    "ax[1].set_xlim([-.01,.01])\n",
    "ax[1].legend()"
   ]
  },
  {
   "cell_type": "code",
   "execution_count": 191,
   "id": "d7034f59",
   "metadata": {},
   "outputs": [],
   "source": [
    "def get_Z(N_sites, t, U, tau, j, step, shots):\n",
    "    \n",
    "    qc_real = get_Hadamard_circuit(N_sites, t, U, tau, j, step, test_type='real')\n",
    "    qc_imag = get_Hadamard_circuit(N_sites, t, U, tau, j, step, test_type='imag')\n",
    "    \n",
    "    device = LocalSimulator()\n",
    "    job_real = device.run(qc_real, shots=shots)\n",
    "    job_imag = device.run(qc_imag, shots=shots)\n",
    "    res_real = job_real.result()\n",
    "    res_imag = job_imag.result()\n",
    "    prob_real = res_real.values[0]\n",
    "    prob_imag = res_imag.values[0]\n",
    "    \n",
    "    Z = (prob_real[0]-prob_real[1])+1j*(prob_imag[0]-prob_imag[1])\n",
    "    \n",
    "    return Z"
   ]
  },
  {
   "cell_type": "code",
   "execution_count": 211,
   "id": "af6cee5d",
   "metadata": {},
   "outputs": [],
   "source": [
    "def get_Z_list(d, N_sites, t, U, tau, step, shots_per_run): ## shots_per_run should be replaced\n",
    "    \n",
    "    Z_list = [get_Z(N_sites, t, U, tau, 2*j+1, step, shots=shots_per_run) for j in range(d+1)]\n",
    "    \n",
    "    return Z_list"
   ]
  },
  {
   "cell_type": "code",
   "execution_count": 223,
   "id": "73a82b70",
   "metadata": {},
   "outputs": [
    {
     "data": {
      "text/plain": [
       "[(0.9654576180477493+0.25657016821528034j),\n",
       " (0.7048637984579385+0.696233541422055j),\n",
       " (0.2618628917561368+0.9386340966466541j),\n",
       " (-0.2327925386321853+0.9215745936648871j),\n",
       " (-0.6379876758009042+0.6620127148783397j),\n",
       " (-0.8463475477972526+0.2473936018551347j),\n",
       " (-0.8153505111729642-0.19530730107092054j),\n",
       " (-0.5757279954986785-0.5413146397440294j),\n",
       " (-0.2158300958434316-0.7059544748526572j),\n",
       " (0.15098125335514756-0.6664381581667769j),\n",
       " (0.4235743634094413-0.46177144202253706j),\n",
       " (0.5421329375037663-0.17307608635620264j),\n",
       " (0.5004239292741982+0.10690732770824168j),\n",
       " (0.3393612368330528+0.30367715347821217j),\n",
       " (0.1266344194414502+0.38042147450355235j),\n",
       " (-0.06871654496608282+0.3422388808164553j),\n",
       " (-0.19751925666494208+0.22627772616550063j),\n",
       " (-0.24119677955860097+0.0836037479282925j),\n",
       " (-0.21046274568647044-0.039567108222104186j),\n",
       " (-0.13490844379630085-0.11486513630810369j),\n",
       " (-0.04898826790855504-0.13589747768390348j)]"
      ]
     },
     "execution_count": 223,
     "metadata": {},
     "output_type": "execute_result"
    }
   ],
   "source": [
    "get_Z_list(d=20,N_sites=4, t=1, U=4, tau=0.0185533,step=1, shots_per_run=0)"
   ]
  },
  {
   "cell_type": "code",
   "execution_count": 227,
   "id": "895d2b1e",
   "metadata": {},
   "outputs": [
    {
     "data": {
      "text/plain": [
       "(0.9999999999999958+0j)"
      ]
     },
     "execution_count": 227,
     "metadata": {},
     "output_type": "execute_result"
    }
   ],
   "source": [
    "get_Z(4, 1, 4, .5, 0, 1, 0)"
   ]
  },
  {
   "cell_type": "code",
   "execution_count": null,
   "id": "f013570f",
   "metadata": {},
   "outputs": [],
   "source": []
  },
  {
   "cell_type": "markdown",
   "id": "5d8d6396",
   "metadata": {},
   "source": [
    "\\begin{equation}\n",
    "ACDF(x) = 0.5+\\sum^d_{j=0} F_j e^{i(2j+1)x} Z_j\n",
    "\\end{equation}\n"
   ]
  },
  {
   "cell_type": "code",
   "execution_count": 224,
   "id": "7408e604",
   "metadata": {},
   "outputs": [],
   "source": [
    "def Assembly_ACDF(Z_list, F_list, precision):\n",
    "    \n",
    "    ACDF = .5*np.ones(precision)\n",
    "    x_list = np.linspace(-pi,pi,precision)\n",
    "    d = len(F_list)-1\n",
    "    \n",
    "    for j in range(d+1):\n",
    "        ACDF = ACDF + F_list[j]*Z_list[j]*np.exp(1j*(2*j+1)*x_list)\n",
    "    \n",
    "    return ACDF"
   ]
  },
  {
   "cell_type": "code",
   "execution_count": 225,
   "id": "1a62f851",
   "metadata": {},
   "outputs": [],
   "source": [
    "Z_list = get_Z_list(50, 4, 1, 4, .1, 1, 0)\n",
    "F_list = get_F_coefs(d=50, beta=10)\n",
    "ACDF = Assembly_ACDF(Z_list, F_list, 10000)"
   ]
  },
  {
   "cell_type": "code",
   "execution_count": 226,
   "id": "b466beb0",
   "metadata": {},
   "outputs": [
    {
     "name": "stderr",
     "output_type": "stream",
     "text": [
      "/home/ec2-user/anaconda3/envs/Braket/lib/python3.7/site-packages/matplotlib/cbook/__init__.py:1317: ComplexWarning: Casting complex values to real discards the imaginary part\n",
      "  return np.asarray(x, float)\n"
     ]
    },
    {
     "data": {
      "text/plain": [
       "[<matplotlib.lines.Line2D at 0x7f5b45e01090>]"
      ]
     },
     "execution_count": 226,
     "metadata": {},
     "output_type": "execute_result"
    },
    {
     "data": {
      "image/png": "[encoded data removed]",
      "text/plain": [
       "<Figure size 640x480 with 1 Axes>"
      ]
     },
     "metadata": {},
     "output_type": "display_data"
    }
   ],
   "source": [
    "plt.plot(ACDF)"
   ]
  },
  {
   "cell_type": "code",
   "execution_count": 210,
   "id": "1f784e33",
   "metadata": {},
   "outputs": [
    {
     "data": {
      "text/plain": [
       "[(0.9999999999999958+0j),\n",
       " (0.168249345854326-0.5687694384517226j),\n",
       " (-0.0715066231190622-0.04636209333428043j),\n",
       " (-1.902070972403802e-05+1.6281602004397655e-05j),\n",
       " (0.012238660709607774+0.02737985374915264j),\n",
       " (0.4083231750021493-0.054521926461663095j),\n",
       " (0.14816883521372426-0.94907046256521j),\n",
       " (-0.694978417014831-0.32929100435195957j),\n",
       " (-0.12174457316904619+0.13601485490341503j),\n",
       " (0.0010372259870545242+0.0016800729208182874j),\n",
       " (0.006247665978555472-0.0016987442031260458j),\n",
       " (0.00558076058392637-0.25215599607111966j),\n",
       " (-0.8095027986673714-0.2590735908893518j),\n",
       " (-0.511601445760002+0.7520736979429934j),\n",
       " (0.20458925667368455+0.24999987133667367j),\n",
       " (0.01330776073454476-0.00559858759166143j),\n",
       " (-4.947334408400561e-05-0.0004454409191381181j),\n",
       " (-0.12929496487754588-0.023127012663110902j),\n",
       " (-0.308795709532082+0.616109326946547j),\n",
       " (0.7219492617505345+0.6755658063872931j),\n",
       " (0.42742884912854395-0.25099216794779267j),\n",
       " (-0.012321972421327154-0.049630462253156815j),\n",
       " (-3.832671957582079e-10-1.697342266737678e-11j),\n",
       " (-0.01777658916728253+0.05158413052008726j),\n",
       " (0.4128479344345085+0.29441136158783265j),\n",
       " (0.7808000797917771-0.6106329542921913j),\n",
       " (-0.24905504062669015-0.6306916499339015j),\n",
       " (-0.12477680189199408+0.011069668407196032j),\n",
       " (-6.915173023380738e-05+0.0003426724825899563j),\n",
       " (0.014025808755807945+0.007422532016201966j),\n",
       " (0.23290233471459443-0.2381068251198573j),\n",
       " (-0.4465123993388969-0.8004424590693224j),\n",
       " (-0.8205957993172885+0.1845572318589324j),\n",
       " (-0.016146788052655126+0.24286953966762304j),\n",
       " (0.00537728042894392+0.0019872513449957774j),\n",
       " (0.0013877639143443088-0.001857669168875531j),\n",
       " (-0.11377433989920838-0.15230859501223543j),\n",
       " (-0.7308671013330419+0.2700774119668746j),\n",
       " (0.06336139089836806+0.9534752770104599j),\n",
       " (0.39131843923045195+0.08802240696573549j),\n",
       " (0.013510963228057782-0.024218772918774722j),\n",
       " (-2.8020545021045784e-05-2.8648426264488158e-05j),\n",
       " (-0.07955286655936167+0.0420967272116311j),\n",
       " (0.11957910320960474+0.5926509598851396j),\n",
       " (0.9959290990532941+0.08838486171632409j),\n",
       " (0.213651968620856-0.5409913528866164j),\n",
       " (-0.06349260282914398-0.04965814568439003j),\n",
       " (-1.195752905874814e-05+8.526645365936059e-06j),\n",
       " (0.010546851838032278+0.030607864234440063j),\n",
       " (0.42247172140887124-0.018696840465438624j),\n",
       " (0.2326194738700646-0.9368243700238199j)]"
      ]
     },
     "execution_count": 210,
     "metadata": {},
     "output_type": "execute_result"
    }
   ],
   "source": [
    "Z_list"
   ]
  },
  {
   "cell_type": "code",
   "execution_count": null,
   "id": "283e08c0",
   "metadata": {},
   "outputs": [],
   "source": [
    "Z"
   ]
  }
 ],
 "metadata": {
  "kernelspec": {
   "display_name": "conda_braket",
   "language": "python",
   "name": "conda_braket"
  },
  "language_info": {
   "codemirror_mode": {
    "name": "ipython",
    "version": 3
   },
   "file_extension": ".py",
   "mimetype": "text/x-python",
   "name": "python",
   "nbconvert_exporter": "python",
   "pygments_lexer": "ipython3",
   "version": "3.7.12"
  }
 },
 "nbformat": 4,
 "nbformat_minor": 5
}

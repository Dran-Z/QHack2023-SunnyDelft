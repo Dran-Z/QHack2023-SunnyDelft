{
 "cells": [
  {
   "cell_type": "markdown",
   "id": "ab9f605a",
   "metadata": {},
   "source": []
  },
  {
   "cell_type": "code",
   "execution_count": 1,
   "id": "34aaafd7",
   "metadata": {},
   "outputs": [],
   "source": [
    "# general imports\n",
    "import numpy as np\n",
    "import math\n",
    "from math import pi\n",
    "import matplotlib.pyplot as plt\n",
    "# magic word for producing visualizations in notebook\n",
    "%matplotlib inline\n",
    "\n",
    "from braket.circuits import Circuit, circuit, Instruction\n",
    "from braket.devices import LocalSimulator\n",
    "\n",
    "from braket.tracking import Tracker\n",
    "\n",
    "from scipy.special import iv\n",
    "from scipy.linalg import expm, block_diag\n",
    "from openfermion import fermi_hubbard, jordan_wigner, get_sparse_operator"
   ]
  },
  {
   "cell_type": "code",
   "execution_count": 2,
   "id": "28d4dd0d",
   "metadata": {},
   "outputs": [],
   "source": [
    "tracker = Tracker().start()\n",
    "device = LocalSimulator()"
   ]
  },
  {
   "cell_type": "code",
   "execution_count": 3,
   "id": "c9c40da4",
   "metadata": {},
   "outputs": [],
   "source": [
    "N_sites = 4"
   ]
  },
  {
   "cell_type": "code",
   "execution_count": 4,
   "id": "4a75811f",
   "metadata": {},
   "outputs": [
    {
     "data": {
      "text/plain": [
       "<matplotlib.image.AxesImage at 0x29d0ea6a0>"
      ]
     },
     "execution_count": 4,
     "metadata": {},
     "output_type": "execute_result"
    },
    {
     "data": {
      "image/png": "[encoded data removed]",
      "text/plain": [
       "<Figure size 480x480 with 1 Axes>"
      ]
     },
     "metadata": {},
     "output_type": "display_data"
    }
   ],
   "source": [
    "hubbard = fermi_hubbard(1, 4, 1, 4, periodic=False,particle_hole_symmetry=True)\n",
    "jw_hamiltonian = jordan_wigner(hubbard)\n",
    "jw_hamiltonian = jordan_wigner(hubbard)\n",
    "fh_matrix = get_sparse_operator(jw_hamiltonian)\n",
    "fh_matrix = fh_matrix.todense()\n",
    "fh_matrix = fh_matrix.real\n",
    "\n",
    "plt.matshow(fh_matrix)"
   ]
  },
  {
   "cell_type": "code",
   "execution_count": 156,
   "id": "34eedc76",
   "metadata": {},
   "outputs": [],
   "source": [
    "norm = np.linalg.norm(fh_matrix)\n",
    "tau = np.pi/(4*norm)"
   ]
  },
  {
   "cell_type": "code",
   "execution_count": 152,
   "id": "92d67b6b",
   "metadata": {},
   "outputs": [],
   "source": [
    "def get_real_CDF(N_sites, t, U, precision):\n",
    "    norm = np.linalg.norm(fh_matrix)\n",
    "    tau = np.pi/(4*norm)\n",
    "    \n",
    "    Ndim = 2**(2*N_sites)\n",
    "    energy, eigenstate= np.linalg.eig(tau*fh_matrix)\n",
    "\n",
    "    hf_state = np.zeros(Ndim)\n",
    "    hf_index = 0\n",
    "    for i in range(N_sites):\n",
    "        if i%2==0:\n",
    "            hf_index += 2**(2*i)\n",
    "        elif i%2!=0:\n",
    "            hf_index += 2**(2*i+1)\n",
    "\n",
    "    hf_state[hf_index] = 1\n",
    "        \n",
    "\n",
    "    energy=energy.real\n",
    "    eigenstate[np.abs(eigenstate)<1e-10]=0\n",
    "    eigenstate = np.array(eigenstate)\n",
    "\n",
    "    prob_raw = np.zeros(Ndim)\n",
    "    for i in range(Ndim):\n",
    "        prob_raw[i] = np.abs(np.dot(hf_state,eigenstate[:,i]))**2\n",
    "    prob = []\n",
    "    ener = []\n",
    "    for i,ele in enumerate(prob_raw):\n",
    "        if ele!=0:\n",
    "            prob.append(ele)\n",
    "            ener.append(energy[i].real)\n",
    "\n",
    "    x_list = np.linspace(-np.pi/3, np.pi/3, precision)\n",
    "    CDF = np.zeros(len(x_list))\n",
    "\n",
    "    for j,ener_ele in enumerate(ener):\n",
    "        for i,x_ele in enumerate(x_list):\n",
    "            if x_ele>ener_ele:\n",
    "                CDF[i] += prob[j]\n",
    "\n",
    "    return CDF"
   ]
  },
  {
   "cell_type": "code",
   "execution_count": 155,
   "id": "32831ae0",
   "metadata": {},
   "outputs": [
    {
     "data": {
      "text/plain": [
       "[<matplotlib.lines.Line2D at 0x2a67e0640>]"
      ]
     },
     "execution_count": 155,
     "metadata": {},
     "output_type": "execute_result"
    },
    {
     "data": {
      "image/png": "[encoded data removed]",
      "text/plain": [
       "<Figure size 640x480 with 1 Axes>"
      ]
     },
     "metadata": {},
     "output_type": "display_data"
    }
   ],
   "source": []
  },
  {
   "cell_type": "code",
   "execution_count": 6,
   "id": "d7d2cb6c",
   "metadata": {},
   "outputs": [],
   "source": [
    "## Get Fermi-Hubbard Hamiltonian\n",
    "\n",
    "def get_fh_Hamiltonian(t, U, N_sites):\n",
    "    \n",
    "    X = np.array([[0, 1], [1, 0]])\n",
    "    Y = np.array([[0,-1j], [1j, 0]])\n",
    "    Z = np.array([[1, 0], [0, -1]])\n",
    "    I = np.eye(2)\n",
    "    \n",
    "    dim = 2**(2*N_sites)\n",
    "    H = np.zeros((dim, dim))\n",
    "    \n",
    "    \n",
    "    return None"
   ]
  },
  {
   "cell_type": "code",
   "execution_count": 7,
   "id": "2f200906",
   "metadata": {},
   "outputs": [],
   "source": [
    "## Get Trotterization Hamiltonian Evolution Gate:\n",
    "\n",
    "def fh_evolution(N_sites, t, U, tau, j, step):\n",
    "    \n",
    "    qc = Circuit()\n",
    "    \n",
    "    for _ in range(step):\n",
    "        \n",
    "        ## Hopping terms \n",
    "        theta = tau*t*j/step\n",
    "        \n",
    "        for i in range(N_sites//2):\n",
    "            qc.xx(2*i,2*i+1,theta)\n",
    "            qc.yy(2*i,2*i+1,theta)\n",
    "\n",
    "            qc.xx(2*i+N_sites,2*i+1+N_sites,theta)\n",
    "            qc.yy(2*i+N_sites,2*i+1+N_sites,theta)\n",
    "            \n",
    "        for i in range((N_sites-1)//2):\n",
    "            qc.xx(2*i+1,2*i+2,theta)\n",
    "            qc.yy(2*i+1,2*i+2,theta)\n",
    "\n",
    "            qc.xx(2*i+N_sites+1,2*i+2+N_sites,theta)\n",
    "            qc.yy(2*i+N_sites+1,2*i+2+N_sites,theta)\n",
    "        \n",
    "        ## Potential\n",
    "        gamma = tau*j*U/(2*step)\n",
    "        \n",
    "        for i in range(N_sites):\n",
    "            qc.zz(i,i+N_sites,gamma)\n",
    "    return qc"
   ]
  },
  {
   "cell_type": "code",
   "execution_count": 8,
   "id": "673656b3",
   "metadata": {},
   "outputs": [
    {
     "name": "stdout",
     "output_type": "stream",
     "text": [
      "T  : |   0    |   1    |            2             |   3    |        4        |\n",
      "                                                                              \n",
      "q0 : -XX(0.50)-YY(0.50)----------ZZ(0.50)-------------------------------------\n",
      "      |        |                 |                                            \n",
      "q1 : -XX(0.50)-YY(0.50)-XX(0.50)-|-----------------YY(0.50)-ZZ(0.50)----------\n",
      "                        |        |                 |        |                 \n",
      "q2 : -XX(0.50)-YY(0.50)-XX(0.50)-|-----------------YY(0.50)-|--------ZZ(0.50)-\n",
      "      |        |                 |                          |        |        \n",
      "q3 : -XX(0.50)-YY(0.50)----------|--------ZZ(0.50)----------|--------|--------\n",
      "                                 |        |                 |        |        \n",
      "q4 : -XX(0.50)-YY(0.50)----------ZZ(0.50)-|-----------------|--------|--------\n",
      "      |        |                          |                 |        |        \n",
      "q5 : -XX(0.50)-YY(0.50)-XX(0.50)----------|--------YY(0.50)-ZZ(0.50)-|--------\n",
      "                        |                 |        |                 |        \n",
      "q6 : -XX(0.50)-YY(0.50)-XX(0.50)----------|--------YY(0.50)----------ZZ(0.50)-\n",
      "      |        |                          |                                   \n",
      "q7 : -XX(0.50)-YY(0.50)-------------------ZZ(0.50)----------------------------\n",
      "\n",
      "T  : |   0    |   1    |            2             |   3    |        4        |\n"
     ]
    }
   ],
   "source": [
    "print(fh_evolution(4, 1, 2, 0.5, 1, 1))"
   ]
  },
  {
   "cell_type": "code",
   "execution_count": 9,
   "id": "b296eb54",
   "metadata": {},
   "outputs": [],
   "source": [
    "def czz_gate(angle):\n",
    "    qc = Circuit()\n",
    "    qc.cnot(1,2)\n",
    "    qc.cphaseshift(0,2,angle)\n",
    "    qc.cnot(1,2)\n",
    "    \n",
    "    return qc\n",
    "\n",
    "def cxx_gate(angle):\n",
    "    qc = Circuit()\n",
    "    qc.h([1,2])\n",
    "    qc.cnot(1,2)\n",
    "    qc.cphaseshift(0,2,angle)\n",
    "    qc.cnot(1,2)\n",
    "    qc.h([1,2])\n",
    "    return qc\n",
    "\n",
    "def cyy_gate(angle):\n",
    "    qc = Circuit()\n",
    "    qc.rx([1,2],pi/2)\n",
    "    qc.cnot(1,2)\n",
    "    qc.cphaseshift(0,2,angle)\n",
    "    qc.cnot(1,2)\n",
    "    qc.rx([1,2],-pi/2)\n",
    "    \n",
    "    return qc"
   ]
  },
  {
   "cell_type": "code",
   "execution_count": 10,
   "id": "f10d25ce",
   "metadata": {},
   "outputs": [
    {
     "name": "stdout",
     "output_type": "stream",
     "text": [
      "T  : |0|     1     |2|\n",
      "                      \n",
      "q0 : ---C-------------\n",
      "        |             \n",
      "q1 : -C-|-----------C-\n",
      "      | |           | \n",
      "q2 : -X-PHASE(0.10)-X-\n",
      "\n",
      "T  : |0|     1     |2|\n"
     ]
    }
   ],
   "source": [
    "print(czz_gate(.1))"
   ]
  },
  {
   "cell_type": "code",
   "execution_count": 29,
   "id": "0f05e1be",
   "metadata": {},
   "outputs": [],
   "source": [
    "## Get circuit for Hadamard Test\n",
    "\n",
    "def get_Hadamard_circuit(N_sites, t, U, tau, j, step, test_type='real'):\n",
    "    \n",
    "    num_qubits = 2*N_sites+1\n",
    "    qc = Circuit()\n",
    "    \n",
    "    qc.h(0)\n",
    "    \n",
    "    ## State Initialization\n",
    "    for i in range(N_sites):\n",
    "        if i%2!=0:\n",
    "            qc.x(i+1)\n",
    "        else:\n",
    "            qc.x(i+1+N_sites)\n",
    "            \n",
    "    ## Control-Evolution Gate\n",
    "    \n",
    "    for _ in range(step):\n",
    "        \n",
    "        ## Hopping terms \n",
    "        theta = tau*t*j/step    \n",
    "        for i in range(N_sites//2):\n",
    "            #qc.cxx(num_qubits-1,[2*i,2*i+1],theta)\n",
    "            qc.add_circuit(cxx_gate(theta),[0, 2*i+1, 2*i+2])\n",
    "            \n",
    "            #qc.cyy(num_qubits-1,[2*i,2*i+1],theta)\n",
    "            qc.add_circuit(cyy_gate(theta),[0, 2*i+1, 2*i+2])\n",
    "            \n",
    "            #qc.cxx(num_qubits-1,2*i+N_sites,2*i+1+N_sites,theta)\n",
    "            qc.add_circuit(cxx_gate(theta),[0, 2*i+1+N_sites, 2*i+2+N_sites])\n",
    "            \n",
    "            #qc.cyy(num_qubits-1,2*i+N_sites,2*i+1+N_sites,theta)\n",
    "            qc.add_circuit(cyy_gate(theta),[0, 2*i+1+N_sites, 2*i+2+N_sites])\n",
    "\n",
    "            \n",
    "            \n",
    "        for i in range((N_sites-1)//2):\n",
    "            #qc.cxx(num_qubits-1,[2*i+1,2*i+2],theta)\n",
    "            qc.add_circuit(cxx_gate(theta),[0, 2*i+2, 2*i+3])\n",
    "            \n",
    "            #qc.cyy(num_qubits-1,[2*i+1,2*i+2],theta)\n",
    "            qc.add_circuit(cyy_gate(theta),[0, 2*i+2, 2*i+3])\n",
    "            \n",
    "            qc.add_circuit(cxx_gate(theta),[0, 2*i+2+N_sites, 2*i+3+N_sites])\n",
    "            qc.add_circuit(cyy_gate(theta),[0, 2*i+2+N_sites, 2*i+3+N_sites])\n",
    "        \n",
    "        ## Potential terms\n",
    "        gamma = tau*U*j/(2*step)\n",
    "        for i in range(N_sites):\n",
    "            qc.add_circuit(czz_gate(gamma),[0, i+1, i+1+N_sites])\n",
    "    \n",
    "    if test_type=='real':\n",
    "        pass\n",
    "    elif test_type=='imag':\n",
    "        qc.si(0)\n",
    "    \n",
    "    qc.h(0)\n",
    "    \n",
    "    qc.probability(target=0)\n",
    "    return qc\n"
   ]
  },
  {
   "cell_type": "code",
   "execution_count": 62,
   "id": "e42bb244",
   "metadata": {},
   "outputs": [],
   "source": [
    "def get_new_Hadamard_circuit(N_sites, t, U, tau, j, step, test_type='real'):\n",
    "    num_qubits = 2*N_sites+2\n",
    "    qc = Circuit()\n",
    "\n",
    "    qc.h([0,1])\n",
    "\n",
    "    if test_type=='real':\n",
    "        pass\n",
    "    elif test_type=='imag':\n",
    "        qc.s(0)\n",
    "\n",
    "    ## Control-UI gate\n",
    "    for i in range(N_sites):\n",
    "        if i%2!=0:\n",
    "            qc.cnot(0,i+2)\n",
    "        else:\n",
    "            qc.cnot(0, i+2+N_sites)\n",
    "\n",
    "    ## Control-UR gate, but pass\n",
    "\n",
    "    ## evolution\n",
    "    qc.add_circuit(fh_evolution(N_sites, t, U, tau, j, step), range(2,num_qubits))\n",
    "\n",
    "    ## Control-UI_dagger gate\n",
    "    for i in range(N_sites):\n",
    "        if i%2!=0:\n",
    "            qc.cnot(1,i+2)\n",
    "        else:\n",
    "            qc.cnot(1, i+2+N_sites)\n",
    "\n",
    "    qc.h([0,1])\n",
    "\n",
    "    qc.probability(target=range(num_qubits))\n",
    "    return qc"
   ]
  },
  {
   "cell_type": "code",
   "execution_count": 66,
   "id": "a6dffe72",
   "metadata": {},
   "outputs": [],
   "source": [
    "job = device.run(get_new_Hadamard_circuit(4, 1, 4, 0.5, 1, 1),shots=1000)\n",
    "res = job.result()"
   ]
  },
  {
   "cell_type": "code",
   "execution_count": 67,
   "id": "4f245f01",
   "metadata": {},
   "outputs": [
    {
     "data": {
      "text/plain": [
       "GateModelQuantumTaskResult(task_metadata=TaskMetadata(braketSchemaHeader=BraketSchemaHeader(name='braket.task_result.task_metadata', version='1'), id='d338228d-5558-4045-8492-cb00fccfaa4a', shots=1000, deviceId='braket_sv', deviceParameters=None, createdAt=None, endedAt=None, status=None, failureReason=None), additional_metadata=AdditionalMetadata(action=Program(braketSchemaHeader=BraketSchemaHeader(name='braket.ir.openqasm.program', version='1'), source='OPENQASM 3.0;\\nqubit[10] q;\\nh q[0];\\nh q[1];\\ncnot q[0], q[6];\\ncnot q[0], q[3];\\ncnot q[0], q[8];\\ncnot q[0], q[5];\\nxx(0.5) q[2], q[3];\\nyy(0.5) q[2], q[3];\\nxx(0.5) q[6], q[7];\\nyy(0.5) q[6], q[7];\\nxx(0.5) q[4], q[5];\\nyy(0.5) q[4], q[5];\\nxx(0.5) q[8], q[9];\\nyy(0.5) q[8], q[9];\\nxx(0.5) q[3], q[4];\\nyy(0.5) q[3], q[4];\\nxx(0.5) q[7], q[8];\\nyy(0.5) q[7], q[8];\\nzz(1.0) q[2], q[6];\\nzz(1.0) q[3], q[7];\\nzz(1.0) q[4], q[8];\\nzz(1.0) q[5], q[9];\\ncnot q[1], q[6];\\ncnot q[1], q[3];\\ncnot q[1], q[8];\\ncnot q[1], q[5];\\nh q[0];\\nh q[1];\\n#pragma braket result probability q[0], q[1], q[2], q[3], q[4], q[5], q[6], q[7], q[8], q[9]', inputs={}), dwaveMetadata=None, rigettiMetadata=None, oqcMetadata=None, xanaduMetadata=None, queraMetadata=None, simulatorMetadata=None), result_types=[ResultTypeValue(type=Probability(targets=[0, 1, 2, 3, 4, 5, 6, 7, 8, 9], type=<Type.probability: 'probability'>), value=array([0.037, 0.   , 0.   , ..., 0.   , 0.   , 0.001]))], values=[array([0.037, 0.   , 0.   , ..., 0.   , 0.   , 0.001])], measurements=array([[1, 0, 0, ..., 0, 0, 0],\n",
       "       [1, 0, 0, ..., 0, 1, 0],\n",
       "       [1, 0, 0, ..., 0, 1, 0],\n",
       "       ...,\n",
       "       [1, 1, 0, ..., 1, 0, 0],\n",
       "       [1, 0, 0, ..., 0, 0, 0],\n",
       "       [1, 1, 0, ..., 1, 1, 0]]), measured_qubits=[0, 1, 2, 3, 4, 5, 6, 7, 8, 9], measurement_counts=Counter({'0100000000': 115, '1001011010': 109, '0101011010': 109, '1000000000': 95, '1101011010': 47, '1100000000': 38, '0000000000': 37, '0001011010': 35, '1100000011': 10, '1101010110': 10, '0111000000': 9, '0001101100': 9, '0000001100': 8, '1101100110': 8, '1001101100': 8, '0001011001': 8, '0101010110': 8, '1100110000': 8, '1000110110': 8, '1100001100': 8, '1101011001': 8, '1100111010': 8, '0000110110': 8, '0011000000': 7, '0001101010': 7, '0101101010': 7, '0110011010': 7, '1001010110': 7, '0001100000': 6, '0001010110': 6, '1000000011': 6, '0000110000': 6, '1111000000': 6, '0111000011': 6, '1011000000': 5, '1100111100': 5, '1100000110': 5, '1000110011': 5, '0100001100': 5, '1000111010': 5, '1101101010': 5, '1110011010': 5, '0101011001': 5, '0100000110': 5, '0100000011': 5, '0100110000': 4, '0101100011': 4, '0010011001': 4, '0101100000': 4, '0110011100': 4, '1001100000': 4, '0101100110': 4, '0010010110': 3, '0010011010': 3, '1001101010': 3, '0011001100': 3, '1001011100': 3, '0001011100': 3, '0000110011': 3, '0100111100': 3, '0001101001': 3, '0000000011': 3, '1000110000': 3, '1000001100': 3, '0111000110': 3, '1110011001': 3, '0000000110': 3, '1010011001': 3, '0101011100': 3, '0000111001': 3, '1101100011': 3, '1001101001': 3, '1010011010': 3, '0000111010': 3, '0111001100': 3, '1001011001': 3, '1111000011': 2, '1101100000': 2, '0100111010': 2, '1101011100': 2, '0111110000': 2, '1000000110': 2, '0001010101': 2, '1010010011': 2, '1010101001': 2, '1010010110': 2, '0100001111': 2, '0100111001': 2, '1010011100': 2, '1110010110': 2, '1010100110': 2, '1101101001': 1, '1010010000': 1, '1011000110': 1, '0110100110': 1, '0111001111': 1, '1101010101': 1, '0110010101': 1, '0101010101': 1, '0011111100': 1, '0001100110': 1, '1110101001': 1, '1010101010': 1, '0010101010': 1, '0011110011': 1, '1011000011': 1, '1100111111': 1, '1010101100': 1, '1101101111': 1, '1111001100': 1, '1001010101': 1, '1111001010': 1, '1111111111': 1, '1100001111': 1, '1110101010': 1, '0110101001': 1, '0110101100': 1, '0110011001': 1, '0000001111': 1, '1111001111': 1, '1001100110': 1, '0011111111': 1, '0000110101': 1, '1011111100': 1}), measurement_probabilities={'1000000000': 0.095, '1001011010': 0.109, '0101011010': 0.109, '0100000000': 0.115, '0001100000': 0.006, '1100000000': 0.038, '0001010110': 0.006, '1101011010': 0.047, '0011000000': 0.007, '0000001100': 0.008, '0010010110': 0.003, '0001011010': 0.035, '1111000011': 0.002, '0010011010': 0.003, '1001101010': 0.003, '0000000000': 0.037, '0011001100': 0.003, '1001011100': 0.003, '1101100110': 0.008, '1001101100': 0.008, '0001011100': 0.003, '0000110011': 0.003, '1011000000': 0.005, '1000000011': 0.006, '0001101010': 0.007, '0101101010': 0.007, '1101100000': 0.002, '1101101001': 0.001, '0100111010': 0.002, '0100110000': 0.004, '0001011001': 0.008, '0111000000': 0.009, '0100111100': 0.003, '1100111100': 0.005, '0101010110': 0.008, '1100000110': 0.005, '1100110000': 0.008, '0000110000': 0.006, '1000110011': 0.005, '1111000000': 0.006, '0110011010': 0.007, '1000110110': 0.008, '0001101001': 0.003, '0000000011': 0.003, '0101100011': 0.004, '1100000011': 0.01, '0100001100': 0.005, '1101010110': 0.01, '1101011100': 0.002, '0001101100': 0.009, '1000111010': 0.005, '1100001100': 0.008, '1101101010': 0.005, '1000110000': 0.003, '1101011001': 0.008, '1000001100': 0.003, '1010010000': 0.001, '1100111010': 0.008, '0111000011': 0.006, '1001010110': 0.007, '0010011001': 0.004, '1011000110': 0.001, '0111000110': 0.003, '1110011010': 0.005, '1110011001': 0.003, '0111110000': 0.002, '0101100000': 0.004, '0000000110': 0.003, '1000000110': 0.002, '1010011001': 0.003, '0101011100': 0.003, '0000111001': 0.003, '0110011100': 0.004, '0110100110': 0.001, '1101100011': 0.003, '0001010101': 0.002, '0111001111': 0.001, '0101011001': 0.005, '1101010101': 0.001, '0110010101': 0.001, '0101010101': 0.001, '1001101001': 0.003, '0100000110': 0.005, '1010011010': 0.003, '0000111010': 0.003, '1010010011': 0.002, '0011111100': 0.001, '1001100000': 0.004, '1010101001': 0.002, '0001100110': 0.001, '1010010110': 0.002, '0100001111': 0.002, '0100000011': 0.005, '0100111001': 0.002, '0101100110': 0.004, '0000110110': 0.008, '1110101001': 0.001, '1010101010': 0.001, '0010101010': 0.001, '0111001100': 0.003, '1010011100': 0.002, '0011110011': 0.001, '1001011001': 0.003, '1011000011': 0.001, '1100111111': 0.001, '1010101100': 0.001, '1101101111': 0.001, '1111001100': 0.001, '1110010110': 0.002, '1001010101': 0.001, '1111001010': 0.001, '1111111111': 0.001, '1100001111': 0.001, '1110101010': 0.001, '0110101001': 0.001, '0110101100': 0.001, '0110011001': 0.001, '0000001111': 0.001, '1111001111': 0.001, '1001100110': 0.001, '0011111111': 0.001, '1010100110': 0.002, '0000110101': 0.001, '1011111100': 0.001}, measurements_copied_from_device=True, measurement_counts_copied_from_device=False, measurement_probabilities_copied_from_device=False, _result_types_indices={\"{'targets': [0, 1, 2, 3, 4, 5, 6, 7, 8, 9], 'type': <Type.probability: 'probability'>}\": 0})"
      ]
     },
     "execution_count": 67,
     "metadata": {},
     "output_type": "execute_result"
    }
   ],
   "source": [
    "res"
   ]
  },
  {
   "cell_type": "code",
   "execution_count": 53,
   "id": "ca4a2cca",
   "metadata": {},
   "outputs": [
    {
     "data": {
      "text/plain": [
       "0.042"
      ]
     },
     "execution_count": 53,
     "metadata": {},
     "output_type": "execute_result"
    }
   ],
   "source": [
    "A = res.measurement_probabilities\n",
    "\n",
    "A['0000000000']"
   ]
  },
  {
   "cell_type": "code",
   "execution_count": 48,
   "id": "2dca4682",
   "metadata": {},
   "outputs": [],
   "source": [
    "#print(get_Hadamard_circuit(N_sites=4, t=1, U=4, tau=.1, j=1, step=1))"
   ]
  },
  {
   "cell_type": "code",
   "execution_count": 78,
   "id": "57a98180",
   "metadata": {},
   "outputs": [],
   "source": [
    "def get_new_Z(N_sites, t, U, tau, j, step, shots):\n",
    "\n",
    "    qc_real = get_new_Hadamard_circuit(N_sites, t, U, tau, j, step, test_type='real')\n",
    "    qc_imag = get_new_Hadamard_circuit(N_sites, t, U, tau, j, step, test_type='imag')\n",
    "\n",
    "    device = LocalSimulator()\n",
    "    job_real = device.run(qc_real, shots=shots)\n",
    "    job_imag = device.run(qc_imag, shots=shots)\n",
    "    res_real = job_real.result()\n",
    "    res_imag = job_imag.result()\n",
    "\n",
    "    probs_real = res_real.measurement_probabilities\n",
    "    p00, p01, p10, p11 = 0,0,0,0\n",
    "    if ('00'+'0'*2*N_sites) in probs_real.keys():\n",
    "        p00 = probs_real['00'+'0'*2*N_sites]\n",
    "    if ('01'+'0'*2*N_sites) in probs_real.keys():\n",
    "        p01 = probs_real['01'+'0'*2*N_sites]\n",
    "    if ('10'+'0'*2*N_sites) in probs_real.keys():\n",
    "        p10 = probs_real['10'+'0'*2*N_sites]\n",
    "    if ('11'+'0'*2*N_sites) in probs_real.keys():\n",
    "        p11 = probs_real['11'+'0'*2*N_sites]\n",
    "        \n",
    "    X = p00+p11-p01-p10 \n",
    "\n",
    "    probs_imag = res_imag.measurement_probabilities\n",
    "    p00, p01, p10, p11 = 0,0,0,0\n",
    "    if ('00'+'0'*2*N_sites) in probs_imag.keys():\n",
    "        p00 = probs_imag['00'+'0'*2*N_sites]\n",
    "    if ('01'+'0'*2*N_sites) in probs_imag.keys():\n",
    "        p01 = probs_imag['01'+'0'*2*N_sites]\n",
    "    if ('10'+'0'*2*N_sites) in probs_imag.keys():\n",
    "        p10 = probs_imag['10'+'0'*2*N_sites]\n",
    "    if ('11'+'0'*2*N_sites) in probs_imag.keys():\n",
    "        p11 = probs_imag['11'+'0'*2*N_sites]\n",
    "    \n",
    "    Y = p00+p11-p01-p10\n",
    "\n",
    "    lambda_R = U/4*N_sites\n",
    "\n",
    "    Z = 2*(X-1j*Y)*np.exp(-1j*lambda_R*j*tau)\n",
    "    return Z"
   ]
  },
  {
   "cell_type": "code",
   "execution_count": 54,
   "id": "5149e707",
   "metadata": {},
   "outputs": [],
   "source": [
    "p00, p01, p10, p11 = 0,0,0,0"
   ]
  },
  {
   "cell_type": "code",
   "execution_count": 36,
   "id": "073411e0",
   "metadata": {},
   "outputs": [],
   "source": [
    "B = device.run(A, shots=1000)"
   ]
  },
  {
   "cell_type": "code",
   "execution_count": 37,
   "id": "7b07945d",
   "metadata": {},
   "outputs": [],
   "source": [
    "res = B.result()\n"
   ]
  },
  {
   "cell_type": "code",
   "execution_count": 16,
   "id": "06effeeb",
   "metadata": {},
   "outputs": [
    {
     "data": {
      "text/plain": [
       "array([[0, 0, 0, ..., 0, 0, 0],\n",
       "       [0, 0, 0, ..., 0, 0, 0],\n",
       "       [0, 0, 0, ..., 0, 0, 0],\n",
       "       ...,\n",
       "       [0, 0, 0, ..., 0, 0, 0],\n",
       "       [0, 0, 0, ..., 0, 0, 0],\n",
       "       [0, 0, 0, ..., 0, 0, 0]])"
      ]
     },
     "execution_count": 16,
     "metadata": {},
     "output_type": "execute_result"
    }
   ],
   "source": [
    "res.measurements"
   ]
  },
  {
   "cell_type": "code",
   "execution_count": 17,
   "id": "35a42b48",
   "metadata": {},
   "outputs": [],
   "source": [
    "def get_F(beta, j):\n",
    "    \n",
    "    F = -1j*np.sqrt(beta/(2*pi))*np.exp(-beta)*(iv(j,beta)+iv(j+1,beta))/(2*j+1)\n",
    "    #print(np.sqrt(beta/(2*pi)))\n",
    "    #print((iv(j,beta)+iv(j+1,beta))/(2*j+1))\n",
    "    return F"
   ]
  },
  {
   "cell_type": "code",
   "execution_count": 18,
   "id": "253c5fb8",
   "metadata": {},
   "outputs": [],
   "source": [
    "def get_F_coefs(d, beta):\n",
    "    F_list = np.zeros(d+1,dtype='complex128')\n",
    "    \n",
    "    for j in range(d):\n",
    "        F_list[j] = get_F(beta, j)\n",
    "    \n",
    "    F_list[d] = -1j*np.sqrt(.5*beta/pi) * np.exp(-beta) * iv(d,beta)/(2*d+1)\n",
    "    \n",
    "    return F_list"
   ]
  },
  {
   "cell_type": "code",
   "execution_count": 19,
   "id": "89c9d29f",
   "metadata": {},
   "outputs": [],
   "source": [
    "def get_approx_step_function(d, beta):\n",
    "\n",
    "    x_list = np.linspace(-pi,pi,10000)\n",
    "    F_coefs = get_F_coefs(d, beta)\n",
    "\n",
    "    F_approx = 0.5*np.ones(len(x_list))\n",
    "\n",
    "    for j, F in enumerate(F_coefs):\n",
    "        term = 2j*np.sin((2*j+1)*x_list)\n",
    "        F_approx = F_approx + F*term\n",
    "    \n",
    "    return F_approx.real\n"
   ]
  },
  {
   "cell_type": "code",
   "execution_count": 21,
   "id": "a33a8f08",
   "metadata": {},
   "outputs": [
    {
     "data": {
      "text/plain": [
       "<matplotlib.legend.Legend at 0x2a54e1970>"
      ]
     },
     "execution_count": 21,
     "metadata": {},
     "output_type": "execute_result"
    },
    {
     "data": {
      "image/png": "[encoded data removed]",
      "text/plain": [
       "<Figure size 2000x500 with 2 Axes>"
      ]
     },
     "metadata": {},
     "output_type": "display_data"
    }
   ],
   "source": [
    "x_list = np.linspace(-pi,pi,10000)\n",
    "fig, ax = plt.subplots(1,2,figsize=(20,5))\n",
    "ax[0].plot(x_list,list(np.zeros(len(x_list)//2))+list(np.ones(len(x_list)//2)),label='step function')\n",
    "ax[0].plot(x_list,get_approx_step_function(d=10,beta=100),label='approx d=10')\n",
    "ax[0].plot(x_list,get_approx_step_function(d=100,beta=100),label='approx d=100')\n",
    "ax[0].plot(x_list,get_approx_step_function(d=1000,beta=100),label='approx d=1000')\n",
    "ax[0].set_title('Step function approximation (beta=100)')\n",
    "ax[0].legend()\n",
    "ax[0].set_xlim([-.01,.01])\n",
    "\n",
    "ax[1].plot(x_list,list(np.zeros(len(x_list)//2))+list(np.ones(len(x_list)//2)),label='step function')\n",
    "ax[1].plot(x_list,get_approx_step_function(d=10,beta=10),label='approx d=10')\n",
    "ax[1].plot(x_list,get_approx_step_function(d=100,beta=10),label='approx d=100')\n",
    "ax[1].plot(x_list,get_approx_step_function(d=1000,beta=10),label='approx d=1000')\n",
    "ax[1].set_title('Step function approximation (beta=10)')\n",
    "ax[1].set_xlim([-.01,.01])\n",
    "ax[1].legend()"
   ]
  },
  {
   "cell_type": "code",
   "execution_count": 39,
   "id": "d7034f59",
   "metadata": {},
   "outputs": [],
   "source": [
    "def get_Z(N_sites, t, U, tau, j, step, shots):\n",
    "    \n",
    "    qc_real = get_Hadamard_circuit(N_sites, t, U, tau, j, step, test_type='real')\n",
    "    qc_imag = get_Hadamard_circuit(N_sites, t, U, tau, j, step, test_type='imag')\n",
    "    \n",
    "    device = LocalSimulator()\n",
    "    job_real = device.run(qc_real, shots=shots)\n",
    "    job_imag = device.run(qc_imag, shots=shots)\n",
    "    res_real = job_real.result()\n",
    "    res_imag = job_imag.result()\n",
    "    prob_real = res_real.values[0]\n",
    "    prob_imag = res_imag.values[0]\n",
    "    \n",
    "    Z = (prob_real[0]-prob_real[1])+1j*(prob_imag[0]-prob_imag[1])\n",
    "    \n",
    "    return Z"
   ]
  },
  {
   "cell_type": "code",
   "execution_count": 119,
   "id": "af6cee5d",
   "metadata": {},
   "outputs": [],
   "source": [
    "def get_Z_list(d, N_sites, t, U, tau, step, shots_per_run): ## shots_per_run should be replaced\n",
    "    \n",
    "    Z_list = [get_new_Z(N_sites, t, U, tau, 2*j+1, step, shots=shots_per_run) for j in range(d+1)]\n",
    "    \n",
    "    return Z_list"
   ]
  },
  {
   "cell_type": "code",
   "execution_count": 139,
   "id": "73a82b70",
   "metadata": {},
   "outputs": [
    {
     "data": {
      "text/plain": [
       "(0.9034036427399487+0.3627028787922577j)"
      ]
     },
     "execution_count": 139,
     "metadata": {},
     "output_type": "execute_result"
    }
   ],
   "source": [
    "#get_Z_list(d=20,N_sites=4, t=1, U=4, tau=0.0185533,step=1, shots_per_run=1000)\n",
    "get_new_Z(4, 1, 4, tau, 5, 1, 10000)"
   ]
  },
  {
   "cell_type": "code",
   "execution_count": 77,
   "id": "be7b44f0",
   "metadata": {},
   "outputs": [
    {
     "name": "stdout",
     "output_type": "stream",
     "text": [
      "['1', '2']\n"
     ]
    }
   ],
   "source": [
    "if (('00'+'0'*2*4) in res.measurement_probabilities.keys()):\n",
    "    print(A)"
   ]
  },
  {
   "cell_type": "code",
   "execution_count": 74,
   "id": "aeb190ee",
   "metadata": {},
   "outputs": [
    {
     "name": "stdout",
     "output_type": "stream",
     "text": [
      "1\n"
     ]
    }
   ],
   "source": [
    "A = ['1','2']\n",
    "\n",
    "if '1' in A:\n",
    "    print(1)"
   ]
  },
  {
   "cell_type": "code",
   "execution_count": 25,
   "id": "895d2b1e",
   "metadata": {},
   "outputs": [
    {
     "data": {
      "text/plain": [
       "(0.9999999999999958+0j)"
      ]
     },
     "execution_count": 25,
     "metadata": {},
     "output_type": "execute_result"
    }
   ],
   "source": [
    "get_Z(4, 1, 4, .5, 0, 1, 0)"
   ]
  },
  {
   "cell_type": "code",
   "execution_count": null,
   "id": "f013570f",
   "metadata": {},
   "outputs": [],
   "source": []
  },
  {
   "cell_type": "markdown",
   "id": "5d8d6396",
   "metadata": {},
   "source": [
    "\\begin{equation}\n",
    "ACDF(x) = 0.5+\\sum^d_{j=0} F_j e^{i(2j+1)x} Z_j\n",
    "\\end{equation}\n"
   ]
  },
  {
   "cell_type": "code",
   "execution_count": 145,
   "id": "7408e604",
   "metadata": {},
   "outputs": [],
   "source": [
    "def Assembly_ACDF(Z_list, F_list, precision):\n",
    "    \n",
    "    ACDF = .5*np.ones(precision)\n",
    "    x_list = np.linspace(-pi,pi,precision)\n",
    "    d = len(F_list)-1\n",
    "    \n",
    "    for j in range(d+1):\n",
    "        ACDF = ACDF + F_list[j]*Z_list[j]*np.exp(1j*(2*j+1)*x_list) - F_list[j]*Z_list[j].conj()*np.exp(-1j*(2*j+1)*x_list)\n",
    "        #ACDF = ACDF + F_list[j]*Z_list[j]*2j*np.sin((2*j+1)*x_list)\n",
    "                                                                              \n",
    "    return ACDF"
   ]
  },
  {
   "cell_type": "code",
   "execution_count": 151,
   "id": "6fdb8a6f",
   "metadata": {},
   "outputs": [
    {
     "data": {
      "text/plain": [
       "[(0.9951810883379294+0.06799942216323716j),\n",
       " (0.980185058909807+0.22369168578643694j),\n",
       " (0.9174336026462941+0.35187882109533375j),\n",
       " (0.8185693588116647+0.4721155418058808j),\n",
       " (0.7168688150128095+0.5838718198904022j),\n",
       " (0.6028762888832927+0.6487412275339902j),\n",
       " (0.46043438043652585+0.6702195023363857j),\n",
       " (0.3471577938516103+0.7138127949035957j),\n",
       " (0.22261179448003907+0.6965612887308459j),\n",
       " (0.11256211597230908+0.6603290468000301j),\n",
       " (0.0063585699572429304+0.636526644051998j),\n",
       " (-0.08412887443471233+0.563425782589285j),\n",
       " (-0.1448953530313768+0.48851511406497206j),\n",
       " (-0.1759057181026219+0.40739359143069614j),\n",
       " (-0.21840405865944157+0.3289968193783691j),\n",
       " (-0.24359868490363892+0.2541449993866053j),\n",
       " (-0.2290310786384351+0.20057010000923603j),\n",
       " (-0.20856313167157509+0.143799930832199j),\n",
       " (-0.1864723865447864+0.07902941892923004j),\n",
       " (-0.17482377609131028+0.04373931084476996j),\n",
       " (-0.1583702729952914+0.024288611145902722j),\n",
       " (-0.12920358205054613-0.013013623066148148j),\n",
       " (-0.08237728437434433-0.014070643876824166j),\n",
       " (-0.07441717962100679-0.0135367417517956j),\n",
       " (-0.055954490987756234-0.026620573590760598j),\n",
       " (-0.03723435081412285-0.02532830668344857j),\n",
       " (-0.017429261978419153-0.005405629185176571j),\n",
       " (-0.015488674325355596-0.01304227616802643j),\n",
       " (-0.010657743885877773-0.00896507084539966j),\n",
       " (-0.014264913019525788-0.0076988477414067094j),\n",
       " (0.01807310243650976-0.013906939574163182j),\n",
       " (-0.0012807972317980822-0.0032495474224910467j),\n",
       " (0.007469704882190405+0.0056038833832424174j),\n",
       " (0.007589453371203565-0.0018111315596406668j),\n",
       " (-0.013196661337389065+0.0037480834497461975j),\n",
       " (0.013605796471961666+0.013911229362049788j),\n",
       " (0.00013600396636420339-0.0016915977421163705j),\n",
       " (0.0006399385494579857-0.011383781386381128j),\n",
       " (-0.009327893483008217+0.008279517085534226j),\n",
       " (-0.006762631388674711-0.00937586351761326j),\n",
       " (0.007544906870041781+0.0027266060079146003j),\n",
       " (0.00016967491676145443-0.0046142399615345265j),\n",
       " (0.012876295989691316-0.005122597152408129j),\n",
       " (-0.011633117242089763+0.0008188914652096097j),\n",
       " (-0.008727851371032182+0.0010122304308661642j),\n",
       " (-0.0021633996948676277-0.01617528057748139j),\n",
       " (8.012851137417787e-05-0.0064399984023029615j),\n",
       " (-0.008302366621677097-0.010053392883960248j),\n",
       " (-0.015575801294496159+0.021577636896434486j),\n",
       " (-0.004081848645283685-0.011188320322416392j),\n",
       " (-0.01352844835508061+0.00475616285506672j)]"
      ]
     },
     "execution_count": 151,
     "metadata": {},
     "output_type": "execute_result"
    }
   ],
   "source": [
    "Z_list"
   ]
  },
  {
   "cell_type": "code",
   "execution_count": 157,
   "id": "1a62f851",
   "metadata": {},
   "outputs": [],
   "source": [
    "Z_list = get_Z_list(50, 4, 1, 4, tau, 1, 10000)\n",
    "F_list = get_F_coefs(d=50, beta=50)\n",
    "ACDF = Assembly_ACDF(Z_list, F_list, 10000)"
   ]
  },
  {
   "cell_type": "code",
   "execution_count": 160,
   "id": "b466beb0",
   "metadata": {},
   "outputs": [
    {
     "name": "stderr",
     "output_type": "stream",
     "text": [
      "/Users/dranz/Library/Python/3.9/lib/python/site-packages/matplotlib/cbook/__init__.py:1369: ComplexWarning: Casting complex values to real discards the imaginary part\n",
      "  return np.asarray(x, float)\n"
     ]
    },
    {
     "data": {
      "text/plain": [
       "(-1.0471975511965976, 1.0471975511965976)"
      ]
     },
     "execution_count": 160,
     "metadata": {},
     "output_type": "execute_result"
    },
    {
     "data": {
      "image/png": "[encoded data removed]",
      "text/plain": [
       "<Figure size 640x480 with 1 Axes>"
      ]
     },
     "metadata": {},
     "output_type": "display_data"
    }
   ],
   "source": [
    "plt.plot(np.linspace(-pi,pi,10000), ACDF)\n",
    "plt.plot(np.linspace(-np.pi/3, np.pi/3, 1000), get_real_CDF(4,1,4,precision=1000), label='CDF')\n",
    "plt.xlim([-pi/3, pi/3])"
   ]
  }
 ],
 "metadata": {
  "kernelspec": {
   "display_name": "Python 3",
   "language": "python",
   "name": "python3"
  },
  "language_info": {
   "codemirror_mode": {
    "name": "ipython",
    "version": 3
   },
   "file_extension": ".py",
   "mimetype": "text/x-python",
   "name": "python",
   "nbconvert_exporter": "python",
   "pygments_lexer": "ipython3",
   "version": "3.9.6"
  },
  "vscode": {
   "interpreter": {
    "hash": "31f2aee4e71d21fbe5cf8b01ff0e069b9275f58929596ceb00d14d90e3e16cd6"
   }
  }
 },
 "nbformat": 4,
 "nbformat_minor": 5
}

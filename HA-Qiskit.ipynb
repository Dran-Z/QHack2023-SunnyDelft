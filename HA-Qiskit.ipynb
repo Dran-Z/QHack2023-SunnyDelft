{
 "cells": [
  {
   "cell_type": "code",
   "execution_count": 17,
   "metadata": {},
   "outputs": [],
   "source": [
    "import numpy as np\n",
    "import math\n",
    "from math import pi\n",
    "import matplotlib.pyplot as plt\n",
    "# magic word for producing visualizations in notebook\n",
    "%matplotlib inline\n",
    "\n",
    "from scipy.special import iv\n",
    "from scipy.linalg import expm, block_diag\n",
    "from scipy import integrate\n",
    "from openfermion import fermi_hubbard, jordan_wigner, get_sparse_operator\n",
    "from collections import Counter\n",
    "\n",
    "from qiskit import QuantumCircuit, QuantumRegister\n",
    "from qiskit import Aer, transpile\n",
    "from qiskit.circuit import Parameter\n",
    "from qiskit.providers.fake_provider import FakeGuadalupe, FakeNairobi\n",
    "from qiskit.visualization import plot_histogram\n",
    "\n",
    "from qiskit.tools import job_monitor"
   ]
  },
  {
   "cell_type": "code",
   "execution_count": 2,
   "metadata": {},
   "outputs": [
    {
     "data": {
      "text/plain": [
       "[<AccountProvider for IBMQ(hub='ibm-q', group='open', project='main')>,\n",
       " <AccountProvider for IBMQ(hub='ibm-q-community', group='ibmquantumawards', project='open-science-22')>,\n",
       " <AccountProvider for IBMQ(hub='ibm-q-community', group='qhack-hackathon', project='7-qubit')>,\n",
       " <AccountProvider for IBMQ(hub='ibm-q-community', group='qhack-hackathon', project='16-qubit')>,\n",
       " <AccountProvider for IBMQ(hub='qhack-event', group='main', project='level-1')>,\n",
       " <AccountProvider for IBMQ(hub='qhack-event', group='main', project='level-2-team-4')>]"
      ]
     },
     "execution_count": 2,
     "metadata": {},
     "output_type": "execute_result"
    }
   ],
   "source": [
    "from qiskit import IBMQ\n",
    "\n",
    "#IBMQ.save_account('')\n",
    "IBMQ.load_account()\n",
    "IBMQ.providers()"
   ]
  },
  {
   "cell_type": "code",
   "execution_count": 3,
   "metadata": {},
   "outputs": [],
   "source": [
    "hubbard = fermi_hubbard(1, 2, 1, 4, periodic=False,particle_hole_symmetry=True)\n",
    "jw_hamiltonian = jordan_wigner(hubbard)\n",
    "jw_hamiltonian = jordan_wigner(hubbard)\n",
    "fh_matrix = get_sparse_operator(jw_hamiltonian)\n",
    "fh_matrix = fh_matrix.todense()\n",
    "fh_matrix = fh_matrix.real\n",
    "\n",
    "norm = np.linalg.norm(fh_matrix)\n",
    "tau = 3*np.pi/(4*norm)"
   ]
  },
  {
   "cell_type": "code",
   "execution_count": 4,
   "metadata": {},
   "outputs": [],
   "source": [
    "def get_real_CDF(N_sites, t, U, tau, precision, initial_state_symmetry=True):\n",
    "\n",
    "    hubbard = fermi_hubbard(1, N_sites, t, U, periodic=False,particle_hole_symmetry=True)\n",
    "    jw_hamiltonian = jordan_wigner(hubbard)\n",
    "    fh_matrix = get_sparse_operator(jw_hamiltonian)\n",
    "    fh_matrix = fh_matrix.todense()\n",
    "    fh_matrix = fh_matrix.real\n",
    "    norm = np.linalg.norm(fh_matrix)\n",
    "    #tau = np.pi/(4*norm)\n",
    "    \n",
    "    Ndim = 2**(2*N_sites)\n",
    "    energy, eigenstate= np.linalg.eig(tau*fh_matrix)\n",
    "\n",
    "    hf_state = np.zeros(Ndim)\n",
    "\n",
    "\n",
    "    if initial_state_symmetry:\n",
    "        index_1 = int('0110'*(N_sites//2),2)\n",
    "        index_2 = int('1001'*(N_sites//2),2)\n",
    "        hf_state[index_1], hf_state[index_2] = 1/np.sqrt(2), 1/np.sqrt(2)\n",
    "    else:\n",
    "        hf_index = 0\n",
    "        for i in range(N_sites):\n",
    "            if i%2==0:\n",
    "                hf_index += 2**(2*i)\n",
    "            elif i%2!=0:\n",
    "                hf_index += 2**(2*i+1)\n",
    "        hf_state[hf_index] = 1\n",
    "\n",
    "    energy=energy.real\n",
    "    eigenstate[np.abs(eigenstate)<1e-10]=0\n",
    "    eigenstate = np.array(eigenstate)\n",
    "\n",
    "    prob_raw = np.zeros(Ndim)\n",
    "    for i in range(Ndim):\n",
    "        prob_raw[i] = np.abs(np.dot(hf_state,eigenstate[:,i]))**2\n",
    "    prob = []\n",
    "    ener = []\n",
    "    for i,ele in enumerate(prob_raw):\n",
    "        if ele!=0:\n",
    "            prob.append(ele)\n",
    "            ener.append(energy[i].real)\n",
    "\n",
    "    x_list = np.linspace(-np.pi/3, np.pi/3, precision)\n",
    "    CDF = np.zeros(len(x_list))\n",
    "\n",
    "    for j,ener_ele in enumerate(ener):\n",
    "        for i,x_ele in enumerate(x_list):\n",
    "            if x_ele>ener_ele:\n",
    "                CDF[i] += prob[j]\n",
    "\n",
    "    return CDF"
   ]
  },
  {
   "cell_type": "code",
   "execution_count": 5,
   "metadata": {},
   "outputs": [],
   "source": [
    "## Get Trotterization Hamiltonian Evolution Gate:\n",
    "\n",
    "def fh_evolution(N_sites, t, U, tau, j, step, to_gate=True):\n",
    "    \n",
    "    qr = QuantumRegister(2*N_sites,'qr')\n",
    "    qc = QuantumCircuit(qr)\n",
    "    \n",
    "    for _ in range(step):\n",
    "        \n",
    "        ## Hopping terms \n",
    "        #theta = tau*t*j/step\n",
    "        theta = Parameter('theta')\n",
    "        \n",
    "        for i in range(N_sites//2):\n",
    "            qc.rxx(theta,2*i,2*i+1)\n",
    "            qc.ryy(theta,2*i,2*i+1)\n",
    "\n",
    "            qc.rxx(theta,2*i+N_sites,2*i+1+N_sites)\n",
    "            qc.ryy(theta,2*i+N_sites,2*i+1+N_sites)\n",
    "            \n",
    "        for i in range((N_sites-1)//2):\n",
    "            qc.rxx(theta,2*i+1,2*i+2)\n",
    "            qc.ryy(theta,2*i+1,2*i+2)\n",
    "\n",
    "            qc.rxx(theta,2*i+N_sites+1,2*i+2+N_sites)\n",
    "            qc.ryy(theta,2*i+N_sites+1,2*i+2+N_sites)\n",
    "        \n",
    "        ## Potential\n",
    "        #gamma = tau*j*U/(2*step)\n",
    "        gamma = Parameter('gamma')\n",
    "        \n",
    "        for i in range(N_sites):\n",
    "            qc.rzz(gamma,i,i+N_sites)\n",
    "    return qc.to_gate() if to_gate else qc"
   ]
  },
  {
   "cell_type": "code",
   "execution_count": 6,
   "metadata": {},
   "outputs": [],
   "source": [
    "def fh_evolution_para(N_sites, theta_para, gamma_para, step, to_gate=True):\n",
    "    \n",
    "    qr = QuantumRegister(2*N_sites,'qr')\n",
    "    qc = QuantumCircuit(qr)\n",
    "    \n",
    "    for _ in range(step):\n",
    "        \n",
    "        ## Hopping terms \n",
    "        #theta = tau*t*j/step\n",
    "        #theta = Parameter('theta')\n",
    "        \n",
    "        for i in range(N_sites//2):\n",
    "            qc.rxx(theta_para,2*i,2*i+1)\n",
    "            qc.ryy(theta_para,2*i,2*i+1)\n",
    "\n",
    "            qc.rxx(theta_para,2*i+N_sites,2*i+1+N_sites)\n",
    "            qc.ryy(theta_para,2*i+N_sites,2*i+1+N_sites)\n",
    "            \n",
    "        for i in range((N_sites-1)//2):\n",
    "            qc.rxx(theta_para,2*i+1,2*i+2)\n",
    "            qc.ryy(theta_para,2*i+1,2*i+2)\n",
    "\n",
    "            qc.rxx(theta_para,2*i+N_sites+1,2*i+2+N_sites)\n",
    "            qc.ryy(theta_para,2*i+N_sites+1,2*i+2+N_sites)\n",
    "        \n",
    "        ## Potential\n",
    "        #gamma = tau*j*U/(2*step)\n",
    "        #gamma = Parameter('gamma')\n",
    "        \n",
    "        for i in range(N_sites):\n",
    "            qc.rzz(gamma_para,i,i+N_sites)\n",
    "    return qc.to_gate() if to_gate else qc"
   ]
  },
  {
   "cell_type": "code",
   "execution_count": 128,
   "metadata": {},
   "outputs": [],
   "source": [
    "#fh_evolution(4,1,4,1,1,1,False).draw('mpl')"
   ]
  },
  {
   "cell_type": "code",
   "execution_count": 7,
   "metadata": {},
   "outputs": [],
   "source": [
    "def initial_state_prep(N_sites, initial_state_symmetry=True, to_gate=True):\n",
    "\n",
    "    qr = QuantumRegister(2*N_sites,'qr')\n",
    "    qc = QuantumCircuit(qr)\n",
    "\n",
    "    if initial_state_symmetry:\n",
    "        qc.h(0)\n",
    "        for i in range(N_sites):\n",
    "            if i%2!=0:\n",
    "                qc.x(i)\n",
    "            else:\n",
    "                qc.x(i+N_sites)\n",
    "\n",
    "        qc.cnot(0,range(1,2*N_sites))\n",
    "\n",
    "    else:\n",
    "        for i in range(N_sites):\n",
    "            if i%2!=0:\n",
    "                qc.x(i)\n",
    "            else:\n",
    "                qc.x(i+N_sites)\n",
    "        \n",
    "\n",
    "    return qc.to_gate() if to_gate else qc"
   ]
  },
  {
   "cell_type": "code",
   "execution_count": 8,
   "metadata": {},
   "outputs": [],
   "source": [
    "def get_new_Hadamard_circuit(N_sites, t, U, tau, j, step, initial_state_symmetry=True,test_type='real'):\n",
    "\n",
    "    qr = QuantumRegister(2*N_sites+2,'qr')\n",
    "    qc = QuantumCircuit(qr)\n",
    "\n",
    "    qc.h([0,1])\n",
    "    if test_type=='real':\n",
    "        pass\n",
    "    elif test_type=='imag':\n",
    "        qc.s(0)\n",
    "\n",
    "    \n",
    "    prep_gate = initial_state_prep(N_sites=N_sites,initial_state_symmetry=initial_state_symmetry)\n",
    "    qc.append(prep_gate.control(), [0]+list(range(2,2*N_sites+2)))\n",
    "\n",
    "    evolution_gate = fh_evolution(N_sites=N_sites, t=t, U=U, tau=tau, j=j, step=step)\n",
    "    qc.append(evolution_gate,range(2,2*N_sites+2))\n",
    "\n",
    "    prep_gate_conj = prep_gate.reverse_ops()\n",
    "    qc.append(prep_gate_conj.control(), [1]+list(range(2,2*N_sites+2)))\n",
    "\n",
    "    qc.h([0,1])\n",
    "\n",
    "    qc.measure_all()\n",
    "\n",
    "    return qc"
   ]
  },
  {
   "cell_type": "code",
   "execution_count": 9,
   "metadata": {},
   "outputs": [],
   "source": [
    "def get_new_Hadamard_circuit_para(N_sites, theta_para, gamma_para, step, initial_state_symmetry=True,test_type='real'):\n",
    "\n",
    "    qr = QuantumRegister(2*N_sites+2,'qr')\n",
    "    qc = QuantumCircuit(qr)\n",
    "\n",
    "    qc.h([0,1])\n",
    "    if test_type=='real':\n",
    "        pass\n",
    "    elif test_type=='imag':\n",
    "        qc.s(0)\n",
    "\n",
    "    \n",
    "    prep_gate = initial_state_prep(N_sites=N_sites,initial_state_symmetry=initial_state_symmetry)\n",
    "    qc.append(prep_gate.control(), [0]+list(range(2,2*N_sites+2)))\n",
    "\n",
    "    evolution_gate = fh_evolution_para(N_sites=N_sites, theta_para=theta_para, gamma_para=gamma_para, step=step)\n",
    "    qc.append(evolution_gate,range(2,2*N_sites+2))\n",
    "\n",
    "    prep_gate_conj = prep_gate.reverse_ops()\n",
    "    qc.append(prep_gate_conj.control(), [1]+list(range(2,2*N_sites+2)))\n",
    "\n",
    "    qc.h([0,1])\n",
    "\n",
    "    qc.measure_all()\n",
    "\n",
    "    return qc "
   ]
  },
  {
   "cell_type": "code",
   "execution_count": 139,
   "metadata": {},
   "outputs": [],
   "source": [
    "theta= Parameter('theta')\n",
    "gamma =Parameter('gamma')\n",
    "qc = get_new_Hadamard_circuit_para(4,theta,gamma,1,initial_state_symmetry=False).decompose()\n",
    "A=qc.bind_parameters({theta:0.1,gamma:0.2})\n",
    "#A.draw('mpl')"
   ]
  },
  {
   "cell_type": "code",
   "execution_count": 116,
   "metadata": {},
   "outputs": [],
   "source": [
    "#backend=Aer.get_backend('qasm_simulator')\n",
    "backend = FakeGuadalupe()\n",
    "#backend = FakeNairobi()"
   ]
  },
  {
   "cell_type": "code",
   "execution_count": 117,
   "metadata": {},
   "outputs": [],
   "source": [
    "qc = get_new_Hadamard_circuit(4,1,4,1,1,1,initial_state_symmetry=False)\n",
    "\n",
    "qc = transpile(qc,backend,optimization_level=3)\n",
    "\n",
    "##res = job.result()"
   ]
  },
  {
   "cell_type": "code",
   "execution_count": 10,
   "metadata": {},
   "outputs": [],
   "source": [
    "def get_new_Z(N_sites, t, U, tau, j, step, shots, initial_state_symmetry=True):\n",
    "\n",
    "    qc_real = get_new_Hadamard_circuit(N_sites, t, U, tau, j, step, initial_state_symmetry=initial_state_symmetry, test_type='real')\n",
    "    qc_imag = get_new_Hadamard_circuit(N_sites, t, U, tau, j, step, initial_state_symmetry=initial_state_symmetry, test_type='imag')\n",
    "    backend=Aer.get_backend('qasm_simulator')\n",
    "\n",
    "    qc_real = transpile(qc_real,backend)\n",
    "    qc_imag = transpile(qc_imag,backend)\n",
    "    job_real = backend.run(qc_real,shots=shots)\n",
    "    job_imag = backend.run(qc_imag,shots=shots)\n",
    "    \n",
    "    counts_real = job_real.result().get_counts()\n",
    "    counts_imag = job_imag.result().get_counts()\n",
    "\n",
    "    p00, p01, p10, p11 = 0,0,0,0\n",
    "    if ('0'*2*N_sites+'00') in counts_real.keys():\n",
    "        p00 = counts_real['0'*2*N_sites+'00']/shots\n",
    "    if ('0'*2*N_sites+'01') in counts_real.keys():\n",
    "        p01 = counts_real['0'*2*N_sites+'01']/shots\n",
    "    if ('0'*2*N_sites+'10') in counts_real.keys():\n",
    "        p10 = counts_real['0'*2*N_sites+'10']/shots\n",
    "    if ('0'*2*N_sites+'11') in counts_real.keys():\n",
    "        p11 = counts_real['0'*2*N_sites+'11']/shots\n",
    "\n",
    "    X = p00+p11-p01-p10\n",
    "\n",
    "    p00, p01, p10, p11 = 0,0,0,0\n",
    "    if ('0'*2*N_sites+'00') in counts_imag.keys():\n",
    "        p00 = counts_imag['0'*2*N_sites+'00']/shots\n",
    "    if ('0'*2*N_sites+'01') in counts_imag.keys():\n",
    "        p01 = counts_imag['0'*2*N_sites+'01']/shots\n",
    "    if ('0'*2*N_sites+'10') in counts_imag.keys():\n",
    "        p10 = counts_imag['0'*2*N_sites+'10']/shots\n",
    "    if ('0'*2*N_sites+'11') in counts_imag.keys():\n",
    "        p11 = counts_imag['0'*2*N_sites+'11']/shots\n",
    "\n",
    "    Y = p00+p11-p01-p10\n",
    "\n",
    "    lambda_R = U/4*N_sites\n",
    "\n",
    "    Z = 2*(X-1j*Y)*np.exp(-1j*lambda_R*j*tau)\n",
    "    return Z"
   ]
  },
  {
   "cell_type": "code",
   "execution_count": 60,
   "metadata": {},
   "outputs": [],
   "source": [
    "def get_shots_per_run(F_list, total_shots,type='sample'):\n",
    "\n",
    "    F_list_abs = np.array([np.abs(ele) for ele in F_list])\n",
    "    probs = F_list_abs/sum(F_list_abs)\n",
    "    if type=='sample':\n",
    "        sampling = np.random.choice(range(len(probs)), size=int(total_shots), p=probs)\n",
    "        counter = Counter(sampling)\n",
    "\n",
    "        shots_list = np.zeros(len(probs),dtype=int)\n",
    "        for i in range(len(probs)):\n",
    "            shots_list[i] = int(counter[i])\n",
    "    elif type=='distribution':\n",
    "        shots_list = np.round(total_shots*probs)\n",
    "    return shots_list#shots_per_run\n",
    "\n",
    "def get_Z_list(d, N_sites, t, U, tau, step, shots_list, initial_state_symmetry=True): ## shots_per_run should be replaced\n",
    "    \n",
    "    #Z_list = [get_new_Z(N_sites, t, U, tau, 2*j+1, step, shots=shots_list) for j in range(d+1)]\n",
    "\n",
    "    Z_list = np.zeros(d+1,dtype='complex')\n",
    "    for j in range(d+1):\n",
    "        if shots_list[j]:\n",
    "            Z_list[j] = get_new_Z(N_sites, t, U, tau, 2*j+1, step, shots=shots_list[j],initial_state_symmetry=initial_state_symmetry)\n",
    "    return Z_list"
   ]
  },
  {
   "cell_type": "code",
   "execution_count": 85,
   "metadata": {},
   "outputs": [],
   "source": [
    "def prqs(random_number, extra_level): \n",
    "    \n",
    "    extra_level = 2 * extra_level + 1\n",
    "    qc = QuantumCircuit(2)\n",
    "    pqrs_list = ['IIII','IXIX','IYZY','IZZZ','YIYX','YXYI','YYXZ','YZXY','XIXX','XXXI','XYYZ','XZYY','ZIZI','ZXZX','ZYIY','ZZIZ']\n",
    "    if random_number == 0:\n",
    "        qc.i(0)\n",
    "        qc.i(1)\n",
    "        for i in range(extra_level):\n",
    "            qc.cnot(0,1)\n",
    "        qc.i(0)\n",
    "        qc.i(1)\n",
    "    elif random_number == 1:\n",
    "        qc.i(0)\n",
    "        qc.x(1)\n",
    "        for i in range(extra_level):\n",
    "            qc.cnot(0,1)\n",
    "        qc.i(0)\n",
    "        qc.x(1)\n",
    "    elif random_number == 2:\n",
    "        qc.i(0)\n",
    "        qc.y(1)\n",
    "        for i in range(extra_level):\n",
    "            qc.cnot(0,1)\n",
    "        qc.z(0)\n",
    "        qc.y(1)\n",
    "    elif random_number == 3:\n",
    "        qc.i(0)\n",
    "        qc.z(1)\n",
    "        for i in range(extra_level):\n",
    "            qc.cnot(0,1)\n",
    "        qc.z(0)\n",
    "        qc.z(1)     \n",
    "    elif random_number == 4:\n",
    "        qc.y(0)\n",
    "        qc.i(1)\n",
    "        for i in range(extra_level):\n",
    "            qc.cnot(0,1)\n",
    "        qc.y(0)\n",
    "        qc.x(1)   \n",
    "    elif random_number == 5:\n",
    "        qc.y(0)\n",
    "        qc.x(1)\n",
    "        for i in range(extra_level):\n",
    "            qc.cnot(0,1)\n",
    "        qc.y(0)\n",
    "        qc.i(1)\n",
    "    elif random_number == 6:\n",
    "        qc.y(0)\n",
    "        qc.y(1)\n",
    "        for i in range(extra_level):\n",
    "            qc.cnot(0,1)\n",
    "        qc.x(0)\n",
    "        qc.z(1)\n",
    "    elif random_number == 7:\n",
    "        qc.y(0)\n",
    "        qc.z(1)\n",
    "        for i in range(extra_level):\n",
    "            qc.cnot(0,1)\n",
    "        qc.x(0)\n",
    "        qc.y(1)\n",
    "    elif random_number == 8:\n",
    "        qc.x(0)\n",
    "        qc.i(1)\n",
    "        for i in range(extra_level):\n",
    "            qc.cnot(0,1)\n",
    "        qc.x(0)\n",
    "        qc.x(1)\n",
    "    elif random_number == 9:\n",
    "        qc.x(0)\n",
    "        qc.x(1)\n",
    "        for i in range(extra_level):\n",
    "            qc.cnot(0,1)\n",
    "        qc.x(0)\n",
    "        qc.i(1)     \n",
    "    elif random_number == 10:\n",
    "        qc.x(0)\n",
    "        qc.y(1)\n",
    "        for i in range(extra_level):\n",
    "            qc.cnot(0,1)\n",
    "        qc.y(0)\n",
    "        qc.z(1)   \n",
    "    elif random_number == 11:\n",
    "        qc.x(0)\n",
    "        qc.z(1)\n",
    "        for i in range(extra_level):\n",
    "            qc.cnot(0,1)\n",
    "        qc.y(0)\n",
    "        qc.y(1)\n",
    "    elif random_number == 12:\n",
    "        qc.z(0)\n",
    "        qc.i(1)\n",
    "        for i in range(extra_level):\n",
    "            qc.cnot(0,1)\n",
    "        qc.z(0)\n",
    "        qc.i(1)\n",
    "    elif random_number == 13:\n",
    "        qc.z(0)\n",
    "        qc.x(1)\n",
    "        for i in range(extra_level):\n",
    "            qc.cnot(0,1)\n",
    "        qc.z(0)\n",
    "        qc.x(1)\n",
    "    elif random_number == 14:\n",
    "        qc.z(0)\n",
    "        qc.y(1)\n",
    "        for i in range(extra_level):\n",
    "            qc.cnot(0,1)\n",
    "        qc.i(0)\n",
    "        qc.y(1)\n",
    "    elif random_number == 15:\n",
    "        qc.z(0)\n",
    "        qc.z(1)\n",
    "        for i in range(extra_level):\n",
    "            qc.cnot(0,1)\n",
    "        qc.i(0)\n",
    "        qc.z(1)\n",
    "    return qc\n",
    "\n",
    "def error_mitigation(N_sites, trans_qc, extra_level):  #extra_level startz from 0. cnot_num = 2 * extra_level + 1\n",
    "    \n",
    "    num_qubits = trans_qc.num_qubits\n",
    "    qc = QuantumCircuit(num_qubits, 2 * N_sites + 2)\n",
    "\n",
    "    me = 0\n",
    "    for gate_data in trans_qc.data:\n",
    "        gate = gate_data[0]\n",
    "        qubits = gate_data[1]\n",
    "        if gate.name == 'cx':\n",
    "            index = [qubits[0].index, qubits[1].index]\n",
    "            random_num = np.random.randint(16)\n",
    "            qc.append(prqs(random_num, extra_level), index) # random compiling with the 'random_num'-th random set and '2*extra_level' CNOTs\n",
    "        elif gate.name == 'measure':\n",
    "            qc.measure(qubits[0], [me])\n",
    "            me = me + 1\n",
    "\n",
    "        else:\n",
    "            qc.append(gate_data)\n",
    "    \n",
    "    return qc"
   ]
  },
  {
   "cell_type": "code",
   "execution_count": null,
   "metadata": {},
   "outputs": [],
   "source": [
    "get_shots_per_run()"
   ]
  },
  {
   "cell_type": "code",
   "execution_count": 102,
   "metadata": {},
   "outputs": [],
   "source": [
    "def get_circuit_list_to_run(N_sites,t,U,tau,step,shots_list,backend,extra_level,initial_state_symmetry=True):\n",
    "\n",
    "    circ_list_real = []\n",
    "    circ_list_imag = []\n",
    "    theta = Parameter('theta')\n",
    "    gamma = Parameter('gamma')\n",
    "    circ_para_real = get_new_Hadamard_circuit_para(N_sites,theta_para=theta, gamma_para=gamma, step=step, initial_state_symmetry=initial_state_symmetry)\n",
    "    circ_para_imag = get_new_Hadamard_circuit_para(N_sites,theta_para=theta, gamma_para=gamma, step=step, initial_state_symmetry=initial_state_symmetry,test_type='imag')\n",
    "\n",
    "    circ_transpiled_real = transpile(circuits=circ_para_real, backend=backend, optimization_level=3)\n",
    "    circ_transpiled_imag = transpile(circuits=circ_para_imag, backend=backend, optimization_level=3)\n",
    "\n",
    "    circ_mitigated_real = error_mitigation(N_sites, circ_transpiled_real, extra_level=extra_level).decompose()\n",
    "    circ_mitigated_imag = error_mitigation(N_sites, circ_transpiled_imag, extra_level=extra_level).decompose()\n",
    "\n",
    "    circ_transpiled_mitigated_real = transpile(circuits=circ_mitigated_real, backend=backend, optimization_level=3)\n",
    "    circ_transpiled_mitigated_imag = transpile(circuits=circ_mitigated_imag, backend=backend, optimization_level=3)\n",
    "    for j, shot in enumerate(shots_list):\n",
    "\n",
    "        if shot:\n",
    "            theta_value = tau*t*(2*j+1)/step\n",
    "            gamma_value = tau*U*(2*j+1)/(2*step)\n",
    "            circ_binded_real = circ_transpiled_mitigated_real.bind_parameters({theta:theta_value,gamma:gamma_value})\n",
    "            circ_binded_real.name = 'Re-circ-'+str(j)\n",
    "            circ_list_real.append(circ_binded_real)\n",
    "\n",
    "            circ_binded_imag = circ_transpiled_mitigated_imag.bind_parameters({theta:theta_value,gamma:gamma_value})\n",
    "            circ_binded_imag.name = 'Im-circ-'+str(j)\n",
    "            circ_list_imag.append(circ_binded_imag)\n",
    "    return circ_list_real, circ_list_imag"
   ]
  },
  {
   "cell_type": "code",
   "execution_count": 37,
   "metadata": {},
   "outputs": [],
   "source": [
    "#provider = IBMQ.get_provider(hub='qhack-event',project='level-2-team-4')  ## Guadelupe\n",
    "#backend = provider.get_backend('ibmq_guadalupe')\n",
    "\n",
    "\n",
    "#provider = IBMQ.get_provider(hub='qhack-event',project='level-1')\n",
    "#backend=provider.get_backend('ibm_nairobi')\n",
    "\n",
    "provider = IBMQ.get_provider(hub='ibm-q')\n",
    "backend = provider.get_backend('ibmq_lima')"
   ]
  },
  {
   "cell_type": "code",
   "execution_count": 43,
   "metadata": {},
   "outputs": [],
   "source": [
    "#backend = FakeGuadalupe()\n",
    "#circ_list = get_circuit_list_to_run(2,1,4,.05,1,[3,1,2],backend=backend,initial_state_symmetry=False)\n",
    "#job = backend.run(circ_list, shots=2048)\n",
    "#job_monitor(job)\n",
    "\n",
    "#job = backend.run(transpile(dummy_circ,backend=backend), shots=2048)"
   ]
  },
  {
   "cell_type": "code",
   "execution_count": 183,
   "metadata": {},
   "outputs": [],
   "source": [
    "res = job.result()\n",
    "res.results[0]"
   ]
  },
  {
   "cell_type": "code",
   "execution_count": 72,
   "metadata": {},
   "outputs": [],
   "source": [
    "def Assembly_ACDF(Z_list, F_list, precision):\n",
    "    \n",
    "    ACDF = .5*np.ones(precision)\n",
    "    x_list = np.linspace(-pi,pi,precision)\n",
    "    d = len(F_list)-1\n",
    "    \n",
    "    for j in range(d+1):\n",
    "        ACDF = ACDF + F_list[j]*Z_list[j]*np.exp(1j*(2*j+1)*x_list) - F_list[j]*Z_list[j].conj()*np.exp(-1j*(2*j+1)*x_list)\n",
    "        #ACDF = ACDF + F_list[j]*Z_list[j]*2j*np.sin((2*j+1)*x_list)\n",
    "                                                                              \n",
    "    return ACDF"
   ]
  },
  {
   "cell_type": "code",
   "execution_count": 81,
   "metadata": {},
   "outputs": [],
   "source": [
    "#F_list_import = np.load('F_list_d2e3_lim2e3_delta4.npy')\n",
    "F_list_import = np.load('F_list_d2e4_lim1e4.npy')"
   ]
  },
  {
   "cell_type": "code",
   "execution_count": 82,
   "metadata": {},
   "outputs": [
    {
     "data": {
      "text/plain": [
       "1526"
      ]
     },
     "execution_count": 82,
     "metadata": {},
     "output_type": "execute_result"
    }
   ],
   "source": [
    "A = get_shots_per_run(F_list=F_list_import, total_shots=5e3, type='sample')\n",
    "len(np.nonzero(A)[0])"
   ]
  },
  {
   "cell_type": "code",
   "execution_count": 78,
   "metadata": {},
   "outputs": [
    {
     "name": "stderr",
     "output_type": "stream",
     "text": [
      "/Users/dranz/Library/Python/3.9/lib/python/site-packages/numpy/linalg/linalg.py:2154: RuntimeWarning: divide by zero encountered in det\n",
      "  r = _umath_linalg.det(a, signature=signature)\n",
      "/Users/dranz/Library/Python/3.9/lib/python/site-packages/numpy/linalg/linalg.py:2154: RuntimeWarning: invalid value encountered in det\n",
      "  r = _umath_linalg.det(a, signature=signature)\n"
     ]
    }
   ],
   "source": [
    "shots_list = get_shots_per_run(F_list=F_list_import, total_shots=3e3)\n",
    "Z_list = get_Z_list(20000, 4, 1, 4, tau, 4, shots_list)"
   ]
  },
  {
   "cell_type": "code",
   "execution_count": 79,
   "metadata": {},
   "outputs": [],
   "source": [
    "ACDF = Assembly_ACDF(Z_list, F_list_import, 100000)"
   ]
  },
  {
   "cell_type": "code",
   "execution_count": 120,
   "metadata": {},
   "outputs": [
    {
     "ename": "NameError",
     "evalue": "name 'ACDF' is not defined",
     "output_type": "error",
     "traceback": [
      "\u001b[0;31m---------------------------------------------------------------------------\u001b[0m",
      "\u001b[0;31mNameError\u001b[0m                                 Traceback (most recent call last)",
      "Cell \u001b[0;32mIn [120], line 1\u001b[0m\n\u001b[0;32m----> 1\u001b[0m plt\u001b[39m.\u001b[39mplot(np\u001b[39m.\u001b[39mlinspace(\u001b[39m-\u001b[39mpi,pi,\u001b[39m100000\u001b[39m), ACDF)\n",
      "\u001b[0;31mNameError\u001b[0m: name 'ACDF' is not defined"
     ]
    }
   ],
   "source": [
    "# plt.plot(np.linspace(-pi,pi,100000), ACDF)\n",
    "# #plt.plot(np.linspace(-pi,pi,10000), ACDF_2)\n",
    "# plt.plot(np.linspace(-np.pi/3, np.pi/3, 1000), get_real_CDF(4,1,4, tau,precision=1000), label='CDF')\n",
    "# #plt.xlim([-pi/3, pi/3])\n",
    "# plt.xlim([-0.5,-0.3])"
   ]
  },
  {
   "attachments": {},
   "cell_type": "markdown",
   "metadata": {},
   "source": [
    "## Real Backend Submission"
   ]
  },
  {
   "cell_type": "code",
   "execution_count": 83,
   "metadata": {},
   "outputs": [],
   "source": [
    "provider = IBMQ.get_provider(hub='qhack-event',project='level-2-team-4')  ## Guadelupe\n",
    "backend = provider.get_backend('ibmq_guadalupe')"
   ]
  },
  {
   "cell_type": "code",
   "execution_count": 116,
   "metadata": {},
   "outputs": [],
   "source": [
    "hubbard = fermi_hubbard(1, 6, 1, 4, periodic=False,particle_hole_symmetry=True)\n",
    "jw_hamiltonian = jordan_wigner(hubbard)\n",
    "jw_hamiltonian = jordan_wigner(hubbard)\n",
    "fh_matrix = get_sparse_operator(jw_hamiltonian)\n",
    "fh_matrix = fh_matrix.todense()\n",
    "fh_matrix = fh_matrix.real\n",
    "\n",
    "norm = np.linalg.norm(fh_matrix)\n",
    "tau = 3*np.pi/(4*norm)"
   ]
  },
  {
   "cell_type": "code",
   "execution_count": 119,
   "metadata": {},
   "outputs": [
    {
     "data": {
      "text/plain": [
       "array([0.        , 0.        , 0.        , ..., 1.00003418, 1.00003418,\n",
       "       1.00003418])"
      ]
     },
     "execution_count": 119,
     "metadata": {},
     "output_type": "execute_result"
    }
   ],
   "source": [
    "get_real_CDF(N_sites=4, t=1, U=4, tau=tau, precision=10000, initial_state_symmetry=True)"
   ]
  },
  {
   "cell_type": "code",
   "execution_count": 129,
   "metadata": {},
   "outputs": [
    {
     "name": "stderr",
     "output_type": "stream",
     "text": [
      "/var/folders/8s/46j41bsj6rq3xkzplbcmjm2h0000gn/T/ipykernel_49331/3229438599.py:130: DeprecationWarning: Back-references to from Bit instances to their containing Registers have been deprecated. Instead, inspect Registers to find their contained Bits.\n",
      "  index = [qubits[0].index, qubits[1].index]\n"
     ]
    }
   ],
   "source": [
    "initial_state_symmetry = False\n",
    "N_sites = 4\n",
    "step = 2\n",
    "\n",
    "F_list_import = np.load('F_list_d4e2_delta_4.npy')\n",
    "shots_list = get_shots_per_run(F_list=F_list_import, total_shots=5e3, type='distribution')\n",
    "#np.save('shots_list_submission0226', shots_list)\n",
    "\n",
    "\n",
    "circ_list_raw = get_circuit_list_to_run(N_sites=N_sites,t=1,U=4,tau=tau,step=step,\n",
    "                                        shots_list=shots_list,backend=backend,extra_level=0,initial_state_symmetry=initial_state_symmetry)\n",
    "\n",
    "circ_list_extrapo1 = get_circuit_list_to_run(N_sites=N_sites,t=1,U=4,tau=tau,step=step,\n",
    "                                        shots_list=shots_list,backend=backend,extra_level=1,initial_state_symmetry=initial_state_symmetry)\n",
    "\n",
    "circ_list_extrapo2 = get_circuit_list_to_run(N_sites=N_sites,t=1,U=4,tau=tau,step=step,\n",
    "                                        shots_list=shots_list,backend=backend,extra_level=2,initial_state_symmetry=initial_state_symmetry)\n"
   ]
  },
  {
   "cell_type": "code",
   "execution_count": 130,
   "metadata": {},
   "outputs": [],
   "source": [
    "# job_raw_real = backend.run(circ_list_raw[0],shots=1024, job_name='Raw-Real-ASym-N=4-step=2')\n",
    "# job_raw_imag = backend.run(circ_list_raw[1], shots=1024,job_name='Raw-Imag-ASym-N=4-step=2')\n",
    "# job_extrapo1_real = backend.run(circ_list_extrapo1[0], shots=1024, job_name='Ex1-Real-ASym-N=4-step=2')\n",
    "# job_extrapo1_imag = backend.run(circ_list_extrapo1[1], shots=1024, job_name='Ex1-Imag-ASym-N=4-step=2')\n",
    "# job_extrapo2_real = backend.run(circ_list_extrapo2[0], shots=1024, job_name='Ex2-Real-ASym-N=4-step=2')\n",
    "# job_extrapo2_imag = backend.run(circ_list_extrapo2[1], shots=1024, job_name='Ex2-Imag-ASym-N=4-step=2')"
   ]
  },
  {
   "cell_type": "code",
   "execution_count": 115,
   "metadata": {},
   "outputs": [],
   "source": []
  },
  {
   "cell_type": "code",
   "execution_count": null,
   "metadata": {},
   "outputs": [],
   "source": []
  }
 ],
 "metadata": {
  "kernelspec": {
   "display_name": "Python 3",
   "language": "python",
   "name": "python3"
  },
  "language_info": {
   "codemirror_mode": {
    "name": "ipython",
    "version": 3
   },
   "file_extension": ".py",
   "mimetype": "text/x-python",
   "name": "python",
   "nbconvert_exporter": "python",
   "pygments_lexer": "ipython3",
   "version": "3.9.6"
  },
  "orig_nbformat": 4,
  "vscode": {
   "interpreter": {
    "hash": "31f2aee4e71d21fbe5cf8b01ff0e069b9275f58929596ceb00d14d90e3e16cd6"
   }
  }
 },
 "nbformat": 4,
 "nbformat_minor": 2
}

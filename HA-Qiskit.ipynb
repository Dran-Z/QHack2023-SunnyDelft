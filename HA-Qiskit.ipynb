{
 "cells": [
  {
   "cell_type": "code",
   "execution_count": 78,
   "metadata": {},
   "outputs": [],
   "source": [
    "import numpy as np\n",
    "import math\n",
    "from math import pi\n",
    "import matplotlib.pyplot as plt\n",
    "# magic word for producing visualizations in notebook\n",
    "%matplotlib inline\n",
    "\n",
    "from scipy.special import iv\n",
    "from scipy.linalg import expm, block_diag\n",
    "from scipy import integrate\n",
    "from openfermion import fermi_hubbard, jordan_wigner, get_sparse_operator\n",
    "from collections import Counter\n",
    "\n",
    "from qiskit import QuantumCircuit, QuantumRegister\n",
    "from qiskit import Aer, transpile\n",
    "from qiskit.circuit import Parameter\n",
    "from qiskit.providers.fake_provider import FakeGuadalupe, FakeNairobi\n",
    "from qiskit.visualization import plot_histogram\n",
    "\n",
    "from qiskit.tools import job_monitor"
   ]
  },
  {
   "cell_type": "code",
   "execution_count": 2,
   "metadata": {},
   "outputs": [
    {
     "data": {
      "text/plain": [
       "[<AccountProvider for IBMQ(hub='ibm-q', group='open', project='main')>,\n",
       " <AccountProvider for IBMQ(hub='ibm-q-community', group='ibmquantumawards', project='open-science-22')>,\n",
       " <AccountProvider for IBMQ(hub='qhack-event', group='main', project='level-1')>,\n",
       " <AccountProvider for IBMQ(hub='qhack-event', group='main', project='level-2-team-4')>]"
      ]
     },
     "execution_count": 2,
     "metadata": {},
     "output_type": "execute_result"
    }
   ],
   "source": [
    "from qiskit import IBMQ\n",
    "\n",
    "#IBMQ.save_account('')\n",
    "IBMQ.load_account()\n",
    "IBMQ.providers()"
   ]
  },
  {
   "cell_type": "code",
   "execution_count": 3,
   "metadata": {},
   "outputs": [],
   "source": [
    "hubbard = fermi_hubbard(1, 2, 1, 4, periodic=False,particle_hole_symmetry=True)\n",
    "jw_hamiltonian = jordan_wigner(hubbard)\n",
    "jw_hamiltonian = jordan_wigner(hubbard)\n",
    "fh_matrix = get_sparse_operator(jw_hamiltonian)\n",
    "fh_matrix = fh_matrix.todense()\n",
    "fh_matrix = fh_matrix.real\n",
    "\n",
    "norm = np.linalg.norm(fh_matrix)\n",
    "tau = 3*np.pi/(4*norm)"
   ]
  },
  {
   "cell_type": "code",
   "execution_count": 3,
   "metadata": {},
   "outputs": [],
   "source": [
    "def get_real_CDF(N_sites, t, U, tau, precision, initial_state_symmetry=True):\n",
    "\n",
    "    hubbard = fermi_hubbard(1, N_sites, t, U, periodic=False,particle_hole_symmetry=True)\n",
    "    jw_hamiltonian = jordan_wigner(hubbard)\n",
    "    fh_matrix = get_sparse_operator(jw_hamiltonian)\n",
    "    fh_matrix = fh_matrix.todense()\n",
    "    fh_matrix = fh_matrix.real\n",
    "    norm = np.linalg.norm(fh_matrix)\n",
    "    #tau = np.pi/(4*norm)\n",
    "    \n",
    "    Ndim = 2**(2*N_sites)\n",
    "    energy, eigenstate= np.linalg.eig(tau*fh_matrix)\n",
    "\n",
    "    hf_state = np.zeros(Ndim)\n",
    "\n",
    "\n",
    "    if initial_state_symmetry:\n",
    "        index_1 = int('0110'*(N_sites//2),2)\n",
    "        index_2 = int('1001'*(N_sites//2),2)\n",
    "        hf_state[index_1], hf_state[index_2] = 1/np.sqrt(2), 1/np.sqrt(2)\n",
    "    else:\n",
    "        hf_index = 0\n",
    "        for i in range(N_sites):\n",
    "            if i%2==0:\n",
    "                hf_index += 2**(2*i)\n",
    "            elif i%2!=0:\n",
    "                hf_index += 2**(2*i+1)\n",
    "        hf_state[hf_index] = 1\n",
    "\n",
    "    energy=energy.real\n",
    "    eigenstate[np.abs(eigenstate)<1e-10]=0\n",
    "    eigenstate = np.array(eigenstate)\n",
    "\n",
    "    prob_raw = np.zeros(Ndim)\n",
    "    for i in range(Ndim):\n",
    "        prob_raw[i] = np.abs(np.dot(hf_state,eigenstate[:,i]))**2\n",
    "    prob = []\n",
    "    ener = []\n",
    "    for i,ele in enumerate(prob_raw):\n",
    "        if ele!=0:\n",
    "            prob.append(ele)\n",
    "            ener.append(energy[i].real)\n",
    "\n",
    "    x_list = np.linspace(-np.pi/3, np.pi/3, precision)\n",
    "    CDF = np.zeros(len(x_list))\n",
    "\n",
    "    for j,ener_ele in enumerate(ener):\n",
    "        for i,x_ele in enumerate(x_list):\n",
    "            if x_ele>ener_ele:\n",
    "                CDF[i] += prob[j]\n",
    "\n",
    "    return CDF"
   ]
  },
  {
   "cell_type": "code",
   "execution_count": 4,
   "metadata": {},
   "outputs": [],
   "source": [
    "## Get Trotterization Hamiltonian Evolution Gate:\n",
    "\n",
    "def fh_evolution(N_sites, t, U, tau, j, step, to_gate=True):\n",
    "    \n",
    "    qr = QuantumRegister(2*N_sites,'qr')\n",
    "    qc = QuantumCircuit(qr)\n",
    "    \n",
    "    for _ in range(step):\n",
    "        \n",
    "        ## Hopping terms \n",
    "        #theta = tau*t*j/step\n",
    "        theta = Parameter('theta')\n",
    "        \n",
    "        for i in range(N_sites//2):\n",
    "            qc.rxx(theta,2*i,2*i+1)\n",
    "            qc.ryy(theta,2*i,2*i+1)\n",
    "\n",
    "            qc.rxx(theta,2*i+N_sites,2*i+1+N_sites)\n",
    "            qc.ryy(theta,2*i+N_sites,2*i+1+N_sites)\n",
    "            \n",
    "        for i in range((N_sites-1)//2):\n",
    "            qc.rxx(theta,2*i+1,2*i+2)\n",
    "            qc.ryy(theta,2*i+1,2*i+2)\n",
    "\n",
    "            qc.rxx(theta,2*i+N_sites+1,2*i+2+N_sites)\n",
    "            qc.ryy(theta,2*i+N_sites+1,2*i+2+N_sites)\n",
    "        \n",
    "        ## Potential\n",
    "        #gamma = tau*j*U/(2*step)\n",
    "        gamma = Parameter('gamma')\n",
    "        \n",
    "        for i in range(N_sites):\n",
    "            qc.rzz(gamma,i,i+N_sites)\n",
    "    return qc.to_gate() if to_gate else qc"
   ]
  },
  {
   "cell_type": "code",
   "execution_count": 5,
   "metadata": {},
   "outputs": [],
   "source": [
    "def fh_evolution_para(N_sites, theta_para, gamma_para, step, to_gate=True):\n",
    "    \n",
    "    qr = QuantumRegister(2*N_sites,'qr')\n",
    "    qc = QuantumCircuit(qr)\n",
    "    \n",
    "    for _ in range(step):\n",
    "        \n",
    "        ## Hopping terms \n",
    "        #theta = tau*t*j/step\n",
    "        #theta = Parameter('theta')\n",
    "        \n",
    "        for i in range(N_sites//2):\n",
    "            qc.rxx(theta_para,2*i,2*i+1)\n",
    "            qc.ryy(theta_para,2*i,2*i+1)\n",
    "\n",
    "            qc.rxx(theta_para,2*i+N_sites,2*i+1+N_sites)\n",
    "            qc.ryy(theta_para,2*i+N_sites,2*i+1+N_sites)\n",
    "            \n",
    "        for i in range((N_sites-1)//2):\n",
    "            qc.rxx(theta_para,2*i+1,2*i+2)\n",
    "            qc.ryy(theta_para,2*i+1,2*i+2)\n",
    "\n",
    "            qc.rxx(theta_para,2*i+N_sites+1,2*i+2+N_sites)\n",
    "            qc.ryy(theta_para,2*i+N_sites+1,2*i+2+N_sites)\n",
    "        \n",
    "        ## Potential\n",
    "        #gamma = tau*j*U/(2*step)\n",
    "        #gamma = Parameter('gamma')\n",
    "        \n",
    "        for i in range(N_sites):\n",
    "            qc.rzz(gamma_para,i,i+N_sites)\n",
    "    return qc.to_gate() if to_gate else qc"
   ]
  },
  {
   "cell_type": "code",
   "execution_count": 128,
   "metadata": {},
   "outputs": [],
   "source": [
    "#fh_evolution(4,1,4,1,1,1,False).draw('mpl')"
   ]
  },
  {
   "cell_type": "code",
   "execution_count": 24,
   "metadata": {},
   "outputs": [],
   "source": [
    "def initial_state_prep(N_sites, initial_state_symmetry=True, to_gate=True):\n",
    "\n",
    "    qr = QuantumRegister(2*N_sites,'q')\n",
    "    qc = QuantumCircuit(qr)\n",
    "\n",
    "    if initial_state_symmetry:\n",
    "        qc.h(0)\n",
    "        for i in range(N_sites):\n",
    "            if i%2!=0:\n",
    "                qc.x(i)\n",
    "            else:\n",
    "                qc.x(i+N_sites)\n",
    "\n",
    "        qc.cnot(0,range(1,2*N_sites))\n",
    "\n",
    "    else:\n",
    "        for i in range(N_sites):\n",
    "            if i%2!=0:\n",
    "                qc.x(i)\n",
    "            else:\n",
    "                qc.x(i+N_sites)\n",
    "        \n",
    "\n",
    "    return qc.to_gate() if to_gate else qc"
   ]
  },
  {
   "cell_type": "code",
   "execution_count": 23,
   "metadata": {},
   "outputs": [],
   "source": [
    "def get_new_Hadamard_circuit(N_sites, t, U, tau, j, step, initial_state_symmetry=True,test_type='real'):\n",
    "\n",
    "    qr = QuantumRegister(2*N_sites+2,'q')\n",
    "    qc = QuantumCircuit(qr)\n",
    "\n",
    "    qc.h([0,1])\n",
    "    if test_type=='real':\n",
    "        pass\n",
    "    elif test_type=='imag':\n",
    "        qc.s(0)\n",
    "\n",
    "    \n",
    "    prep_gate = initial_state_prep(N_sites=N_sites,initial_state_symmetry=initial_state_symmetry)\n",
    "    qc.append(prep_gate.control(), [0]+list(range(2,2*N_sites+2)))\n",
    "\n",
    "    evolution_gate = fh_evolution(N_sites=N_sites, t=t, U=U, tau=tau, j=j, step=step)\n",
    "    qc.append(evolution_gate,range(2,2*N_sites+2))\n",
    "\n",
    "    prep_gate_conj = prep_gate.reverse_ops()\n",
    "    qc.append(prep_gate_conj.control(), [1]+list(range(2,2*N_sites+2)))\n",
    "\n",
    "    qc.h([0,1])\n",
    "\n",
    "    qc.measure_all()\n",
    "\n",
    "    return qc"
   ]
  },
  {
   "cell_type": "code",
   "execution_count": 22,
   "metadata": {},
   "outputs": [],
   "source": [
    "def get_new_Hadamard_circuit_para(N_sites, theta_para, gamma_para, step, initial_state_symmetry=True,test_type='real'):\n",
    "\n",
    "    qr = QuantumRegister(2*N_sites+2,'q')\n",
    "    qc = QuantumCircuit(qr)\n",
    "\n",
    "    qc.h([0,1])\n",
    "    if test_type=='real':\n",
    "        pass\n",
    "    elif test_type=='imag':\n",
    "        qc.s(0)\n",
    "\n",
    "    \n",
    "    prep_gate = initial_state_prep(N_sites=N_sites,initial_state_symmetry=initial_state_symmetry)\n",
    "    qc.append(prep_gate.control(), [0]+list(range(2,2*N_sites+2)))\n",
    "\n",
    "    evolution_gate = fh_evolution_para(N_sites=N_sites, theta_para=theta_para, gamma_para=gamma_para, step=step)\n",
    "    qc.append(evolution_gate,range(2,2*N_sites+2))\n",
    "\n",
    "    prep_gate_conj = prep_gate.reverse_ops()\n",
    "    qc.append(prep_gate_conj.control(), [1]+list(range(2,2*N_sites+2)))\n",
    "\n",
    "    qc.h([0,1])\n",
    "\n",
    "    qc.measure_all()\n",
    "\n",
    "    return qc "
   ]
  },
  {
   "cell_type": "code",
   "execution_count": 139,
   "metadata": {},
   "outputs": [],
   "source": [
    "theta= Parameter('theta')\n",
    "gamma =Parameter('gamma')\n",
    "qc = get_new_Hadamard_circuit_para(4,theta,gamma,1,initial_state_symmetry=False).decompose()\n",
    "A=qc.bind_parameters({theta:0.1,gamma:0.2})\n",
    "#A.draw('mpl')"
   ]
  },
  {
   "cell_type": "code",
   "execution_count": 116,
   "metadata": {},
   "outputs": [],
   "source": [
    "#backend=Aer.get_backend('qasm_simulator')\n",
    "backend = FakeGuadalupe()\n",
    "#backend = FakeNairobi()"
   ]
  },
  {
   "cell_type": "code",
   "execution_count": 117,
   "metadata": {},
   "outputs": [],
   "source": [
    "qc = get_new_Hadamard_circuit(4,1,4,1,1,1,initial_state_symmetry=False)\n",
    "\n",
    "qc = transpile(qc,backend,optimization_level=3)\n",
    "\n",
    "##res = job.result()"
   ]
  },
  {
   "cell_type": "code",
   "execution_count": 9,
   "metadata": {},
   "outputs": [],
   "source": [
    "def get_new_Z(N_sites, t, U, tau, j, step, shots, initial_state_symmetry=True):\n",
    "\n",
    "    qc_real = get_new_Hadamard_circuit(N_sites, t, U, tau, j, step, initial_state_symmetry=initial_state_symmetry, test_type='real')\n",
    "    qc_imag = get_new_Hadamard_circuit(N_sites, t, U, tau, j, step, initial_state_symmetry=initial_state_symmetry, test_type='imag')\n",
    "    backend=Aer.get_backend('qasm_simulator')\n",
    "\n",
    "    qc_real = transpile(qc_real,backend)\n",
    "    qc_imag = transpile(qc_imag,backend)\n",
    "    job_real = backend.run(qc_real,shots=shots)\n",
    "    job_imag = backend.run(qc_imag,shots=shots)\n",
    "    \n",
    "    counts_real = job_real.result().get_counts()\n",
    "    counts_imag = job_imag.result().get_counts()\n",
    "\n",
    "    p00, p01, p10, p11 = 0,0,0,0\n",
    "    if ('0'*2*N_sites+'00') in counts_real.keys():\n",
    "        p00 = counts_real['0'*2*N_sites+'00']/shots\n",
    "    if ('0'*2*N_sites+'01') in counts_real.keys():\n",
    "        p01 = counts_real['0'*2*N_sites+'01']/shots\n",
    "    if ('0'*2*N_sites+'10') in counts_real.keys():\n",
    "        p10 = counts_real['0'*2*N_sites+'10']/shots\n",
    "    if ('0'*2*N_sites+'11') in counts_real.keys():\n",
    "        p11 = counts_real['0'*2*N_sites+'11']/shots\n",
    "\n",
    "    X = p00+p11-p01-p10\n",
    "\n",
    "    p00, p01, p10, p11 = 0,0,0,0\n",
    "    if ('0'*2*N_sites+'00') in counts_imag.keys():\n",
    "        p00 = counts_imag['0'*2*N_sites+'00']/shots\n",
    "    if ('0'*2*N_sites+'01') in counts_imag.keys():\n",
    "        p01 = counts_imag['0'*2*N_sites+'01']/shots\n",
    "    if ('0'*2*N_sites+'10') in counts_imag.keys():\n",
    "        p10 = counts_imag['0'*2*N_sites+'10']/shots\n",
    "    if ('0'*2*N_sites+'11') in counts_imag.keys():\n",
    "        p11 = counts_imag['0'*2*N_sites+'11']/shots\n",
    "\n",
    "    Y = p00+p11-p01-p10\n",
    "\n",
    "    lambda_R = U/4*N_sites\n",
    "\n",
    "    Z = 2*(X-1j*Y)*np.exp(-1j*lambda_R*j*tau)\n",
    "    return Z"
   ]
  },
  {
   "cell_type": "code",
   "execution_count": 10,
   "metadata": {},
   "outputs": [],
   "source": [
    "def get_shots_per_run(F_list, total_shots,type='sample'):\n",
    "\n",
    "    F_list_abs = np.array([np.abs(ele) for ele in F_list])\n",
    "    probs = F_list_abs/sum(F_list_abs)\n",
    "    if type=='sample':\n",
    "        sampling = np.random.choice(range(len(probs)), size=int(total_shots), p=probs)\n",
    "        counter = Counter(sampling)\n",
    "\n",
    "        shots_list = np.zeros(len(probs),dtype=int)\n",
    "        for i in range(len(probs)):\n",
    "            shots_list[i] = int(counter[i])\n",
    "    elif type=='distribution':\n",
    "        shots_list = np.round(total_shots*probs)\n",
    "    return shots_list\n",
    "\n",
    "def get_Z_list(d, N_sites, t, U, tau, step, shots_list, initial_state_symmetry=True): ## shots_per_run should be replaced\n",
    "    \n",
    "    #Z_list = [get_new_Z(N_sites, t, U, tau, 2*j+1, step, shots=shots_list) for j in range(d+1)]\n",
    "\n",
    "    Z_list = np.zeros(d+1,dtype='complex')\n",
    "    for j in range(d+1):\n",
    "        if shots_list[j]:\n",
    "            Z_list[j] = get_new_Z(N_sites, t, U, tau, 2*j+1, step, shots=shots_list[j],initial_state_symmetry=initial_state_symmetry)\n",
    "    return Z_list"
   ]
  },
  {
   "cell_type": "code",
   "execution_count": 11,
   "metadata": {},
   "outputs": [],
   "source": [
    "def prqs(random_number, extra_level): \n",
    "    \n",
    "    extra_level = 2 * extra_level + 1\n",
    "    qc = QuantumCircuit(2)\n",
    "    pqrs_list = ['IIII','IXIX','IYZY','IZZZ','YIYX','YXYI','YYXZ','YZXY','XIXX','XXXI','XYYZ','XZYY','ZIZI','ZXZX','ZYIY','ZZIZ']\n",
    "    if random_number == 0:\n",
    "        qc.i(0)\n",
    "        qc.i(1)\n",
    "        for i in range(extra_level):\n",
    "            qc.cnot(0,1)\n",
    "        qc.i(0)\n",
    "        qc.i(1)\n",
    "    elif random_number == 1:\n",
    "        qc.i(0)\n",
    "        qc.x(1)\n",
    "        for i in range(extra_level):\n",
    "            qc.cnot(0,1)\n",
    "        qc.i(0)\n",
    "        qc.x(1)\n",
    "    elif random_number == 2:\n",
    "        qc.i(0)\n",
    "        qc.y(1)\n",
    "        for i in range(extra_level):\n",
    "            qc.cnot(0,1)\n",
    "        qc.z(0)\n",
    "        qc.y(1)\n",
    "    elif random_number == 3:\n",
    "        qc.i(0)\n",
    "        qc.z(1)\n",
    "        for i in range(extra_level):\n",
    "            qc.cnot(0,1)\n",
    "        qc.z(0)\n",
    "        qc.z(1)     \n",
    "    elif random_number == 4:\n",
    "        qc.y(0)\n",
    "        qc.i(1)\n",
    "        for i in range(extra_level):\n",
    "            qc.cnot(0,1)\n",
    "        qc.y(0)\n",
    "        qc.x(1)   \n",
    "    elif random_number == 5:\n",
    "        qc.y(0)\n",
    "        qc.x(1)\n",
    "        for i in range(extra_level):\n",
    "            qc.cnot(0,1)\n",
    "        qc.y(0)\n",
    "        qc.i(1)\n",
    "    elif random_number == 6:\n",
    "        qc.y(0)\n",
    "        qc.y(1)\n",
    "        for i in range(extra_level):\n",
    "            qc.cnot(0,1)\n",
    "        qc.x(0)\n",
    "        qc.z(1)\n",
    "    elif random_number == 7:\n",
    "        qc.y(0)\n",
    "        qc.z(1)\n",
    "        for i in range(extra_level):\n",
    "            qc.cnot(0,1)\n",
    "        qc.x(0)\n",
    "        qc.y(1)\n",
    "    elif random_number == 8:\n",
    "        qc.x(0)\n",
    "        qc.i(1)\n",
    "        for i in range(extra_level):\n",
    "            qc.cnot(0,1)\n",
    "        qc.x(0)\n",
    "        qc.x(1)\n",
    "    elif random_number == 9:\n",
    "        qc.x(0)\n",
    "        qc.x(1)\n",
    "        for i in range(extra_level):\n",
    "            qc.cnot(0,1)\n",
    "        qc.x(0)\n",
    "        qc.i(1)     \n",
    "    elif random_number == 10:\n",
    "        qc.x(0)\n",
    "        qc.y(1)\n",
    "        for i in range(extra_level):\n",
    "            qc.cnot(0,1)\n",
    "        qc.y(0)\n",
    "        qc.z(1)   \n",
    "    elif random_number == 11:\n",
    "        qc.x(0)\n",
    "        qc.z(1)\n",
    "        for i in range(extra_level):\n",
    "            qc.cnot(0,1)\n",
    "        qc.y(0)\n",
    "        qc.y(1)\n",
    "    elif random_number == 12:\n",
    "        qc.z(0)\n",
    "        qc.i(1)\n",
    "        for i in range(extra_level):\n",
    "            qc.cnot(0,1)\n",
    "        qc.z(0)\n",
    "        qc.i(1)\n",
    "    elif random_number == 13:\n",
    "        qc.z(0)\n",
    "        qc.x(1)\n",
    "        for i in range(extra_level):\n",
    "            qc.cnot(0,1)\n",
    "        qc.z(0)\n",
    "        qc.x(1)\n",
    "    elif random_number == 14:\n",
    "        qc.z(0)\n",
    "        qc.y(1)\n",
    "        for i in range(extra_level):\n",
    "            qc.cnot(0,1)\n",
    "        qc.i(0)\n",
    "        qc.y(1)\n",
    "    elif random_number == 15:\n",
    "        qc.z(0)\n",
    "        qc.z(1)\n",
    "        for i in range(extra_level):\n",
    "            qc.cnot(0,1)\n",
    "        qc.i(0)\n",
    "        qc.z(1)\n",
    "    return qc\n",
    "\n",
    "def error_mitigation(N_sites, trans_qc, extra_level):  #extra_level startz from 0. cnot_num = 2 * extra_level + 1\n",
    "    \n",
    "    num_qubits = trans_qc.num_qubits\n",
    "    qc = QuantumCircuit(num_qubits, 2 * N_sites + 2)\n",
    "\n",
    "    me = 0\n",
    "    for gate_data in trans_qc.data:\n",
    "        gate = gate_data[0]\n",
    "        qubits = gate_data[1]\n",
    "        if gate.name == 'cx':\n",
    "            index = [qubits[0].index, qubits[1].index]\n",
    "            random_num = np.random.randint(16)\n",
    "            qc.append(prqs(random_num, extra_level), index) # random compiling with the 'random_num'-th random set and '2*extra_level' CNOTs\n",
    "        elif gate.name == 'measure':\n",
    "            qc.measure(qubits[0], [me])\n",
    "            me = me + 1\n",
    "\n",
    "        else:\n",
    "            qc.append(gate_data)\n",
    "    \n",
    "    return qc"
   ]
  },
  {
   "cell_type": "code",
   "execution_count": null,
   "metadata": {},
   "outputs": [],
   "source": [
    "get_shots_per_run()"
   ]
  },
  {
   "cell_type": "code",
   "execution_count": 12,
   "metadata": {},
   "outputs": [],
   "source": [
    "def get_circuit_list_to_run(N_sites,t,U,tau,step,shots_list,backend,extra_level,initial_state_symmetry=True):\n",
    "\n",
    "    circ_list_real = []\n",
    "    circ_list_imag = []\n",
    "    theta = Parameter('theta')\n",
    "    gamma = Parameter('gamma')\n",
    "    circ_para_real = get_new_Hadamard_circuit_para(N_sites,theta_para=theta, gamma_para=gamma, step=step, initial_state_symmetry=initial_state_symmetry)\n",
    "    circ_para_imag = get_new_Hadamard_circuit_para(N_sites,theta_para=theta, gamma_para=gamma, step=step, initial_state_symmetry=initial_state_symmetry,test_type='imag')\n",
    "\n",
    "    circ_transpiled_real = transpile(circuits=circ_para_real, backend=backend, optimization_level=3)\n",
    "    circ_transpiled_imag = transpile(circuits=circ_para_imag, backend=backend, optimization_level=3)\n",
    "\n",
    "    circ_mitigated_real = error_mitigation(N_sites, circ_transpiled_real, extra_level=extra_level).decompose()\n",
    "    circ_mitigated_imag = error_mitigation(N_sites, circ_transpiled_imag, extra_level=extra_level).decompose()\n",
    "\n",
    "    circ_transpiled_mitigated_real = transpile(circuits=circ_mitigated_real, backend=backend, optimization_level=3)\n",
    "    circ_transpiled_mitigated_imag = transpile(circuits=circ_mitigated_imag, backend=backend, optimization_level=3)\n",
    "    for j, shot in enumerate(shots_list):\n",
    "\n",
    "        if shot:\n",
    "            theta_value = tau*t*(2*j+1)/step\n",
    "            gamma_value = tau*U*(2*j+1)/(2*step)\n",
    "            circ_binded_real = circ_transpiled_mitigated_real.bind_parameters({theta:theta_value,gamma:gamma_value})\n",
    "            circ_binded_real.name = 'Re-circ-'+str(j)\n",
    "            circ_list_real.append(circ_binded_real)\n",
    "\n",
    "            circ_binded_imag = circ_transpiled_mitigated_imag.bind_parameters({theta:theta_value,gamma:gamma_value})\n",
    "            circ_binded_imag.name = 'Im-circ-'+str(j)\n",
    "            circ_list_imag.append(circ_binded_imag)\n",
    "    return circ_list_real, circ_list_imag"
   ]
  },
  {
   "cell_type": "code",
   "execution_count": 37,
   "metadata": {},
   "outputs": [],
   "source": [
    "#provider = IBMQ.get_provider(hub='qhack-event',project='level-2-team-4')  ## Guadelupe\n",
    "#backend = provider.get_backend('ibmq_guadalupe')\n",
    "\n",
    "\n",
    "#provider = IBMQ.get_provider(hub='qhack-event',project='level-1')\n",
    "#backend=provider.get_backend('ibm_nairobi')\n",
    "\n",
    "provider = IBMQ.get_provider(hub='ibm-q')\n",
    "backend = provider.get_backend('ibmq_lima')"
   ]
  },
  {
   "cell_type": "code",
   "execution_count": 43,
   "metadata": {},
   "outputs": [],
   "source": [
    "#backend = FakeGuadalupe()\n",
    "#circ_list = get_circuit_list_to_run(2,1,4,.05,1,[3,1,2],backend=backend,initial_state_symmetry=False)\n",
    "#job = backend.run(circ_list, shots=2048)\n",
    "#job_monitor(job)\n",
    "\n",
    "#job = backend.run(transpile(dummy_circ,backend=backend), shots=2048)"
   ]
  },
  {
   "cell_type": "code",
   "execution_count": 183,
   "metadata": {},
   "outputs": [],
   "source": [
    "res = job.result()\n",
    "res.results[0]"
   ]
  },
  {
   "cell_type": "code",
   "execution_count": 13,
   "metadata": {},
   "outputs": [],
   "source": [
    "def Assembly_ACDF(Z_list, F_list, precision):\n",
    "    \n",
    "    ACDF = .5*np.ones(precision)\n",
    "    x_list = np.linspace(-pi,pi,precision)\n",
    "    d = len(F_list)-1\n",
    "    \n",
    "    for j in range(d+1):\n",
    "        ACDF = ACDF + F_list[j]*Z_list[j]*np.exp(1j*(2*j+1)*x_list) - F_list[j]*Z_list[j].conj()*np.exp(-1j*(2*j+1)*x_list)\n",
    "        #ACDF = ACDF + F_list[j]*Z_list[j]*2j*np.sin((2*j+1)*x_list)\n",
    "                                                                              \n",
    "    return ACDF"
   ]
  },
  {
   "cell_type": "code",
   "execution_count": 81,
   "metadata": {},
   "outputs": [],
   "source": [
    "#F_list_import = np.load('F_list_d2e3_lim2e3_delta4.npy')\n",
    "F_list_import = np.load('F_list_d2e4_lim1e4.npy')"
   ]
  },
  {
   "cell_type": "code",
   "execution_count": 82,
   "metadata": {},
   "outputs": [
    {
     "data": {
      "text/plain": [
       "1526"
      ]
     },
     "execution_count": 82,
     "metadata": {},
     "output_type": "execute_result"
    }
   ],
   "source": [
    "A = get_shots_per_run(F_list=F_list_import, total_shots=5e3, type='sample')\n",
    "len(np.nonzero(A)[0])"
   ]
  },
  {
   "cell_type": "code",
   "execution_count": 78,
   "metadata": {},
   "outputs": [
    {
     "name": "stderr",
     "output_type": "stream",
     "text": [
      "/Users/dranz/Library/Python/3.9/lib/python/site-packages/numpy/linalg/linalg.py:2154: RuntimeWarning: divide by zero encountered in det\n",
      "  r = _umath_linalg.det(a, signature=signature)\n",
      "/Users/dranz/Library/Python/3.9/lib/python/site-packages/numpy/linalg/linalg.py:2154: RuntimeWarning: invalid value encountered in det\n",
      "  r = _umath_linalg.det(a, signature=signature)\n"
     ]
    }
   ],
   "source": [
    "shots_list = get_shots_per_run(F_list=F_list_import, total_shots=3e3)\n",
    "Z_list = get_Z_list(20000, 4, 1, 4, tau, 4, shots_list)"
   ]
  },
  {
   "cell_type": "code",
   "execution_count": 79,
   "metadata": {},
   "outputs": [],
   "source": [
    "ACDF = Assembly_ACDF(Z_list, F_list_import, 100000)"
   ]
  },
  {
   "cell_type": "code",
   "execution_count": 120,
   "metadata": {},
   "outputs": [
    {
     "ename": "NameError",
     "evalue": "name 'ACDF' is not defined",
     "output_type": "error",
     "traceback": [
      "\u001b[0;31m---------------------------------------------------------------------------\u001b[0m",
      "\u001b[0;31mNameError\u001b[0m                                 Traceback (most recent call last)",
      "Cell \u001b[0;32mIn [120], line 1\u001b[0m\n\u001b[0;32m----> 1\u001b[0m plt\u001b[39m.\u001b[39mplot(np\u001b[39m.\u001b[39mlinspace(\u001b[39m-\u001b[39mpi,pi,\u001b[39m100000\u001b[39m), ACDF)\n",
      "\u001b[0;31mNameError\u001b[0m: name 'ACDF' is not defined"
     ]
    }
   ],
   "source": [
    "# plt.plot(np.linspace(-pi,pi,100000), ACDF)\n",
    "# #plt.plot(np.linspace(-pi,pi,10000), ACDF_2)\n",
    "# plt.plot(np.linspace(-np.pi/3, np.pi/3, 1000), get_real_CDF(4,1,4, tau,precision=1000), label='CDF')\n",
    "# #plt.xlim([-pi/3, pi/3])\n",
    "# plt.xlim([-0.5,-0.3])"
   ]
  },
  {
   "attachments": {},
   "cell_type": "markdown",
   "metadata": {},
   "source": [
    "## Real Backend Submission"
   ]
  },
  {
   "cell_type": "code",
   "execution_count": 74,
   "metadata": {},
   "outputs": [],
   "source": [
    "#provider = IBMQ.get_provider(hub='qhack-event',project='level-2-team-4')  ## Guadelupe\n",
    "#backend = provider.get_backend('ibmq_guadalupe')\n",
    "provider = IBMQ.get_provider(hub='ibm-q')\n",
    "backend = provider.get_backend('ibmq_qasm_simulator')"
   ]
  },
  {
   "cell_type": "code",
   "execution_count": 15,
   "metadata": {},
   "outputs": [],
   "source": [
    "hubbard = fermi_hubbard(1, 4, 1, 4, periodic=False,particle_hole_symmetry=True)\n",
    "jw_hamiltonian = jordan_wigner(hubbard)\n",
    "jw_hamiltonian = jordan_wigner(hubbard)\n",
    "fh_matrix = get_sparse_operator(jw_hamiltonian)\n",
    "fh_matrix = fh_matrix.todense()\n",
    "fh_matrix = fh_matrix.real\n",
    "\n",
    "norm = np.linalg.norm(fh_matrix)\n",
    "tau = 3*np.pi/(4*norm)"
   ]
  },
  {
   "cell_type": "code",
   "execution_count": 119,
   "metadata": {},
   "outputs": [
    {
     "data": {
      "text/plain": [
       "array([0.        , 0.        , 0.        , ..., 1.00003418, 1.00003418,\n",
       "       1.00003418])"
      ]
     },
     "execution_count": 119,
     "metadata": {},
     "output_type": "execute_result"
    }
   ],
   "source": [
    "get_real_CDF(N_sites=4, t=1, U=4, tau=tau, precision=10000, initial_state_symmetry=True)"
   ]
  },
  {
   "cell_type": "code",
   "execution_count": 27,
   "metadata": {},
   "outputs": [
    {
     "data": {
      "text/plain": [
       "0.055659863049549646"
      ]
     },
     "execution_count": 27,
     "metadata": {},
     "output_type": "execute_result"
    }
   ],
   "source": [
    "tau"
   ]
  },
  {
   "cell_type": "code",
   "execution_count": 25,
   "metadata": {},
   "outputs": [
    {
     "name": "stderr",
     "output_type": "stream",
     "text": [
      "/var/folders/8s/46j41bsj6rq3xkzplbcmjm2h0000gn/T/ipykernel_55998/3229438599.py:130: DeprecationWarning: Back-references to from Bit instances to their containing Registers have been deprecated. Instead, inspect Registers to find their contained Bits.\n",
      "  index = [qubits[0].index, qubits[1].index]\n"
     ]
    }
   ],
   "source": [
    "initial_state_symmetry = False\n",
    "N_sites = 4\n",
    "step = 2\n",
    "\n",
    "F_list_import = np.load('F_list_d4e2_delta_4.npy')\n",
    "shots_list = get_shots_per_run(F_list=F_list_import, total_shots=5e3, type='distribution')\n",
    "#np.save('shots_list_submission0226', shots_list)\n",
    "\n",
    "\n",
    "circ_list_raw = get_circuit_list_to_run(N_sites=N_sites,t=1,U=4,tau=tau,step=step,\n",
    "                                        shots_list=shots_list,backend=backend,extra_level=0,initial_state_symmetry=initial_state_symmetry)\n",
    "\n",
    "circ_list_extrapo1 = get_circuit_list_to_run(N_sites=N_sites,t=1,U=4,tau=tau,step=step,\n",
    "                                        shots_list=shots_list,backend=backend,extra_level=1,initial_state_symmetry=initial_state_symmetry)\n",
    "\n",
    "circ_list_extrapo2 = get_circuit_list_to_run(N_sites=N_sites,t=1,U=4,tau=tau,step=step,\n",
    "                                        shots_list=shots_list,backend=backend,extra_level=2,initial_state_symmetry=initial_state_symmetry)\n"
   ]
  },
  {
   "cell_type": "code",
   "execution_count": 26,
   "metadata": {},
   "outputs": [],
   "source": [
    "#job_raw_real = backend.run(circ_list_raw[0],shots=1024, job_name='test-simulator-real')\n",
    "#job_raw_imag = backend.run(circ_list_raw[1], shots=1024,job_name='test-simulator-imag')\n",
    "# job_extrapo1_real = backend.run(circ_list_extrapo1[0], shots=1024, job_name='Ex1-Real-ASym-N=4-step=2')\n",
    "# job_extrapo1_imag = backend.run(circ_list_extrapo1[1], shots=1024, job_name='Ex1-Imag-ASym-N=4-step=2')\n",
    "# job_extrapo2_real = backend.run(circ_list_extrapo2[0], shots=1024, job_name='Ex2-Real-ASym-N=4-step=2')\n",
    "# job_extrapo2_imag = backend.run(circ_list_extrapo2[1], shots=1024, job_name='Ex2-Imag-ASym-N=4-step=2')"
   ]
  },
  {
   "attachments": {},
   "cell_type": "markdown",
   "metadata": {},
   "source": [
    "## Post-Process"
   ]
  },
  {
   "cell_type": "code",
   "execution_count": 41,
   "metadata": {},
   "outputs": [],
   "source": [
    "def get_Z_list_from_job(job_real, job_imag):\n",
    "\n",
    "    def calculate_Z(counts_real, counts_imag, N_sites):\n",
    "        \n",
    "        shots_real = counts_real.shots()\n",
    "\n",
    "        p00, p01, p10, p11 = 0,0,0,0\n",
    "        if ('0'*2*N_sites+'00') in counts_real.keys():\n",
    "            p00 = counts_real['0'*2*N_sites+'00']/shots_real\n",
    "        if ('0'*2*N_sites+'01') in counts_real.keys():\n",
    "            p01 = counts_real['0'*2*N_sites+'01']/shots_real\n",
    "        if ('0'*2*N_sites+'10') in counts_real.keys():\n",
    "            p10 = counts_real['0'*2*N_sites+'10']/shots_real\n",
    "        if ('0'*2*N_sites+'11') in counts_real.keys():\n",
    "            p11 = counts_real['0'*2*N_sites+'11']/shots_real\n",
    "\n",
    "        X = p00+p11-p01-p10\n",
    "\n",
    "        shots_imag = counts_imag.shots()\n",
    "\n",
    "        p00, p01, p10, p11 = 0,0,0,0\n",
    "        if ('0'*2*N_sites+'00') in counts_imag.keys():\n",
    "            p00 = counts_imag['0'*2*N_sites+'00']/shots_imag\n",
    "        if ('0'*2*N_sites+'01') in counts_imag.keys():\n",
    "            p01 = counts_imag['0'*2*N_sites+'01']/shots_imag\n",
    "        if ('0'*2*N_sites+'10') in counts_imag.keys():\n",
    "            p10 = counts_imag['0'*2*N_sites+'10']/shots_imag\n",
    "        if ('0'*2*N_sites+'11') in counts_imag.keys():\n",
    "            p11 = counts_imag['0'*2*N_sites+'11']/shots_imag\n",
    "\n",
    "        Y = p00+p11-p01-p10\n",
    "\n",
    "        #lambda_R = U/4*N_sites\n",
    "\n",
    "        #Z = 2*(X-1j*Y)*np.exp(-1j*lambda_R*j*tau)\n",
    "        Z = 2*(X-1j*Y)\n",
    "\n",
    "        return Z\n",
    "    \n",
    "    \n",
    "    res_real = job_real.result()\n",
    "    res_imag = job_imag.result()\n",
    "\n",
    "    L_real = len(res_real.results)\n",
    "    L_imag = len(res_real.results)\n",
    "    if L_real != L_imag:\n",
    "        raise ValueError('Number of Experiments in job_real and job_imag is not the same!')\n",
    "    L = L_real\n",
    "\n",
    "    counts_real = [ res_real.get_counts(i) for i in range(L)]\n",
    "    counts_imag = [ res_imag.get_counts(i) for i in range(L)]\n",
    "\n",
    "    N_sites = len(res_real.results[0].header.clbit_labels)//2 -1\n",
    "    Z_list = []\n",
    "\n",
    "    for i in range(L):\n",
    "        Z_list.append(calculate_Z(counts_real[i], counts_imag[i], N_sites=N_sites))\n",
    "\n",
    "        \n",
    "    \n",
    "\n",
    "    return Z_list"
   ]
  },
  {
   "cell_type": "code",
   "execution_count": 55,
   "metadata": {},
   "outputs": [
    {
     "name": "stderr",
     "output_type": "stream",
     "text": [
      "/var/folders/8s/46j41bsj6rq3xkzplbcmjm2h0000gn/T/ipykernel_55998/3987283054.py:7: DeprecationWarning: The qiskit.ignis package is deprecated and has been supersceded by the qiskit-experiments project. Refer to the migration guide: https://github.com/Qiskit/qiskit-ignis#migration-guide on how to migrate to the new project.\n",
      "  from qiskit.ignis.mitigation.measurement import (complete_meas_cal, tensored_meas_cal,\n"
     ]
    }
   ],
   "source": [
    "import qiskit\n",
    "from qiskit_aer.noise import NoiseModel\n",
    "from qiskit import QuantumRegister, QuantumCircuit, ClassicalRegister, Aer\n",
    "from qiskit.tools.visualization import plot_histogram\n",
    "from qiskit.providers.fake_provider import FakeGuadalupe\n",
    "# Import measurement calibration functions\n",
    "from qiskit.ignis.mitigation.measurement import (complete_meas_cal, tensored_meas_cal,\n",
    "                                                 CompleteMeasFitter, TensoredMeasFitter)\n",
    "\n",
    "\n",
    "\n",
    "def measurement_error_mitigation(job):\n",
    "    #qr = qiskit.QuantumRegister(backend.configuration().n_qubits)\n",
    "    for i in range(len(job.result().results)):\n",
    "        if job.result().results[i].metadata['active_input_qubits'] != job.result().results[0].metadata['active_input_qubits']:\n",
    "            print('Not using the same qubits!!!')\n",
    "    backend_noise_model = FakeGuadalupe()\n",
    "    noise_model = NoiseModel.from_backend(backend_noise_model,gate_error=False, readout_error=True, thermal_relaxation=False)\n",
    "    n_qubits = job.result().results[0].header.n_qubits\n",
    "    active_input_qubits = job.result().results[0].metadata['active_input_qubits']\n",
    "    \n",
    "    qr = QuantumRegister(n_qubits)\n",
    "    qubit_list = active_input_qubits\n",
    "    \n",
    "    meas_calibs, state_labels = complete_meas_cal(qubit_list=qubit_list, qr=qr, circlabel='mcal')\n",
    "    \n",
    "    backend_sim = Aer.get_backend('qasm_simulator')\n",
    "    job_measurement_error = qiskit.execute(meas_calibs, backend=backend_sim, shots=1000, noise_model=noise_model)\n",
    "    cal_results = job_measurement_error.result()\n",
    "    \n",
    "    meas_fitter = CompleteMeasFitter(cal_results, state_labels, qubit_list=qubit_list, circlabel='mcal')\n",
    "\n",
    "    # Get the filter object\n",
    "    meas_filter = meas_fitter.filter\n",
    "    print(meas_fitter.cal_matrix)\n",
    "    meas_fitter.plot_calibration()\n",
    "    \n",
    "    \n",
    "    # Results with mitigation\n",
    "    mitigated_result = meas_filter.apply(job.result())\n",
    "    #mitigated_counts = mitigated_result.get_counts(0)\n",
    "    \n",
    "    return mitigated_result\n",
    "\n",
    "#measurement_error_mitigation(job)"
   ]
  },
  {
   "cell_type": "code",
   "execution_count": 56,
   "metadata": {},
   "outputs": [
    {
     "ename": "AttributeError",
     "evalue": "Attribute metadata is not defined",
     "output_type": "error",
     "traceback": [
      "\u001b[0;31m---------------------------------------------------------------------------\u001b[0m",
      "\u001b[0;31mKeyError\u001b[0m                                  Traceback (most recent call last)",
      "File \u001b[0;32m~/Library/Python/3.9/lib/python/site-packages/qiskit/result/models.py:185\u001b[0m, in \u001b[0;36mExperimentResult.__getattr__\u001b[0;34m(self, name)\u001b[0m\n\u001b[1;32m    184\u001b[0m \u001b[39mtry\u001b[39;00m:\n\u001b[0;32m--> 185\u001b[0m     \u001b[39mreturn\u001b[39;00m \u001b[39mself\u001b[39;49m\u001b[39m.\u001b[39;49m_metadata[name]\n\u001b[1;32m    186\u001b[0m \u001b[39mexcept\u001b[39;00m \u001b[39mKeyError\u001b[39;00m \u001b[39mas\u001b[39;00m ex:\n",
      "\u001b[0;31mKeyError\u001b[0m: 'metadata'",
      "\nThe above exception was the direct cause of the following exception:\n",
      "\u001b[0;31mAttributeError\u001b[0m                            Traceback (most recent call last)",
      "Cell \u001b[0;32mIn [56], line 1\u001b[0m\n\u001b[0;32m----> 1\u001b[0m measurement_error_mitigation(job_real)\n",
      "Cell \u001b[0;32mIn [55], line 15\u001b[0m, in \u001b[0;36mmeasurement_error_mitigation\u001b[0;34m(job)\u001b[0m\n\u001b[1;32m     12\u001b[0m \u001b[39mdef\u001b[39;00m \u001b[39mmeasurement_error_mitigation\u001b[39m(job):\n\u001b[1;32m     13\u001b[0m     \u001b[39m#qr = qiskit.QuantumRegister(backend.configuration().n_qubits)\u001b[39;00m\n\u001b[1;32m     14\u001b[0m     \u001b[39mfor\u001b[39;00m i \u001b[39min\u001b[39;00m \u001b[39mrange\u001b[39m(\u001b[39mlen\u001b[39m(job\u001b[39m.\u001b[39mresult()\u001b[39m.\u001b[39mresults)):\n\u001b[0;32m---> 15\u001b[0m         \u001b[39mif\u001b[39;00m job\u001b[39m.\u001b[39;49mresult()\u001b[39m.\u001b[39;49mresults[i]\u001b[39m.\u001b[39;49mmetadata[\u001b[39m'\u001b[39m\u001b[39mactive_input_qubits\u001b[39m\u001b[39m'\u001b[39m] \u001b[39m!=\u001b[39m job\u001b[39m.\u001b[39mresult()\u001b[39m.\u001b[39mresults[\u001b[39m0\u001b[39m]\u001b[39m.\u001b[39mmetadata[\u001b[39m'\u001b[39m\u001b[39mactive_input_qubits\u001b[39m\u001b[39m'\u001b[39m]:\n\u001b[1;32m     16\u001b[0m             \u001b[39mprint\u001b[39m(\u001b[39m'\u001b[39m\u001b[39mNot using the same qubits!!!\u001b[39m\u001b[39m'\u001b[39m)\n\u001b[1;32m     17\u001b[0m     backend_noise_model \u001b[39m=\u001b[39m FakeGuadalupe()\n",
      "File \u001b[0;32m~/Library/Python/3.9/lib/python/site-packages/qiskit/result/models.py:187\u001b[0m, in \u001b[0;36mExperimentResult.__getattr__\u001b[0;34m(self, name)\u001b[0m\n\u001b[1;32m    185\u001b[0m     \u001b[39mreturn\u001b[39;00m \u001b[39mself\u001b[39m\u001b[39m.\u001b[39m_metadata[name]\n\u001b[1;32m    186\u001b[0m \u001b[39mexcept\u001b[39;00m \u001b[39mKeyError\u001b[39;00m \u001b[39mas\u001b[39;00m ex:\n\u001b[0;32m--> 187\u001b[0m     \u001b[39mraise\u001b[39;00m \u001b[39mAttributeError\u001b[39;00m(\u001b[39mf\u001b[39m\u001b[39m\"\u001b[39m\u001b[39mAttribute \u001b[39m\u001b[39m{\u001b[39;00mname\u001b[39m}\u001b[39;00m\u001b[39m is not defined\u001b[39m\u001b[39m\"\u001b[39m) \u001b[39mfrom\u001b[39;00m \u001b[39mex\u001b[39;00m\n",
      "\u001b[0;31mAttributeError\u001b[0m: Attribute metadata is not defined"
     ]
    }
   ],
   "source": [
    "measurement_error_mitigation(job_real)"
   ]
  },
  {
   "cell_type": "code",
   "execution_count": 73,
   "metadata": {},
   "outputs": [
    {
     "data": {
      "text/plain": [
       "ExperimentResult(shots=1024, success=True, meas_level=2, data=ExperimentResultData(counts={'0x0': 22, '0x1': 18, '0x10': 3, '0x100': 3, '0x101': 3, '0x102': 2, '0x103': 2, '0x104': 1, '0x106': 1, '0x108': 4, '0x109': 4, '0x10a': 1, '0x10c': 1, '0x10d': 3, '0x10e': 1, '0x10f': 1, '0x11': 3, '0x110': 2, '0x111': 2, '0x112': 3, '0x113': 2, '0x117': 1, '0x118': 1, '0x119': 1, '0x11a': 2, '0x11b': 1, '0x12': 5, '0x120': 3, '0x122': 1, '0x123': 1, '0x124': 2, '0x126': 1, '0x128': 4, '0x129': 6, '0x12a': 1, '0x12b': 6, '0x12e': 1, '0x12f': 4, '0x13': 9, '0x130': 1, '0x132': 2, '0x133': 1, '0x135': 1, '0x139': 3, '0x13a': 1, '0x13b': 3, '0x13c': 1, '0x14': 1, '0x140': 5, '0x142': 6, '0x143': 1, '0x144': 2, '0x146': 2, '0x147': 1, '0x148': 5, '0x149': 7, '0x14a': 8, '0x14b': 2, '0x14d': 1, '0x14f': 1, '0x15': 1, '0x150': 1, '0x151': 1, '0x153': 1, '0x158': 1, '0x15b': 2, '0x15f': 1, '0x16': 2, '0x160': 4, '0x161': 7, '0x162': 7, '0x163': 2, '0x165': 1, '0x166': 1, '0x167': 1, '0x168': 13, '0x169': 22, '0x16a': 22, '0x16b': 11, '0x16c': 5, '0x16d': 5, '0x16e': 2, '0x16f': 4, '0x17': 1, '0x170': 1, '0x172': 1, '0x177': 1, '0x178': 4, '0x179': 2, '0x17a': 14, '0x17b': 1, '0x18': 1, '0x180': 2, '0x181': 1, '0x184': 1, '0x187': 1, '0x189': 2, '0x18a': 2, '0x18b': 1, '0x18c': 1, '0x19': 1, '0x198': 2, '0x1a': 2, '0x1a0': 2, '0x1a3': 4, '0x1a7': 2, '0x1a8': 4, '0x1a9': 2, '0x1aa': 5, '0x1ab': 2, '0x1ad': 1, '0x1af': 2, '0x1b': 1, '0x1b0': 1, '0x1b8': 1, '0x1ba': 1, '0x1bb': 3, '0x1c': 1, '0x1c0': 2, '0x1c1': 2, '0x1c2': 3, '0x1c3': 2, '0x1c4': 1, '0x1c6': 3, '0x1c8': 2, '0x1ca': 3, '0x1cb': 1, '0x1ce': 3, '0x1cf': 1, '0x1d0': 1, '0x1d9': 1, '0x1da': 1, '0x1e0': 1, '0x1e1': 1, '0x1e3': 1, '0x1e6': 1, '0x1e7': 2, '0x1e8': 3, '0x1e9': 2, '0x1ea': 14, '0x1eb': 5, '0x1ec': 2, '0x1ed': 2, '0x1ee': 1, '0x1ef': 2, '0x1f0': 1, '0x1f3': 2, '0x1f4': 1, '0x1f9': 2, '0x1fa': 1, '0x1fd': 1, '0x2': 29, '0x20': 4, '0x200': 1, '0x201': 3, '0x202': 2, '0x203': 4, '0x204': 1, '0x206': 1, '0x209': 2, '0x20a': 2, '0x20c': 1, '0x20d': 1, '0x20f': 1, '0x21': 5, '0x210': 1, '0x213': 1, '0x214': 1, '0x21b': 1, '0x21e': 1, '0x22': 2, '0x220': 1, '0x221': 2, '0x228': 3, '0x229': 1, '0x22a': 2, '0x22b': 2, '0x22c': 1, '0x22d': 1, '0x22e': 1, '0x23': 1, '0x236': 2, '0x237': 1, '0x239': 1, '0x23b': 1, '0x240': 1, '0x242': 1, '0x243': 1, '0x24b': 1, '0x24f': 1, '0x250': 1, '0x253': 1, '0x257': 1, '0x25a': 2, '0x25b': 1, '0x26': 3, '0x262': 1, '0x263': 1, '0x268': 2, '0x26c': 1, '0x26d': 1, '0x271': 1, '0x276': 1, '0x278': 2, '0x280': 3, '0x281': 1, '0x282': 5, '0x289': 1, '0x28a': 3, '0x29': 3, '0x290': 1, '0x294': 1, '0x298': 1, '0x2a2': 1, '0x2a3': 1, '0x2ad': 2, '0x2ae': 1, '0x2b3': 1, '0x2b7': 1, '0x2b8': 1, '0x2bc': 1, '0x2bf': 1, '0x2c0': 1, '0x2ca': 1, '0x2cb': 1, '0x2d0': 1, '0x2d4': 1, '0x2e': 1, '0x2e0': 1, '0x2e2': 1, '0x2e3': 1, '0x2e8': 1, '0x2ea': 3, '0x2eb': 1, '0x2ec': 1, '0x2f': 1, '0x2f0': 1, '0x2fb': 2, '0x2ff': 1, '0x3': 18, '0x30': 1, '0x300': 1, '0x301': 1, '0x302': 2, '0x303': 1, '0x307': 1, '0x309': 1, '0x30a': 3, '0x30b': 1, '0x30c': 1, '0x31': 2, '0x311': 1, '0x31a': 2, '0x322': 1, '0x323': 2, '0x328': 1, '0x329': 2, '0x32b': 1, '0x32c': 1, '0x33': 2, '0x339': 1, '0x33b': 1, '0x341': 1, '0x343': 1, '0x348': 1, '0x349': 1, '0x34b': 3, '0x34e': 1, '0x358': 2, '0x359': 1, '0x362': 2, '0x363': 3, '0x365': 1, '0x369': 2, '0x36a': 5, '0x36b': 1, '0x372': 2, '0x378': 2, '0x37a': 1, '0x38': 2, '0x380': 1, '0x382': 1, '0x388': 3, '0x389': 1, '0x38a': 2, '0x38b': 1, '0x399': 1, '0x39b': 2, '0x3a': 1, '0x3a1': 1, '0x3a2': 1, '0x3a8': 4, '0x3ad': 1, '0x3ae': 2, '0x3b0': 1, '0x3b5': 1, '0x3b9': 1, '0x3bd': 1, '0x3c2': 3, '0x3c4': 1, '0x3c7': 1, '0x3ca': 1, '0x3cb': 1, '0x3d0': 1, '0x3d2': 1, '0x3e2': 1, '0x3e6': 1, '0x3e8': 3, '0x3e9': 1, '0x3ea': 1, '0x3eb': 1, '0x3ee': 1, '0x3f8': 1, '0x3fa': 3, '0x4': 4, '0x40': 1, '0x41': 4, '0x42': 4, '0x43': 4, '0x46': 3, '0x48': 6, '0x49': 2, '0x4a': 4, '0x4b': 5, '0x4c': 1, '0x4d': 2, '0x5': 4, '0x51': 2, '0x52': 1, '0x53': 2, '0x57': 1, '0x58': 3, '0x5a': 2, '0x5f': 1, '0x6': 4, '0x60': 3, '0x61': 1, '0x62': 5, '0x63': 3, '0x66': 1, '0x67': 1, '0x68': 3, '0x69': 4, '0x6a': 5, '0x6b': 6, '0x6c': 1, '0x6e': 1, '0x70': 1, '0x71': 1, '0x72': 1, '0x73': 2, '0x77': 3, '0x79': 2, '0x7a': 1, '0x7b': 2, '0x7d': 1, '0x8': 7, '0x80': 5, '0x81': 4, '0x82': 4, '0x83': 2, '0x84': 3, '0x85': 2, '0x86': 2, '0x87': 1, '0x88': 4, '0x89': 3, '0x8a': 7, '0x8b': 5, '0x8c': 1, '0x8e': 2, '0x9': 3, '0x90': 2, '0x91': 4, '0x92': 4, '0x93': 5, '0x96': 1, '0x98': 2, '0x99': 1, '0x9a': 6, '0x9e': 1, '0xa': 4, '0xa1': 1, '0xa2': 3, '0xa3': 1, '0xa6': 1, '0xa8': 2, '0xa9': 2, '0xaa': 2, '0xab': 1, '0xac': 1, '0xae': 1, '0xb': 5, '0xb1': 1, '0xb2': 1, '0xb6': 1, '0xba': 1, '0xbb': 1, '0xc': 2, '0xc0': 6, '0xc2': 6, '0xc3': 5, '0xc4': 2, '0xc6': 1, '0xc7': 1, '0xc8': 3, '0xc9': 2, '0xca': 1, '0xcb': 2, '0xcd': 1, '0xce': 1, '0xcf': 1, '0xd': 1, '0xd0': 4, '0xd1': 2, '0xd2': 1, '0xd3': 2, '0xd8': 1, '0xd9': 1, '0xda': 1, '0xe': 2, '0xe1': 2, '0xe2': 1, '0xe3': 2, '0xe5': 1, '0xe8': 1, '0xe9': 1, '0xea': 2, '0xeb': 4, '0xef': 1, '0xf': 1, '0xf1': 1, '0xf2': 1, '0xf3': 1, '0xf7': 1, '0xf8': 1, '0xfa': 1, '0xfb': 1}), header=QobjExperimentHeader(qubit_labels=[['q', 0], ['q', 1], ['q', 2], ['q', 3], ['q', 4], ['q', 5], ['q', 6], ['q', 7], ['q', 8], ['q', 9], ['q', 10], ['q', 11], ['q', 12], ['q', 13], ['q', 14], ['q', 15]], n_qubits=16, qreg_sizes=[['q', 16]], clbit_labels=[['c', 0], ['c', 1], ['c', 2], ['c', 3], ['c', 4], ['c', 5], ['c', 6], ['c', 7], ['c', 8], ['c', 9]], memory_slots=10, creg_sizes=[['c', 10]], name='Re-circ-0', global_phase=3.1415926535897936, metadata={}), status=done)"
      ]
     },
     "execution_count": 73,
     "metadata": {},
     "output_type": "execute_result"
    }
   ],
   "source": [
    "job_real.result().results[0]"
   ]
  },
  {
   "cell_type": "code",
   "execution_count": 76,
   "metadata": {},
   "outputs": [],
   "source": [
    "# N=4, Asym, extrapo = 0\n",
    "# job_real = backend.retrieve_job('63fb31d3dfd0c1bdfe0bfb80')\n",
    "# job_imag = backend.retrieve_job('63fb31d67ad0f9bdd0a7cbee')\n",
    "# #tau = 0.011100302637884566 # N=6\n",
    "\n",
    "# # N=4, Asym, extrapo = 1\n",
    "# job_real_1 = backend.retrieve_job('63fb31d9da181c44bed956b1')\n",
    "# job_imag_1 = backend.retrieve_job('63fb31dca8f65f72c0efda5a')\n",
    "\n",
    "# # N=4, Asym, extrapo = 2\n",
    "# job_real_2 = backend.retrieve_job('63fb33857ad0f95128a7cbf8')\n",
    "# job_imag_2 = backend.retrieve_job('63fb3388d299e3cd504b3958')\n",
    "\n",
    "# N=4, Asym, extrapo = 0, step=2\n",
    "#job_real = backend.retrieve_job('63fb3df7da181c4d63d9570e')\n",
    "#job_imag = backend.retrieve_job('63fb3e00a29ce1256c8bd0a2')\n",
    "#tau = 0.011100302637884566\n",
    "\n",
    "# Test\n",
    "job_real_test = backend.retrieve_job('63fb89e735085f188615733e')\n",
    "#job_imag = backend.retrieve_job('63fb89eb8c438b6bc93bfac3')\n",
    "#tau = 0.055659863049549646\n",
    "F_list_400 = np.load('F_list_d4e2_delta_4.npy')"
   ]
  },
  {
   "cell_type": "code",
   "execution_count": 51,
   "metadata": {},
   "outputs": [],
   "source": [
    "Z_list = get_Z_list_from_job(job_real=job_real, job_imag = job_imag)\n",
    "Z_list_1 = get_Z_list_from_job(job_real=job_real_1, job_imag = job_imag_1)\n",
    "Z_list_2 = get_Z_list_from_job(job_real=job_real_2, job_imag=job_imag_2)"
   ]
  },
  {
   "cell_type": "code",
   "execution_count": 72,
   "metadata": {},
   "outputs": [
    {
     "data": {
      "text/plain": [
       "<matplotlib.legend.Legend at 0x2aa51d6d0>"
      ]
     },
     "execution_count": 72,
     "metadata": {},
     "output_type": "execute_result"
    },
    {
     "data": {
      "image/png": "[encoded data removed]",
      "text/plain": [
       "<Figure size 640x480 with 1 Axes>"
      ]
     },
     "metadata": {},
     "output_type": "display_data"
    }
   ],
   "source": [
    "plt.plot(np.array(Z_list).imag,label='raw')\n",
    "#plt.plot(np.array(Z_list_1).real,label='extrapo=1')\n",
    "#plt.plot(np.array(Z_list_2).real, label='extrapo=2')\n",
    "plt.plot(1.5*np.array(Z_list).imag-0.5*np.array(Z_list_1).imag,label='zne=1')\n",
    "plt.legend()"
   ]
  },
  {
   "cell_type": "code",
   "execution_count": 185,
   "metadata": {},
   "outputs": [
    {
     "data": {
      "text/plain": [
       "270"
      ]
     },
     "execution_count": 185,
     "metadata": {},
     "output_type": "execute_result"
    }
   ],
   "source": [
    "len(Z_list)"
   ]
  },
  {
   "cell_type": "code",
   "execution_count": 32,
   "metadata": {},
   "outputs": [],
   "source": [
    "ACDF = Assembly_ACDF(Z_list=Z_list,F_list=F_list_400[0:len(Z_list)],precision=10000)"
   ]
  },
  {
   "cell_type": "code",
   "execution_count": 33,
   "metadata": {},
   "outputs": [
    {
     "name": "stderr",
     "output_type": "stream",
     "text": [
      "/Users/dranz/Library/Python/3.9/lib/python/site-packages/matplotlib/cbook/__init__.py:1369: ComplexWarning: Casting complex values to real discards the imaginary part\n",
      "  return np.asarray(x, float)\n"
     ]
    },
    {
     "data": {
      "text/plain": [
       "[<matplotlib.lines.Line2D at 0x2b769a460>]"
      ]
     },
     "execution_count": 33,
     "metadata": {},
     "output_type": "execute_result"
    },
    {
     "data": {
      "image/png": "[encoded data removed]",
      "text/plain": [
       "<Figure size 640x480 with 1 Axes>"
      ]
     },
     "metadata": {},
     "output_type": "display_data"
    }
   ],
   "source": [
    "plt.plot(ACDF)"
   ]
  },
  {
   "cell_type": "code",
   "execution_count": null,
   "metadata": {},
   "outputs": [],
   "source": []
  }
 ],
 "metadata": {
  "kernelspec": {
   "display_name": "Python 3",
   "language": "python",
   "name": "python3"
  },
  "language_info": {
   "codemirror_mode": {
    "name": "ipython",
    "version": 3
   },
   "file_extension": ".py",
   "mimetype": "text/x-python",
   "name": "python",
   "nbconvert_exporter": "python",
   "pygments_lexer": "ipython3",
   "version": "3.9.6 (default, Oct 18 2022, 12:41:40) \n[Clang 14.0.0 (clang-1400.0.29.202)]"
  },
  "orig_nbformat": 4,
  "vscode": {
   "interpreter": {
    "hash": "31f2aee4e71d21fbe5cf8b01ff0e069b9275f58929596ceb00d14d90e3e16cd6"
   }
  }
 },
 "nbformat": 4,
 "nbformat_minor": 2
}

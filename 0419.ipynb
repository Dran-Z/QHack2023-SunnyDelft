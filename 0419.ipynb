{
 "cells": [
  {
   "cell_type": "code",
   "execution_count": 47,
   "metadata": {},
   "outputs": [
    {
     "name": "stdout",
     "output_type": "stream",
     "text": [
      "The autoreload extension is already loaded. To reload it, use:\n",
      "  %reload_ext autoreload\n"
     ]
    }
   ],
   "source": [
    "import numpy as np\n",
    "import math\n",
    "from math import pi\n",
    "import matplotlib.pyplot as plt\n",
    "%matplotlib inline\n",
    "\n",
    "#from scipy.special import iv\n",
    "#from scipy.linalg import expm, block_diag\n",
    "#from scipy import integrate\n",
    "#from openfermion import fermi_hubbard, jordan_wigner, get_sparse_operator\n",
    "from collections import Counter\n",
    "\n",
    "from qiskit import QuantumCircuit, QuantumRegister\n",
    "from qiskit import Aer, transpile\n",
    "from qiskit.circuit import Parameter\n",
    "from qiskit import quantum_info as qi\n",
    "#from qiskit.providers.fake_provider import FakeGuadalupe, FakeNairobi\n",
    "#from qiskit.visualization import plot_histogram\n",
    "from scipy.linalg import expm\n",
    "from HA_utils import Assembly_ACDF, get_real_CDF, get_fh_matrix\n",
    "\n",
    "\n",
    "import time\n",
    "\n",
    "%load_ext autoreload\n",
    "%autoreload 2"
   ]
  },
  {
   "cell_type": "code",
   "execution_count": 2,
   "metadata": {},
   "outputs": [],
   "source": [
    "def fh_evolution_trotter(N_sites, t, U, tau, j, step, to_gate=True):\n",
    "    \n",
    "    qr = QuantumRegister(2*N_sites,'qr')\n",
    "    qc = QuantumCircuit(qr)\n",
    "    \n",
    "    for _ in range(step):\n",
    "        \n",
    "        ## Hopping terms \n",
    "        theta = tau*t*j/step\n",
    "        \n",
    "        for i in range(N_sites//2):\n",
    "            qc.rxx(theta,2*i,2*i+1)\n",
    "            qc.ryy(theta,2*i,2*i+1)\n",
    "\n",
    "            qc.rxx(theta,2*i+N_sites,2*i+1+N_sites)\n",
    "            qc.ryy(theta,2*i+N_sites,2*i+1+N_sites)\n",
    "            \n",
    "        for i in range((N_sites-1)//2):\n",
    "            qc.rxx(theta,2*i+1,2*i+2)\n",
    "            qc.ryy(theta,2*i+1,2*i+2)\n",
    "\n",
    "            qc.rxx(theta,2*i+N_sites+1,2*i+2+N_sites)\n",
    "            qc.ryy(theta,2*i+N_sites+1,2*i+2+N_sites)\n",
    "        \n",
    "        ## Potential\n",
    "        gamma = tau*j*U/(2*step)\n",
    "        \n",
    "        for i in range(N_sites):\n",
    "            qc.rzz(gamma,i,i+N_sites)\n",
    "    return qc.to_gate() if to_gate else qc\n",
    "\n",
    "def initial_state_prep(N_sites, initial_state_symmetry=True, to_gate=True):\n",
    "\n",
    "    qr = QuantumRegister(2*N_sites,'q')\n",
    "    qc = QuantumCircuit(qr)\n",
    "\n",
    "    if initial_state_symmetry:\n",
    "        qc.h(0)\n",
    "        for i in range(N_sites):\n",
    "            if i%2!=0:\n",
    "                qc.x(i)\n",
    "            else:\n",
    "                qc.x(i+N_sites)\n",
    "\n",
    "        qc.cnot(0,range(1,2*N_sites))\n",
    "\n",
    "    else:\n",
    "        for i in range(N_sites):\n",
    "            if i%2!=0:\n",
    "                qc.x(i)\n",
    "            else:\n",
    "                qc.x(i+N_sites)\n",
    "        \n",
    "\n",
    "    return qc.to_gate() if to_gate else qc"
   ]
  },
  {
   "cell_type": "code",
   "execution_count": 3,
   "metadata": {},
   "outputs": [],
   "source": [
    "def get_new_Hadamard_circuit(N_sites, t, U, tau, j, step, initial_state_symmetry=True,test_type='real'):\n",
    "\n",
    "    qr = QuantumRegister(2*N_sites+2,'q')\n",
    "    qc = QuantumCircuit(qr)\n",
    "\n",
    "    qc.h([0,1])\n",
    "    if test_type=='real':\n",
    "        pass\n",
    "    elif test_type=='imag':\n",
    "        qc.s(0)\n",
    "\n",
    "    \n",
    "    prep_gate = initial_state_prep(N_sites=N_sites,initial_state_symmetry=initial_state_symmetry)\n",
    "    qc.append(prep_gate.control(), [0]+list(range(2,2*N_sites+2)))\n",
    "\n",
    "    evolution_gate = fh_evolution_trotter(N_sites=N_sites, t=t, U=U, tau=tau, j=j, step=step)\n",
    "    qc.append(evolution_gate,range(2,2*N_sites+2))\n",
    "\n",
    "    prep_gate_conj = prep_gate.reverse_ops()\n",
    "    qc.append(prep_gate_conj.control(), [1]+list(range(2,2*N_sites+2)))\n",
    "\n",
    "    qc.h([0,1])\n",
    "\n",
    "    qc.measure_all()\n",
    "\n",
    "    return qc"
   ]
  },
  {
   "cell_type": "code",
   "execution_count": 4,
   "metadata": {},
   "outputs": [],
   "source": [
    "def get_new_Hadamard_circuit_para(N_sites, theta_para, gamma_para, step, initial_state_symmetry=True,test_type='real'):\n",
    "\n",
    "    def fh_evolution_para(N_sites, theta_para, gamma_para, step, to_gate=True):\n",
    "    \n",
    "        qr = QuantumRegister(2*N_sites,'qr')\n",
    "        qc = QuantumCircuit(qr)\n",
    "        \n",
    "        for _ in range(step):\n",
    "            \n",
    "            ## Hopping terms \n",
    "            #theta = tau*t*j/step\n",
    "            #theta = Parameter('theta')\n",
    "            \n",
    "            for i in range(N_sites//2):\n",
    "                qc.rxx(theta_para,2*i,2*i+1)\n",
    "                qc.ryy(theta_para,2*i,2*i+1)\n",
    "\n",
    "                qc.rxx(theta_para,2*i+N_sites,2*i+1+N_sites)\n",
    "                qc.ryy(theta_para,2*i+N_sites,2*i+1+N_sites)\n",
    "                \n",
    "            for i in range((N_sites-1)//2):\n",
    "                qc.rxx(theta_para,2*i+1,2*i+2)\n",
    "                qc.ryy(theta_para,2*i+1,2*i+2)\n",
    "\n",
    "                qc.rxx(theta_para,2*i+N_sites+1,2*i+2+N_sites)\n",
    "                qc.ryy(theta_para,2*i+N_sites+1,2*i+2+N_sites)\n",
    "            \n",
    "            ## Potential\n",
    "            #gamma = tau*j*U/(2*step)\n",
    "            #gamma = Parameter('gamma')\n",
    "            \n",
    "            for i in range(N_sites):\n",
    "                qc.rzz(gamma_para,i,i+N_sites)\n",
    "        return qc.to_gate() if to_gate else qc\n",
    "\n",
    "    qr = QuantumRegister(2*N_sites+2,'q')\n",
    "    qc = QuantumCircuit(qr)\n",
    "\n",
    "    qc.h([0,1])\n",
    "    if test_type=='real':\n",
    "        pass\n",
    "    elif test_type=='imag':\n",
    "        qc.s(0)\n",
    "\n",
    "    \n",
    "    prep_gate = initial_state_prep(N_sites=N_sites,initial_state_symmetry=initial_state_symmetry)\n",
    "    qc.append(prep_gate.control(), [0]+list(range(2,2*N_sites+2)))\n",
    "\n",
    "    evolution_gate = fh_evolution_para(N_sites=N_sites, theta_para=theta_para, gamma_para=gamma_para, step=step)\n",
    "    qc.append(evolution_gate,range(2,2*N_sites+2))\n",
    "\n",
    "    prep_gate_conj = prep_gate.reverse_ops()\n",
    "    qc.append(prep_gate_conj.control(), [1]+list(range(2,2*N_sites+2)))\n",
    "\n",
    "    qc.h([0,1])\n",
    "\n",
    "    qc.measure_all()\n",
    "\n",
    "    return qc "
   ]
  },
  {
   "cell_type": "code",
   "execution_count": 5,
   "metadata": {},
   "outputs": [],
   "source": [
    "def get_new_Z(N_sites, t, U, tau, j, step, shots, initial_state_symmetry=True):\n",
    "\n",
    "    qc_real = get_new_Hadamard_circuit(N_sites, t, U, tau, j, step, initial_state_symmetry=initial_state_symmetry, test_type='real')\n",
    "    qc_imag = get_new_Hadamard_circuit(N_sites, t, U, tau, j, step, initial_state_symmetry=initial_state_symmetry, test_type='imag')\n",
    "    backend=Aer.get_backend('qasm_simulator')\n",
    "\n",
    "    #start=time.time()\n",
    "    qc_real = transpile(qc_real,backend)\n",
    "    qc_imag = transpile(qc_imag,backend)\n",
    "    #end=time.time()\n",
    "    #print('time transpile: ', end-start)\n",
    "    job_real = backend.run(qc_real,shots=shots)\n",
    "    job_imag = backend.run(qc_imag,shots=shots)\n",
    "    \n",
    "    counts_real = job_real.result().get_counts()\n",
    "    counts_imag = job_imag.result().get_counts()\n",
    "\n",
    "    p00, p01, p10, p11 = 0,0,0,0\n",
    "    if ('0'*2*N_sites+'00') in counts_real.keys():\n",
    "        p00 = counts_real['0'*2*N_sites+'00']/shots\n",
    "    if ('0'*2*N_sites+'01') in counts_real.keys():\n",
    "        p01 = counts_real['0'*2*N_sites+'01']/shots\n",
    "    if ('0'*2*N_sites+'10') in counts_real.keys():\n",
    "        p10 = counts_real['0'*2*N_sites+'10']/shots\n",
    "    if ('0'*2*N_sites+'11') in counts_real.keys():\n",
    "        p11 = counts_real['0'*2*N_sites+'11']/shots\n",
    "\n",
    "    X = p00+p11-p01-p10\n",
    "\n",
    "    p00, p01, p10, p11 = 0,0,0,0\n",
    "    if ('0'*2*N_sites+'00') in counts_imag.keys():\n",
    "        p00 = counts_imag['0'*2*N_sites+'00']/shots\n",
    "    if ('0'*2*N_sites+'01') in counts_imag.keys():\n",
    "        p01 = counts_imag['0'*2*N_sites+'01']/shots\n",
    "    if ('0'*2*N_sites+'10') in counts_imag.keys():\n",
    "        p10 = counts_imag['0'*2*N_sites+'10']/shots\n",
    "    if ('0'*2*N_sites+'11') in counts_imag.keys():\n",
    "        p11 = counts_imag['0'*2*N_sites+'11']/shots\n",
    "\n",
    "    Y = p00+p11-p01-p10\n",
    "\n",
    "    lambda_R = U/4*N_sites\n",
    "\n",
    "    Z = 2*(X-1j*Y)*np.exp(-1j*lambda_R*j*tau)\n",
    "    return Z\n",
    "\n",
    "def get_shots_per_run(F_list, total_shots,type='sample'):\n",
    "\n",
    "    F_list_abs = np.array([np.abs(ele) for ele in F_list])\n",
    "    probs = F_list_abs/sum(F_list_abs)\n",
    "    if type=='sample':\n",
    "        sampling = np.random.choice(range(len(probs)), size=int(total_shots), p=probs)\n",
    "        counter = Counter(sampling)\n",
    "\n",
    "        shots_list = np.zeros(len(probs),dtype=int)\n",
    "        for i in range(len(probs)):\n",
    "            shots_list[i] = int(counter[i])\n",
    "    elif type=='distribution':\n",
    "        shots_list = np.round(total_shots*probs)\n",
    "    return shots_list\n",
    "\n",
    "def get_Z_list(d, N_sites, t, U, tau, step, shots_list, initial_state_symmetry=True): ## shots_per_run should be replaced\n",
    "    \n",
    "    #Z_list = [get_new_Z(N_sites, t, U, tau, 2*j+1, step, shots=shots_list) for j in range(d+1)]\n",
    "\n",
    "    Z_list = np.zeros(d+1,dtype='complex')\n",
    "    for j in range(d+1):\n",
    "        if shots_list[j]:\n",
    "            Z_list[j] = get_new_Z(N_sites, t, U, tau, 2*j+1, step, shots=shots_list[j],initial_state_symmetry=initial_state_symmetry)\n",
    "    return Z_list\n",
    "\n",
    "\n",
    "def get_Z_list_para(d, N_sites, t, U, tau, step, shots_list, initial_state_symmetry=True): ## shots_per_run should be replaced\n",
    "    \n",
    "    #Z_list = [get_new_Z(N_sites, t, U, tau, 2*j+1, step, shots=shots_list) for j in range(d+1)]\n",
    "    theta = Parameter('theta')\n",
    "    gamma = Parameter('gamma')\n",
    "    circuit_para_real = get_new_Hadamard_circuit_para(N_sites=N_sites, theta_para=theta, gamma_para=gamma, step=step, initial_state_symmetry=initial_state_symmetry,test_type='real')\n",
    "    circuit_para_imag = get_new_Hadamard_circuit_para(N_sites=N_sites, theta_para=theta, gamma_para=gamma, step=step, initial_state_symmetry=initial_state_symmetry,test_type='imag')\n",
    "    backend=Aer.get_backend('qasm_simulator')\n",
    "\n",
    "    circuit_real_transpiled = transpile(circuit_para_real,backend)\n",
    "    circuit_imag_transpiled = transpile(circuit_para_imag,backend)\n",
    "    Z_list = np.zeros(d+1,dtype='complex')\n",
    "    for j in range(d+1):\n",
    "        if shots_list[j]:\n",
    "            shots = shots_list[j]\n",
    "            theta_value = tau*t*(2*j+1)/step\n",
    "            gamma_value = tau*U*(2*j+1)/(2*step)\n",
    "            circuit_real_binded = circuit_real_transpiled.bind_parameters({theta:theta_value,gamma:gamma_value})\n",
    "            circuit_imag_binded = circuit_imag_transpiled.bind_parameters({theta:theta_value,gamma:gamma_value})\n",
    "            job_real = backend.run(circuit_real_binded,shots=shots)\n",
    "            job_imag = backend.run(circuit_imag_binded,shots=shots)\n",
    "\n",
    "            counts_real = job_real.result().get_counts()\n",
    "            counts_imag = job_imag.result().get_counts()\n",
    "\n",
    "            p00, p01, p10, p11 = 0,0,0,0\n",
    "            if ('0'*2*N_sites+'00') in counts_real.keys():\n",
    "                p00 = counts_real['0'*2*N_sites+'00']/shots\n",
    "            if ('0'*2*N_sites+'01') in counts_real.keys():\n",
    "                p01 = counts_real['0'*2*N_sites+'01']/shots\n",
    "            if ('0'*2*N_sites+'10') in counts_real.keys():\n",
    "                p10 = counts_real['0'*2*N_sites+'10']/shots\n",
    "            if ('0'*2*N_sites+'11') in counts_real.keys():\n",
    "                p11 = counts_real['0'*2*N_sites+'11']/shots\n",
    "\n",
    "            X = p00+p11-p01-p10\n",
    "\n",
    "            p00, p01, p10, p11 = 0,0,0,0\n",
    "            if ('0'*2*N_sites+'00') in counts_imag.keys():\n",
    "                p00 = counts_imag['0'*2*N_sites+'00']/shots\n",
    "            if ('0'*2*N_sites+'01') in counts_imag.keys():\n",
    "                p01 = counts_imag['0'*2*N_sites+'01']/shots\n",
    "            if ('0'*2*N_sites+'10') in counts_imag.keys():\n",
    "                p10 = counts_imag['0'*2*N_sites+'10']/shots\n",
    "            if ('0'*2*N_sites+'11') in counts_imag.keys():\n",
    "                p11 = counts_imag['0'*2*N_sites+'11']/shots\n",
    "\n",
    "            Y = p00+p11-p01-p10\n",
    "\n",
    "            lambda_R = U/4*N_sites\n",
    "\n",
    "            Z = 2*(X-1j*Y)*np.exp(-1j*lambda_R*(2*j+1)*tau)\n",
    "            Z_list[j] = Z\n",
    "\n",
    "    return Z_list"
   ]
  },
  {
   "cell_type": "code",
   "execution_count": 6,
   "metadata": {},
   "outputs": [
    {
     "name": "stderr",
     "output_type": "stream",
     "text": [
      "/Users/dranz/Library/Python/3.9/lib/python/site-packages/numpy/linalg/linalg.py:2146: RuntimeWarning: divide by zero encountered in det\n",
      "  r = _umath_linalg.det(a, signature=signature)\n",
      "/Users/dranz/Library/Python/3.9/lib/python/site-packages/numpy/linalg/linalg.py:2146: RuntimeWarning: invalid value encountered in det\n",
      "  r = _umath_linalg.det(a, signature=signature)\n"
     ]
    }
   ],
   "source": [
    "N_sites = 2\n",
    "t = 1\n",
    "U = 4\n",
    "step = 200\n",
    "#total_shots=1500\n",
    "precision = 20000\n",
    "initial_state_symmetry=True\n",
    "#total_shots_list = [1500, 2500, 5000, 10000]\n",
    "total_shots_list = [5000]\n",
    "#F_list_import = np.load('F_list/F_list_d2e3_lim2e3_delta4.npy')\n",
    "F_list_import=np.load('F_list/F_list_d2e4_lim1e4.npy')\n",
    "d = 20000\n",
    "\n",
    "\n",
    "fh_matrix = get_fh_matrix(N_sites=N_sites, t=t, U=U)\n",
    "#tau = 3*pi/(4*np.linalg.norm(fh_matrix))\n",
    "tau = pi/(4*np.linalg.norm(fh_matrix))\n",
    "\n",
    "ACDF_list = []\n",
    "for total_shots in total_shots_list:\n",
    "    shots_list = get_shots_per_run(F_list=F_list_import,\n",
    "                                total_shots=total_shots)\n",
    "\n",
    "    # Z_list = get_Z_list(d=d, N_sites=N_sites, t=t, U=U,\n",
    "    #                     tau=tau, step=step, shots_list=shots_list,\n",
    "    #                     initial_state_symmetry=initial_state_symmetry)\n",
    "    \n",
    "    Z_list = get_Z_list_para(d=d, N_sites=N_sites, t=t, U=U, tau=tau, step=step,\n",
    "                            shots_list=shots_list, initial_state_symmetry=initial_state_symmetry)\n",
    "\n",
    "    ACDF = Assembly_ACDF(Z_list=Z_list, F_list=F_list_import, precision=precision)\n",
    "    ACDF_list.append(ACDF)\n",
    "\n",
    "CDF = get_real_CDF(N_sites=N_sites,t=t,U=U,tau=tau,initial_state_symmetry=initial_state_symmetry,precision=precision)"
   ]
  },
  {
   "cell_type": "code",
   "execution_count": 7,
   "metadata": {},
   "outputs": [
    {
     "name": "stderr",
     "output_type": "stream",
     "text": [
      "/Users/dranz/Library/Python/3.9/lib/python/site-packages/matplotlib/cbook/__init__.py:1369: ComplexWarning: Casting complex values to real discards the imaginary part\n",
      "  return np.asarray(x, float)\n"
     ]
    },
    {
     "data": {
      "text/plain": [
       "<matplotlib.legend.Legend at 0x2901437f0>"
      ]
     },
     "execution_count": 7,
     "metadata": {},
     "output_type": "execute_result"
    },
    {
     "data": {
      "image/png": "[encoded data removed]",
      "text/plain": [
       "<Figure size 1200x400 with 2 Axes>"
      ]
     },
     "metadata": {},
     "output_type": "display_data"
    }
   ],
   "source": [
    "x_list = np.linspace(-pi/3,pi/3,precision)\n",
    "fig, ax = plt.subplots(1,2,figsize=(12,4))\n",
    "\n",
    "for i in range(len(total_shots_list)):\n",
    "    ax[0].plot(x_list,ACDF_list[i],label='shots='+str(total_shots_list[i]*2))\n",
    "ax[0].plot(x_list, CDF ,label='real CDF',linewidth=2)\n",
    "ax[0].legend()\n",
    "ax[0].set_xlabel('x')\n",
    "ax[0].set_xlim([-1,1])\n",
    "ax[0].set_ylim([-0.2,1.2])\n",
    "ax[0].set_title('N_sites = '+str(N_sites))\n",
    "\n",
    "for i in range(len(total_shots_list)):\n",
    "    ax[1].plot(x_list,ACDF_list[i],label='shots='+str(total_shots_list[i]*2))\n",
    "ax[1].plot(x_list, CDF,label='real CDF')\n",
    "ax[1].set_xlim([-0.34,-0.32])\n",
    "# ax[1].hlines(.21, -0.34, -0.32,linestyles='dashdot')\n",
    "# ax[1].vlines(-0.3308, -1, 0.21,linestyles='dashed',label='-0.3308')\n",
    "# ax[1].vlines(-0.33135, -1, 0,linestyles='dashed',colors='orange')\n",
    "ax[1].legend()\n",
    "#ax[1].set_xlim([-0.11,-0.08])\n",
    "#ax[1].vlines(-0.0964,-1,0)\n",
    "#ax[1].vlines(-0.1012,-1,0,linestyles='dashed',colors='orange',label='-.10093')\n",
    "#ax[1].vlines(-0.1005,-1,0.18,linestyles='dashed',label='-.1005')\n",
    "#ax[1].hlines(0.177,-0.11,0,linestyles='dashdot')\n",
    "#ax[1].set_xticks([-.34,-.33135,-.32])\n",
    "#ax[1].set_xticks([-.11,-.08])\n",
    "#ax[1].text(.01,.01,'-0.3313')\n",
    "ax[1].set_ylim([-0.05,0.45])\n",
    "#ax[1].set_xlabel('x')\n",
    "ax[1].legend()\n"
   ]
  },
  {
   "cell_type": "code",
   "execution_count": 127,
   "metadata": {},
   "outputs": [],
   "source": [
    "step = 1\n",
    "fh_circuit = fh_evolution_trotter(N_sites=2, t=1, U=4, tau=1, j=1, step=step, to_gate=False)"
   ]
  },
  {
   "cell_type": "code",
   "execution_count": 128,
   "metadata": {},
   "outputs": [
    {
     "data": {
      "image/png": "[encoded data removed]",
      "text/plain": [
       "<Figure size 633.96x367.889 with 1 Axes>"
      ]
     },
     "execution_count": 128,
     "metadata": {},
     "output_type": "execute_result"
    }
   ],
   "source": [
    "fh_circuit.draw('mpl')"
   ]
  },
  {
   "attachments": {},
   "cell_type": "markdown",
   "metadata": {},
   "source": [
    "## Hamiltonian\n",
    "\n",
    "$$\n",
    "H = X_1 X_2 + X_3 X_4 + Y_1 Y_2 + Y_3 Y_4 + 2(Z_1 Z_3 + Z_2 Z_4)\n",
    "$$\n",
    "\n",
    "$$\n",
    "U = e^{-itH}\n",
    "$$"
   ]
  },
  {
   "cell_type": "code",
   "execution_count": 135,
   "metadata": {},
   "outputs": [
    {
     "data": {
      "text/plain": [
       "array([[0.+0.00000000e+00j, 0.+0.00000000e+00j, 0.+0.00000000e+00j,\n",
       "        0.+0.00000000e+00j],\n",
       "       [0.+0.00000000e+00j, 0.+0.00000000e+00j, 0.+0.00000000e+00j,\n",
       "        0.+0.00000000e+00j],\n",
       "       [0.+0.00000000e+00j, 0.+5.55111512e-17j, 0.+0.00000000e+00j,\n",
       "        0.+0.00000000e+00j],\n",
       "       [0.+5.55111512e-17j, 0.+0.00000000e+00j, 0.+0.00000000e+00j,\n",
       "        0.+0.00000000e+00j]])"
      ]
     },
     "execution_count": 135,
     "metadata": {},
     "output_type": "execute_result"
    }
   ],
   "source": [
    "qc = QuantumCircuit(2)\n",
    "qc.rxx(1,0,1)\n",
    "A=qi.Operator(qc).data\n",
    "XX = qi.Pauli('XX').to_matrix()\n",
    "B = expm(-1j*XX/2)\n",
    "A-B"
   ]
  },
  {
   "cell_type": "code",
   "execution_count": 124,
   "metadata": {},
   "outputs": [],
   "source": [
    "H = qi.Pauli('XXII').to_matrix() + qi.Pauli('IIXX').to_matrix() + qi.Pauli('YYII').to_matrix() + qi.Pauli('IIYY').to_matrix() + 2*qi.Pauli('ZIZI').to_matrix() + 2*qi.Pauli('IZIZ').to_matrix() \n",
    "evol_matrix = expm(-1j*H)\n",
    "step = 100\n",
    "fh_circuit = fh_evolution_trotter(N_sites=2, t=1, U=4, tau=1, j=1, step=step, to_gate=False)\n",
    "trot_matrix = qi.Operator(fh_circuit).data\n",
    "#eigval, eigvec = np.linalg.eig(trot_matrix)"
   ]
  },
  {
   "cell_type": "code",
   "execution_count": 125,
   "metadata": {},
   "outputs": [],
   "source": [
    "diff_matrix = evol_matrix - trot_matrix"
   ]
  },
  {
   "cell_type": "code",
   "execution_count": 126,
   "metadata": {},
   "outputs": [
    {
     "data": {
      "text/plain": [
       "<matplotlib.image.AxesImage at 0x2ba9a7a90>"
      ]
     },
     "execution_count": 126,
     "metadata": {},
     "output_type": "execute_result"
    },
    {
     "data": {
      "image/png": "[encoded data removed]",
      "text/plain": [
       "<Figure size 480x480 with 1 Axes>"
      ]
     },
     "metadata": {},
     "output_type": "display_data"
    }
   ],
   "source": [
    "plt.matshow(diff_matrix.real)"
   ]
  },
  {
   "cell_type": "code",
   "execution_count": 88,
   "metadata": {},
   "outputs": [],
   "source": [
    "ener = []\n",
    "for ele in eigval:\n",
    "    ener.append(np.arctan(ele.imag/ele.real))"
   ]
  },
  {
   "cell_type": "code",
   "execution_count": 89,
   "metadata": {},
   "outputs": [
    {
     "data": {
      "text/plain": [
       "[-0.22672492052927737,\n",
       " 0.22672492052927734,\n",
       " 0.2267249205292778,\n",
       " 0.11336246026463888,\n",
       " 0.3206373201894366,\n",
       " -0.32063732018943686,\n",
       " -0.22672492052927776,\n",
       " -0.2267249205292776,\n",
       " 0.11336246026463884,\n",
       " 0.2267249205292774,\n",
       " 0.11336246026463934,\n",
       " -0.1133624602646389,\n",
       " -0.11336246026463877,\n",
       " -0.11336246026463896,\n",
       " -0.11336246026463871,\n",
       " 0.11336246026463885]"
      ]
     },
     "execution_count": 89,
     "metadata": {},
     "output_type": "execute_result"
    }
   ],
   "source": [
    "ener"
   ]
  },
  {
   "cell_type": "code",
   "execution_count": 90,
   "metadata": {},
   "outputs": [
    {
     "data": {
      "text/plain": [
       "array([0.        , 0.        , 0.        , 0.        , 0.        ,\n",
       "       0.65328131, 0.27059777, 0.        , 0.        , 0.27059777,\n",
       "       0.65328131, 0.        , 0.        , 0.        , 0.        ,\n",
       "       0.        ])"
      ]
     },
     "execution_count": 90,
     "metadata": {},
     "output_type": "execute_result"
    }
   ],
   "source": [
    "index = ener.index(min(ener))\n",
    "B = eigvec[:,index].real\n",
    "B[np.abs(B)<1e-10]=0\n",
    "B"
   ]
  },
  {
   "cell_type": "code",
   "execution_count": 91,
   "metadata": {},
   "outputs": [
    {
     "data": {
      "text/plain": [
       "matrix([[ 0.        ],\n",
       "        [ 0.        ],\n",
       "        [ 0.        ],\n",
       "        [-0.27059805],\n",
       "        [ 0.        ],\n",
       "        [ 0.        ],\n",
       "        [ 0.65328148],\n",
       "        [ 0.        ],\n",
       "        [ 0.        ],\n",
       "        [-0.65328148],\n",
       "        [ 0.        ],\n",
       "        [ 0.        ],\n",
       "        [-0.27059805],\n",
       "        [ 0.        ],\n",
       "        [ 0.        ],\n",
       "        [ 0.        ]])"
      ]
     },
     "execution_count": 91,
     "metadata": {},
     "output_type": "execute_result"
    }
   ],
   "source": [
    "A = np.linalg.eig(tau*fh_matrix)[1][:,0]\n",
    "A[np.abs(A)<1e-10]=0\n",
    "A"
   ]
  },
  {
   "cell_type": "code",
   "execution_count": 92,
   "metadata": {},
   "outputs": [
    {
     "data": {
      "text/plain": [
       "array([[ 9.74407816e-01+0.22478747j,  0.00000000e+00+0.j        ,\n",
       "         0.00000000e+00+0.j        ,  0.00000000e+00+0.j        ,\n",
       "         0.00000000e+00+0.j        ,  0.00000000e+00+0.j        ,\n",
       "         0.00000000e+00+0.j        ,  0.00000000e+00+0.j        ,\n",
       "         0.00000000e+00+0.j        ,  0.00000000e+00+0.j        ,\n",
       "         0.00000000e+00+0.j        ,  0.00000000e+00+0.j        ,\n",
       "         0.00000000e+00+0.j        ,  0.00000000e+00+0.j        ,\n",
       "         0.00000000e+00+0.j        ,  0.00000000e+00+0.j        ],\n",
       "       [ 0.00000000e+00+0.j        ,  9.93581355e-01+0.j        ,\n",
       "         0.00000000e+00+0.j        ,  0.00000000e+00+0.j        ,\n",
       "         0.00000000e+00-0.11311981j,  0.00000000e+00+0.j        ,\n",
       "         0.00000000e+00+0.j        ,  0.00000000e+00+0.j        ,\n",
       "         0.00000000e+00+0.j        ,  0.00000000e+00+0.j        ,\n",
       "         0.00000000e+00+0.j        ,  0.00000000e+00+0.j        ,\n",
       "         0.00000000e+00+0.j        ,  0.00000000e+00+0.j        ,\n",
       "         0.00000000e+00+0.j        ,  0.00000000e+00+0.j        ],\n",
       "       [ 0.00000000e+00+0.j        ,  0.00000000e+00+0.j        ,\n",
       "         9.93581355e-01+0.j        ,  0.00000000e+00+0.j        ,\n",
       "         0.00000000e+00+0.j        ,  0.00000000e+00+0.j        ,\n",
       "         0.00000000e+00+0.j        ,  0.00000000e+00+0.j        ,\n",
       "         0.00000000e+00-0.11311981j,  0.00000000e+00+0.j        ,\n",
       "         0.00000000e+00+0.j        ,  0.00000000e+00+0.j        ,\n",
       "         0.00000000e+00+0.j        ,  0.00000000e+00+0.j        ,\n",
       "         0.00000000e+00+0.j        ,  0.00000000e+00+0.j        ],\n",
       "       [ 0.00000000e+00+0.j        ,  0.00000000e+00+0.j        ,\n",
       "         0.00000000e+00+0.j        ,  9.61721259e-01+0.22382372j,\n",
       "         0.00000000e+00+0.j        ,  0.00000000e+00+0.j        ,\n",
       "        -1.73472348e-18+0.11142999j,  0.00000000e+00+0.j        ,\n",
       "         0.00000000e+00+0.j        ,  1.73472348e-18-0.11142999j,\n",
       "         0.00000000e+00+0.j        ,  0.00000000e+00+0.j        ,\n",
       "        -1.26865570e-02-0.00096375j,  0.00000000e+00+0.j        ,\n",
       "         0.00000000e+00+0.j        ,  0.00000000e+00+0.j        ],\n",
       "       [ 0.00000000e+00+0.j        ,  0.00000000e+00-0.11311981j,\n",
       "         0.00000000e+00+0.j        ,  0.00000000e+00+0.j        ,\n",
       "         9.93581355e-01+0.j        ,  0.00000000e+00+0.j        ,\n",
       "         0.00000000e+00+0.j        ,  0.00000000e+00+0.j        ,\n",
       "         0.00000000e+00+0.j        ,  0.00000000e+00+0.j        ,\n",
       "         0.00000000e+00+0.j        ,  0.00000000e+00+0.j        ,\n",
       "         0.00000000e+00+0.j        ,  0.00000000e+00+0.j        ,\n",
       "         0.00000000e+00+0.j        ,  0.00000000e+00+0.j        ],\n",
       "       [ 0.00000000e+00+0.j        ,  0.00000000e+00+0.j        ,\n",
       "         0.00000000e+00+0.j        ,  0.00000000e+00+0.j        ,\n",
       "         0.00000000e+00+0.j        ,  9.74407816e-01-0.22478747j,\n",
       "         0.00000000e+00+0.j        ,  0.00000000e+00+0.j        ,\n",
       "         0.00000000e+00+0.j        ,  0.00000000e+00+0.j        ,\n",
       "         0.00000000e+00+0.j        ,  0.00000000e+00+0.j        ,\n",
       "         0.00000000e+00+0.j        ,  0.00000000e+00+0.j        ,\n",
       "         0.00000000e+00+0.j        ,  0.00000000e+00+0.j        ],\n",
       "       [ 0.00000000e+00+0.j        ,  0.00000000e+00+0.j        ,\n",
       "         0.00000000e+00+0.j        ,  1.74339916e-18+0.11142999j,\n",
       "         0.00000000e+00+0.j        ,  0.00000000e+00+0.j        ,\n",
       "         9.61721259e-01-0.22382372j,  0.00000000e+00+0.j        ,\n",
       "         0.00000000e+00+0.j        ,  1.26865570e-02-0.00096375j,\n",
       "         0.00000000e+00+0.j        ,  0.00000000e+00+0.j        ,\n",
       "         0.00000000e+00+0.11142999j,  0.00000000e+00+0.j        ,\n",
       "         0.00000000e+00+0.j        ,  0.00000000e+00+0.j        ],\n",
       "       [ 0.00000000e+00+0.j        ,  0.00000000e+00+0.j        ,\n",
       "         0.00000000e+00+0.j        ,  0.00000000e+00+0.j        ,\n",
       "         0.00000000e+00+0.j        ,  0.00000000e+00+0.j        ,\n",
       "         0.00000000e+00+0.j        ,  9.93581355e-01+0.j        ,\n",
       "         0.00000000e+00+0.j        ,  0.00000000e+00+0.j        ,\n",
       "         0.00000000e+00+0.j        ,  0.00000000e+00+0.j        ,\n",
       "         0.00000000e+00+0.j        ,  0.00000000e+00+0.11311981j,\n",
       "         0.00000000e+00+0.j        ,  0.00000000e+00+0.j        ],\n",
       "       [ 0.00000000e+00+0.j        ,  0.00000000e+00+0.j        ,\n",
       "         0.00000000e+00-0.11311981j,  0.00000000e+00+0.j        ,\n",
       "         0.00000000e+00+0.j        ,  0.00000000e+00+0.j        ,\n",
       "         0.00000000e+00+0.j        ,  0.00000000e+00+0.j        ,\n",
       "         9.93581355e-01+0.j        ,  0.00000000e+00+0.j        ,\n",
       "         0.00000000e+00+0.j        ,  0.00000000e+00+0.j        ,\n",
       "         0.00000000e+00+0.j        ,  0.00000000e+00+0.j        ,\n",
       "         0.00000000e+00+0.j        ,  0.00000000e+00+0.j        ],\n",
       "       [ 0.00000000e+00+0.j        ,  0.00000000e+00+0.j        ,\n",
       "         0.00000000e+00+0.j        , -1.09097844e-18-0.11142999j,\n",
       "         0.00000000e+00+0.j        ,  0.00000000e+00+0.j        ,\n",
       "         1.26865570e-02-0.00096375j,  0.00000000e+00+0.j        ,\n",
       "         0.00000000e+00+0.j        ,  9.61721259e-01-0.22382372j,\n",
       "         0.00000000e+00+0.j        ,  0.00000000e+00+0.j        ,\n",
       "         1.73472348e-18-0.11142999j,  0.00000000e+00+0.j        ,\n",
       "         0.00000000e+00+0.j        ,  0.00000000e+00+0.j        ],\n",
       "       [ 0.00000000e+00+0.j        ,  0.00000000e+00+0.j        ,\n",
       "         0.00000000e+00+0.j        ,  0.00000000e+00+0.j        ,\n",
       "         0.00000000e+00+0.j        ,  0.00000000e+00+0.j        ,\n",
       "         0.00000000e+00+0.j        ,  0.00000000e+00+0.j        ,\n",
       "         0.00000000e+00+0.j        ,  0.00000000e+00+0.j        ,\n",
       "         9.74407816e-01-0.22478747j,  0.00000000e+00+0.j        ,\n",
       "         0.00000000e+00+0.j        ,  0.00000000e+00+0.j        ,\n",
       "         0.00000000e+00+0.j        ,  0.00000000e+00+0.j        ],\n",
       "       [ 0.00000000e+00+0.j        ,  0.00000000e+00+0.j        ,\n",
       "         0.00000000e+00+0.j        ,  0.00000000e+00+0.j        ,\n",
       "         0.00000000e+00+0.j        ,  0.00000000e+00+0.j        ,\n",
       "         0.00000000e+00+0.j        ,  0.00000000e+00+0.j        ,\n",
       "         0.00000000e+00+0.j        ,  0.00000000e+00+0.j        ,\n",
       "         0.00000000e+00+0.j        ,  9.93581355e-01+0.j        ,\n",
       "         0.00000000e+00+0.j        ,  0.00000000e+00+0.j        ,\n",
       "         0.00000000e+00+0.11311981j,  0.00000000e+00+0.j        ],\n",
       "       [ 0.00000000e+00+0.j        ,  0.00000000e+00+0.j        ,\n",
       "         0.00000000e+00+0.j        , -1.26865570e-02-0.00096375j,\n",
       "         0.00000000e+00+0.j        ,  0.00000000e+00+0.j        ,\n",
       "        -1.73472348e-18+0.11142999j,  0.00000000e+00+0.j        ,\n",
       "         0.00000000e+00+0.j        ,  3.46944695e-18-0.11142999j,\n",
       "         0.00000000e+00+0.j        ,  0.00000000e+00+0.j        ,\n",
       "         9.61721259e-01+0.22382372j,  0.00000000e+00+0.j        ,\n",
       "         0.00000000e+00+0.j        ,  0.00000000e+00+0.j        ],\n",
       "       [ 0.00000000e+00+0.j        ,  0.00000000e+00+0.j        ,\n",
       "         0.00000000e+00+0.j        ,  0.00000000e+00+0.j        ,\n",
       "         0.00000000e+00+0.j        ,  0.00000000e+00+0.j        ,\n",
       "         0.00000000e+00+0.j        ,  0.00000000e+00+0.11311981j,\n",
       "         0.00000000e+00+0.j        ,  0.00000000e+00+0.j        ,\n",
       "         0.00000000e+00+0.j        ,  0.00000000e+00+0.j        ,\n",
       "         0.00000000e+00+0.j        ,  9.93581355e-01+0.j        ,\n",
       "         0.00000000e+00+0.j        ,  0.00000000e+00+0.j        ],\n",
       "       [ 0.00000000e+00+0.j        ,  0.00000000e+00+0.j        ,\n",
       "         0.00000000e+00+0.j        ,  0.00000000e+00+0.j        ,\n",
       "         0.00000000e+00+0.j        ,  0.00000000e+00+0.j        ,\n",
       "         0.00000000e+00+0.j        ,  0.00000000e+00+0.j        ,\n",
       "         0.00000000e+00+0.j        ,  0.00000000e+00+0.j        ,\n",
       "         0.00000000e+00+0.j        ,  0.00000000e+00+0.11311981j,\n",
       "         0.00000000e+00+0.j        ,  0.00000000e+00+0.j        ,\n",
       "         9.93581355e-01+0.j        ,  0.00000000e+00+0.j        ],\n",
       "       [ 0.00000000e+00+0.j        ,  0.00000000e+00+0.j        ,\n",
       "         0.00000000e+00+0.j        ,  0.00000000e+00+0.j        ,\n",
       "         0.00000000e+00+0.j        ,  0.00000000e+00+0.j        ,\n",
       "         0.00000000e+00+0.j        ,  0.00000000e+00+0.j        ,\n",
       "         0.00000000e+00+0.j        ,  0.00000000e+00+0.j        ,\n",
       "         0.00000000e+00+0.j        ,  0.00000000e+00+0.j        ,\n",
       "         0.00000000e+00+0.j        ,  0.00000000e+00+0.j        ,\n",
       "         0.00000000e+00+0.j        ,  9.74407816e-01+0.22478747j]])"
      ]
     },
     "execution_count": 92,
     "metadata": {},
     "output_type": "execute_result"
    }
   ],
   "source": [
    "expm(tau*fh_matrix*1j)"
   ]
  },
  {
   "cell_type": "code",
   "execution_count": 93,
   "metadata": {},
   "outputs": [
    {
     "data": {
      "text/plain": [
       "<matplotlib.image.AxesImage at 0x2ab3b53d0>"
      ]
     },
     "execution_count": 93,
     "metadata": {},
     "output_type": "execute_result"
    },
    {
     "data": {
      "image/png": "[encoded data removed]",
      "text/plain": [
       "<Figure size 480x480 with 1 Axes>"
      ]
     },
     "metadata": {},
     "output_type": "display_data"
    }
   ],
   "source": [
    "M = trot_matrix.data - expm(-1*tau*fh_matrix*1j)\n",
    "plt.matshow(M.real)"
   ]
  },
  {
   "cell_type": "code",
   "execution_count": 99,
   "metadata": {},
   "outputs": [
    {
     "data": {
      "text/plain": [
       "<matplotlib.image.AxesImage at 0x2ab6ee3a0>"
      ]
     },
     "execution_count": 99,
     "metadata": {},
     "output_type": "execute_result"
    },
    {
     "data": {
      "image/png": "[encoded data removed]",
      "text/plain": [
       "<Figure size 640x480 with 2 Axes>"
      ]
     },
     "metadata": {},
     "output_type": "display_data"
    }
   ],
   "source": [
    "fig, ax = plt.subplots(1,2)\n",
    "ax[0].matshow(expm(1j*fh_matrix).real)\n",
    "ax[1].matshow(expm(1j*fh_matrix).imag)\n"
   ]
  },
  {
   "cell_type": "code",
   "execution_count": 107,
   "metadata": {},
   "outputs": [
    {
     "data": {
      "text/plain": [
       "<matplotlib.image.AxesImage at 0x2abc70280>"
      ]
     },
     "execution_count": 107,
     "metadata": {},
     "output_type": "execute_result"
    },
    {
     "data": {
      "image/png": "[encoded data removed]",
      "text/plain": [
       "<Figure size 640x480 with 2 Axes>"
      ]
     },
     "metadata": {},
     "output_type": "display_data"
    }
   ],
   "source": [
    "step=100\n",
    "fh_circuit = fh_evolution_trotter(N_sites=2, t=1, U=4, tau=1, j=1, step=step, to_gate=False)\n",
    "trot_matrix = qi.Operator(fh_circuit).data\n",
    "\n",
    "fig, ax = plt.subplots(1,2)\n",
    "ax[0].matshow(trot_matrix.real)\n",
    "ax[1].matshow(trot_matrix.imag)"
   ]
  },
  {
   "cell_type": "code",
   "execution_count": 137,
   "metadata": {},
   "outputs": [],
   "source": [
    "fh_matrix = get_fh_matrix(N_sites=2, t=1, U=4)"
   ]
  },
  {
   "cell_type": "code",
   "execution_count": 138,
   "metadata": {},
   "outputs": [
    {
     "data": {
      "text/plain": [
       "matrix([[ 2.,  0.,  0.,  0.,  0.,  0.,  0.,  0.,  0.,  0.,  0.,  0.,  0.,\n",
       "          0.,  0.,  0.],\n",
       "        [ 0.,  0.,  0.,  0., -1.,  0.,  0.,  0.,  0.,  0.,  0.,  0.,  0.,\n",
       "          0.,  0.,  0.],\n",
       "        [ 0.,  0.,  0.,  0.,  0.,  0.,  0.,  0., -1.,  0.,  0.,  0.,  0.,\n",
       "          0.,  0.,  0.],\n",
       "        [ 0.,  0.,  0.,  2.,  0.,  0.,  1.,  0.,  0., -1.,  0.,  0.,  0.,\n",
       "          0.,  0.,  0.],\n",
       "        [ 0., -1.,  0.,  0.,  0.,  0.,  0.,  0.,  0.,  0.,  0.,  0.,  0.,\n",
       "          0.,  0.,  0.],\n",
       "        [ 0.,  0.,  0.,  0.,  0., -2.,  0.,  0.,  0.,  0.,  0.,  0.,  0.,\n",
       "          0.,  0.,  0.],\n",
       "        [ 0.,  0.,  0.,  1.,  0.,  0., -2.,  0.,  0.,  0.,  0.,  0.,  1.,\n",
       "          0.,  0.,  0.],\n",
       "        [ 0.,  0.,  0.,  0.,  0.,  0.,  0.,  0.,  0.,  0.,  0.,  0.,  0.,\n",
       "          1.,  0.,  0.],\n",
       "        [ 0.,  0., -1.,  0.,  0.,  0.,  0.,  0.,  0.,  0.,  0.,  0.,  0.,\n",
       "          0.,  0.,  0.],\n",
       "        [ 0.,  0.,  0., -1.,  0.,  0.,  0.,  0.,  0., -2.,  0.,  0., -1.,\n",
       "          0.,  0.,  0.],\n",
       "        [ 0.,  0.,  0.,  0.,  0.,  0.,  0.,  0.,  0.,  0., -2.,  0.,  0.,\n",
       "          0.,  0.,  0.],\n",
       "        [ 0.,  0.,  0.,  0.,  0.,  0.,  0.,  0.,  0.,  0.,  0.,  0.,  0.,\n",
       "          0.,  1.,  0.],\n",
       "        [ 0.,  0.,  0.,  0.,  0.,  0.,  1.,  0.,  0., -1.,  0.,  0.,  2.,\n",
       "          0.,  0.,  0.],\n",
       "        [ 0.,  0.,  0.,  0.,  0.,  0.,  0.,  1.,  0.,  0.,  0.,  0.,  0.,\n",
       "          0.,  0.,  0.],\n",
       "        [ 0.,  0.,  0.,  0.,  0.,  0.,  0.,  0.,  0.,  0.,  0.,  1.,  0.,\n",
       "          0.,  0.,  0.],\n",
       "        [ 0.,  0.,  0.,  0.,  0.,  0.,  0.,  0.,  0.,  0.,  0.,  0.,  0.,\n",
       "          0.,  0.,  2.]])"
      ]
     },
     "execution_count": 138,
     "metadata": {},
     "output_type": "execute_result"
    }
   ],
   "source": [
    "fh_matrix"
   ]
  },
  {
   "cell_type": "code",
   "execution_count": 146,
   "metadata": {},
   "outputs": [
    {
     "data": {
      "text/plain": [
       "<matplotlib.colorbar.Colorbar at 0x2bac5f520>"
      ]
     },
     "execution_count": 146,
     "metadata": {},
     "output_type": "execute_result"
    },
    {
     "data": {
      "image/png": "[encoded data removed]",
      "text/plain": [
       "<Figure size 480x480 with 2 Axes>"
      ]
     },
     "metadata": {},
     "output_type": "display_data"
    }
   ],
   "source": [
    "plt.matshow(fh_matrix)\n",
    "plt.colorbar()"
   ]
  },
  {
   "cell_type": "code",
   "execution_count": 147,
   "metadata": {},
   "outputs": [
    {
     "data": {
      "text/plain": [
       "<matplotlib.colorbar.Colorbar at 0x2bac54ca0>"
      ]
     },
     "execution_count": 147,
     "metadata": {},
     "output_type": "execute_result"
    },
    {
     "data": {
      "image/png": "[encoded data removed]",
      "text/plain": [
       "<Figure size 480x480 with 2 Axes>"
      ]
     },
     "metadata": {},
     "output_type": "display_data"
    }
   ],
   "source": [
    "plt.matshow(H.real/2)\n",
    "plt.colorbar()"
   ]
  },
  {
   "cell_type": "code",
   "execution_count": null,
   "metadata": {},
   "outputs": [],
   "source": []
  }
 ],
 "metadata": {
  "kernelspec": {
   "display_name": "Python 3",
   "language": "python",
   "name": "python3"
  },
  "language_info": {
   "codemirror_mode": {
    "name": "ipython",
    "version": 3
   },
   "file_extension": ".py",
   "mimetype": "text/x-python",
   "name": "python",
   "nbconvert_exporter": "python",
   "pygments_lexer": "ipython3",
   "version": "3.9.6"
  },
  "orig_nbformat": 4
 },
 "nbformat": 4,
 "nbformat_minor": 2
}

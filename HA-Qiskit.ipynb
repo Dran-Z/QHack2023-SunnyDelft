{
 "cells": [
  {
   "cell_type": "code",
   "execution_count": 44,
   "metadata": {},
   "outputs": [],
   "source": [
    "import numpy as np\n",
    "import math\n",
    "from math import pi\n",
    "import matplotlib.pyplot as plt\n",
    "# magic word for producing visualizations in notebook\n",
    "%matplotlib inline\n",
    "\n",
    "from scipy.special import iv\n",
    "from scipy.linalg import expm, block_diag\n",
    "from scipy import integrate\n",
    "from openfermion import fermi_hubbard, jordan_wigner, get_sparse_operator\n",
    "from collections import Counter\n",
    "\n",
    "from qiskit import QuantumCircuit, QuantumRegister\n",
    "from qiskit import Aer, transpile"
   ]
  },
  {
   "cell_type": "code",
   "execution_count": 77,
   "metadata": {},
   "outputs": [],
   "source": [
    "hubbard = fermi_hubbard(1, 4, 1, 4, periodic=False,particle_hole_symmetry=True)\n",
    "jw_hamiltonian = jordan_wigner(hubbard)\n",
    "jw_hamiltonian = jordan_wigner(hubbard)\n",
    "fh_matrix = get_sparse_operator(jw_hamiltonian)\n",
    "fh_matrix = fh_matrix.todense()\n",
    "fh_matrix = fh_matrix.real\n",
    "\n",
    "norm = np.linalg.norm(fh_matrix)\n",
    "tau = 3*np.pi/(4*norm)"
   ]
  },
  {
   "cell_type": "code",
   "execution_count": 81,
   "metadata": {},
   "outputs": [],
   "source": [
    "def get_real_CDF(N_sites, t, U, tau, precision, initial_state_symmetry=True):\n",
    "\n",
    "    hubbard = fermi_hubbard(1, N_sites, t, U, periodic=False,particle_hole_symmetry=True)\n",
    "    jw_hamiltonian = jordan_wigner(hubbard)\n",
    "    fh_matrix = get_sparse_operator(jw_hamiltonian)\n",
    "    fh_matrix = fh_matrix.todense()\n",
    "    fh_matrix = fh_matrix.real\n",
    "    norm = np.linalg.norm(fh_matrix)\n",
    "    #tau = np.pi/(4*norm)\n",
    "    \n",
    "    Ndim = 2**(2*N_sites)\n",
    "    energy, eigenstate= np.linalg.eig(tau*fh_matrix)\n",
    "\n",
    "    hf_state = np.zeros(Ndim)\n",
    "\n",
    "\n",
    "    if initial_state_symmetry:\n",
    "        index_1 = int('0110'*(N_sites//2),2)\n",
    "        index_2 = int('1001'*(N_sites//2),2)\n",
    "        hf_state[index_1], hf_state[index_2] = 1/np.sqrt(2), 1/np.sqrt(2)\n",
    "    else:\n",
    "        hf_index = 0\n",
    "        for i in range(N_sites):\n",
    "            if i%2==0:\n",
    "                hf_index += 2**(2*i)\n",
    "            elif i%2!=0:\n",
    "                hf_index += 2**(2*i+1)\n",
    "        hf_state[hf_index] = 1\n",
    "\n",
    "    energy=energy.real\n",
    "    eigenstate[np.abs(eigenstate)<1e-10]=0\n",
    "    eigenstate = np.array(eigenstate)\n",
    "\n",
    "    prob_raw = np.zeros(Ndim)\n",
    "    for i in range(Ndim):\n",
    "        prob_raw[i] = np.abs(np.dot(hf_state,eigenstate[:,i]))**2\n",
    "    prob = []\n",
    "    ener = []\n",
    "    for i,ele in enumerate(prob_raw):\n",
    "        if ele!=0:\n",
    "            prob.append(ele)\n",
    "            ener.append(energy[i].real)\n",
    "\n",
    "    x_list = np.linspace(-np.pi/3, np.pi/3, precision)\n",
    "    CDF = np.zeros(len(x_list))\n",
    "\n",
    "    for j,ener_ele in enumerate(ener):\n",
    "        for i,x_ele in enumerate(x_list):\n",
    "            if x_ele>ener_ele:\n",
    "                CDF[i] += prob[j]\n",
    "\n",
    "    return CDF"
   ]
  },
  {
   "cell_type": "code",
   "execution_count": 14,
   "metadata": {},
   "outputs": [],
   "source": [
    "## Get Trotterization Hamiltonian Evolution Gate:\n",
    "\n",
    "def fh_evolution(N_sites, t, U, tau, j, step, to_gate=True):\n",
    "    \n",
    "    qr = QuantumRegister(2*N_sites,'qr')\n",
    "    qc = QuantumCircuit(qr)\n",
    "    \n",
    "    for _ in range(step):\n",
    "        \n",
    "        ## Hopping terms \n",
    "        theta = tau*t*j/step\n",
    "        \n",
    "        for i in range(N_sites//2):\n",
    "            qc.rxx(theta,2*i,2*i+1)\n",
    "            qc.ryy(theta,2*i,2*i+1)\n",
    "\n",
    "            qc.rxx(theta,2*i+N_sites,2*i+1+N_sites)\n",
    "            qc.ryy(theta,2*i+N_sites,2*i+1+N_sites)\n",
    "            \n",
    "        for i in range((N_sites-1)//2):\n",
    "            qc.rxx(theta,2*i+1,2*i+2)\n",
    "            qc.ryy(theta,2*i+1,2*i+2)\n",
    "\n",
    "            qc.rxx(theta,2*i+N_sites+1,2*i+2+N_sites)\n",
    "            qc.ryy(theta,2*i+N_sites+1,2*i+2+N_sites)\n",
    "        \n",
    "        ## Potential\n",
    "        gamma = tau*j*U/(2*step)\n",
    "        \n",
    "        for i in range(N_sites):\n",
    "            qc.rzz(gamma,i,i+N_sites)\n",
    "    return qc.to_gate() if to_gate else qc"
   ]
  },
  {
   "cell_type": "code",
   "execution_count": 33,
   "metadata": {},
   "outputs": [
    {
     "data": {
      "text/plain": [
       "['__abstractmethods__',\n",
       " '__array_priority__',\n",
       " '__class__',\n",
       " '__deepcopy__',\n",
       " '__delattr__',\n",
       " '__dict__',\n",
       " '__dir__',\n",
       " '__doc__',\n",
       " '__eq__',\n",
       " '__format__',\n",
       " '__ge__',\n",
       " '__getattribute__',\n",
       " '__gt__',\n",
       " '__hash__',\n",
       " '__init__',\n",
       " '__init_subclass__',\n",
       " '__le__',\n",
       " '__lt__',\n",
       " '__module__',\n",
       " '__ne__',\n",
       " '__new__',\n",
       " '__reduce__',\n",
       " '__reduce_ex__',\n",
       " '__repr__',\n",
       " '__setattr__',\n",
       " '__sizeof__',\n",
       " '__slotnames__',\n",
       " '__slots__',\n",
       " '__str__',\n",
       " '__subclasshook__',\n",
       " '__weakref__',\n",
       " '_abc_impl',\n",
       " '_broadcast_2_arguments',\n",
       " '_broadcast_3_or_more_args',\n",
       " '_broadcast_single_argument',\n",
       " '_ctrl_state',\n",
       " '_define',\n",
       " '_definition',\n",
       " '_directive',\n",
       " '_duration',\n",
       " '_label',\n",
       " '_name',\n",
       " '_num_clbits',\n",
       " '_num_ctrl_qubits',\n",
       " '_num_qubits',\n",
       " '_open_ctrl',\n",
       " '_params',\n",
       " '_qasmif',\n",
       " '_return_repeat',\n",
       " '_unit',\n",
       " 'add_decomposition',\n",
       " 'assemble',\n",
       " 'base_gate',\n",
       " 'broadcast_arguments',\n",
       " 'c_if',\n",
       " 'condition',\n",
       " 'condition_bits',\n",
       " 'control',\n",
       " 'copy',\n",
       " 'ctrl_state',\n",
       " 'decompositions',\n",
       " 'definition',\n",
       " 'duration',\n",
       " 'inverse',\n",
       " 'is_parameterized',\n",
       " 'label',\n",
       " 'name',\n",
       " 'num_clbits',\n",
       " 'num_ctrl_qubits',\n",
       " 'num_qubits',\n",
       " 'params',\n",
       " 'power',\n",
       " 'qasm',\n",
       " 'repeat',\n",
       " 'reverse_ops',\n",
       " 'soft_compare',\n",
       " 'to_matrix',\n",
       " 'unit',\n",
       " 'validate_parameter']"
      ]
     },
     "execution_count": 33,
     "metadata": {},
     "output_type": "execute_result"
    }
   ],
   "source": [
    "dir(fh_evolution(4, 1, 4, 1, 1, 1).control())"
   ]
  },
  {
   "cell_type": "code",
   "execution_count": 29,
   "metadata": {},
   "outputs": [
    {
     "data": {
      "text/plain": [
       "[0, 2, 3, 4, 5, 6, 7, 8, 9]"
      ]
     },
     "execution_count": 29,
     "metadata": {},
     "output_type": "execute_result"
    }
   ],
   "source": [
    "[0]+list(range(2,10))"
   ]
  },
  {
   "cell_type": "code",
   "execution_count": 18,
   "metadata": {},
   "outputs": [],
   "source": [
    "def initial_state_prep(N_sites, initial_state_symmetry=True, to_gate=True):\n",
    "\n",
    "    qr = QuantumRegister(2*N_sites,'qr')\n",
    "    qc = QuantumCircuit(qr)\n",
    "\n",
    "    if initial_state_symmetry:\n",
    "        qc.h(0)\n",
    "        for i in range(N_sites):\n",
    "            if i%2!=0:\n",
    "                qc.x(i)\n",
    "            else:\n",
    "                qc.x(i+N_sites)\n",
    "\n",
    "        qc.cnot(0,range(1,2*N_sites))\n",
    "\n",
    "    else:\n",
    "        for i in range(N_sites):\n",
    "            if i%2!=0:\n",
    "                qc.x(i)\n",
    "            else:\n",
    "                qc.x(i+N_sites)\n",
    "        \n",
    "\n",
    "    return qc.to_gate() if to_gate else qc"
   ]
  },
  {
   "cell_type": "code",
   "execution_count": 34,
   "metadata": {},
   "outputs": [],
   "source": [
    "def get_new_Hadamard_circuit(N_sites, t, U, tau, j, step, initial_state_symmetry=True,test_type='real'):\n",
    "\n",
    "    qr = QuantumRegister(2*N_sites+2,'qr')\n",
    "    qc = QuantumCircuit(qr)\n",
    "\n",
    "    qc.h([0,1])\n",
    "    if test_type=='real':\n",
    "        pass\n",
    "    elif test_type=='imag':\n",
    "        qc.s(0)\n",
    "\n",
    "    \n",
    "    prep_gate = initial_state_prep(N_sites=N_sites,initial_state_symmetry=initial_state_symmetry)\n",
    "    qc.append(prep_gate.control(), [0]+list(range(2,2*N_sites+2)))\n",
    "\n",
    "    evolution_gate = fh_evolution(N_sites=N_sites, t=t, U=U, tau=tau, j=j, step=step)\n",
    "    qc.append(evolution_gate,range(2,2*N_sites+2))\n",
    "\n",
    "    prep_gate_conj = prep_gate.reverse_ops()\n",
    "    qc.append(prep_gate_conj.control(), [1]+list(range(2,2*N_sites+2)))\n",
    "\n",
    "    qc.h([0,1])\n",
    "\n",
    "    qc.measure_all()\n",
    "\n",
    "    return qc"
   ]
  },
  {
   "cell_type": "code",
   "execution_count": 46,
   "metadata": {},
   "outputs": [],
   "source": [
    "backend=Aer.get_backend('qasm_simulator')"
   ]
  },
  {
   "cell_type": "code",
   "execution_count": 48,
   "metadata": {},
   "outputs": [
    {
     "name": "stderr",
     "output_type": "stream",
     "text": [
      "/Users/dranz/Library/Python/3.9/lib/python/site-packages/numpy/linalg/linalg.py:2154: RuntimeWarning: divide by zero encountered in det\n",
      "  r = _umath_linalg.det(a, signature=signature)\n",
      "/Users/dranz/Library/Python/3.9/lib/python/site-packages/numpy/linalg/linalg.py:2154: RuntimeWarning: invalid value encountered in det\n",
      "  r = _umath_linalg.det(a, signature=signature)\n"
     ]
    }
   ],
   "source": [
    "qc = get_new_Hadamard_circuit(4,1,4,1,1,1)\n",
    "\n",
    "qc = transpile(qc,backend)\n",
    "\n",
    "job = backend.run(qc,shots=1000)\n",
    "res = job.result()"
   ]
  },
  {
   "cell_type": "code",
   "execution_count": 62,
   "metadata": {},
   "outputs": [],
   "source": [
    "def get_new_Z(N_sites, t, U, tau, j, step, shots, initial_state_symmetry=True):\n",
    "\n",
    "    qc_real = get_new_Hadamard_circuit(N_sites, t, U, tau, j, step, initial_state_symmetry=initial_state_symmetry, test_type='real')\n",
    "    qc_imag = get_new_Hadamard_circuit(N_sites, t, U, tau, j, step, initial_state_symmetry=initial_state_symmetry, test_type='imag')\n",
    "    backend=Aer.get_backend('qasm_simulator')\n",
    "\n",
    "    qc_real = transpile(qc_real,backend)\n",
    "    qc_imag = transpile(qc_imag,backend)\n",
    "    job_real = backend.run(qc_real,shots=shots)\n",
    "    job_imag = backend.run(qc_imag,shots=shots)\n",
    "    \n",
    "    counts_real = job_real.result().get_counts()\n",
    "    counts_imag = job_imag.result().get_counts()\n",
    "\n",
    "    p00, p01, p10, p11 = 0,0,0,0\n",
    "    if ('0'*2*N_sites+'00') in counts_real.keys():\n",
    "        p00 = counts_real['0'*2*N_sites+'00']/shots\n",
    "    if ('0'*2*N_sites+'01') in counts_real.keys():\n",
    "        p01 = counts_real['0'*2*N_sites+'01']/shots\n",
    "    if ('0'*2*N_sites+'10') in counts_real.keys():\n",
    "        p10 = counts_real['0'*2*N_sites+'10']/shots\n",
    "    if ('0'*2*N_sites+'11') in counts_real.keys():\n",
    "        p11 = counts_real['0'*2*N_sites+'11']/shots\n",
    "\n",
    "    X = p00+p11-p01-p10\n",
    "\n",
    "    p00, p01, p10, p11 = 0,0,0,0\n",
    "    if ('0'*2*N_sites+'00') in counts_imag.keys():\n",
    "        p00 = counts_imag['0'*2*N_sites+'00']/shots\n",
    "    if ('0'*2*N_sites+'01') in counts_imag.keys():\n",
    "        p01 = counts_imag['0'*2*N_sites+'01']/shots\n",
    "    if ('0'*2*N_sites+'10') in counts_imag.keys():\n",
    "        p10 = counts_imag['0'*2*N_sites+'10']/shots\n",
    "    if ('0'*2*N_sites+'11') in counts_imag.keys():\n",
    "        p11 = counts_imag['0'*2*N_sites+'11']/shots\n",
    "\n",
    "    Y = p00+p11-p01-p10\n",
    "\n",
    "    lambda_R = U/4*N_sites\n",
    "\n",
    "    Z = 2*(X-1j*Y)*np.exp(-1j*lambda_R*j*tau)\n",
    "    return Z"
   ]
  },
  {
   "cell_type": "code",
   "execution_count": 71,
   "metadata": {},
   "outputs": [],
   "source": [
    "def get_shots_per_run(F_list, total_shots):\n",
    "\n",
    "    F_list_abs = np.array([np.abs(ele) for ele in F_list])\n",
    "    probs = F_list_abs/sum(F_list_abs)\n",
    "    sampling = np.random.choice(range(len(probs)), size=int(total_shots), p=probs)\n",
    "    counter = Counter(sampling)\n",
    "\n",
    "    shots_list = np.zeros(len(probs),dtype=int)\n",
    "    for i in range(len(probs)):\n",
    "        shots_list[i] = int(counter[i])\n",
    "\n",
    "    #shots_per_run = np.round(total_shots*probs)\n",
    "    return shots_list#shots_per_run\n",
    "\n",
    "def get_Z_list(d, N_sites, t, U, tau, step, shots_list, initial_state_symmetry=True): ## shots_per_run should be replaced\n",
    "    \n",
    "    #Z_list = [get_new_Z(N_sites, t, U, tau, 2*j+1, step, shots=shots_list) for j in range(d+1)]\n",
    "\n",
    "    Z_list = np.zeros(d+1,dtype='complex')\n",
    "    for j in range(d+1):\n",
    "        if shots_list[j]:\n",
    "            Z_list[j] = get_new_Z(N_sites, t, U, tau, 2*j+1, step, shots=shots_list[j],initial_state_symmetry=initial_state_symmetry)\n",
    "    return Z_list"
   ]
  },
  {
   "cell_type": "code",
   "execution_count": 72,
   "metadata": {},
   "outputs": [],
   "source": [
    "def Assembly_ACDF(Z_list, F_list, precision):\n",
    "    \n",
    "    ACDF = .5*np.ones(precision)\n",
    "    x_list = np.linspace(-pi,pi,precision)\n",
    "    d = len(F_list)-1\n",
    "    \n",
    "    for j in range(d+1):\n",
    "        ACDF = ACDF + F_list[j]*Z_list[j]*np.exp(1j*(2*j+1)*x_list) - F_list[j]*Z_list[j].conj()*np.exp(-1j*(2*j+1)*x_list)\n",
    "        #ACDF = ACDF + F_list[j]*Z_list[j]*2j*np.sin((2*j+1)*x_list)\n",
    "                                                                              \n",
    "    return ACDF"
   ]
  },
  {
   "cell_type": "code",
   "execution_count": 74,
   "metadata": {},
   "outputs": [],
   "source": [
    "F_list_import = np.load('F_list_d2e4_lim1e4.npy')"
   ]
  },
  {
   "cell_type": "code",
   "execution_count": 78,
   "metadata": {},
   "outputs": [
    {
     "name": "stderr",
     "output_type": "stream",
     "text": [
      "/Users/dranz/Library/Python/3.9/lib/python/site-packages/numpy/linalg/linalg.py:2154: RuntimeWarning: divide by zero encountered in det\n",
      "  r = _umath_linalg.det(a, signature=signature)\n",
      "/Users/dranz/Library/Python/3.9/lib/python/site-packages/numpy/linalg/linalg.py:2154: RuntimeWarning: invalid value encountered in det\n",
      "  r = _umath_linalg.det(a, signature=signature)\n"
     ]
    }
   ],
   "source": [
    "shots_list = get_shots_per_run(F_list=F_list_import, total_shots=3e3)\n",
    "Z_list = get_Z_list(20000, 4, 1, 4, tau, 4, shots_list)"
   ]
  },
  {
   "cell_type": "code",
   "execution_count": 79,
   "metadata": {},
   "outputs": [],
   "source": [
    "ACDF = Assembly_ACDF(Z_list, F_list_import, 100000)"
   ]
  },
  {
   "cell_type": "code",
   "execution_count": 82,
   "metadata": {},
   "outputs": [
    {
     "data": {
      "text/plain": [
       "(-1.0471975511965976, 1.0471975511965976)"
      ]
     },
     "execution_count": 82,
     "metadata": {},
     "output_type": "execute_result"
    },
    {
     "data": {
      "image/png": "[encoded data removed]",
      "text/plain": [
       "<Figure size 640x480 with 1 Axes>"
      ]
     },
     "metadata": {},
     "output_type": "display_data"
    }
   ],
   "source": [
    "plt.plot(np.linspace(-pi,pi,100000), ACDF)\n",
    "#plt.plot(np.linspace(-pi,pi,10000), ACDF_2)\n",
    "plt.plot(np.linspace(-np.pi/3, np.pi/3, 1000), get_real_CDF(4,1,4, tau,precision=1000), label='CDF')\n",
    "plt.xlim([-pi/3, pi/3])"
   ]
  },
  {
   "cell_type": "code",
   "execution_count": null,
   "metadata": {},
   "outputs": [],
   "source": []
  }
 ],
 "metadata": {
  "kernelspec": {
   "display_name": "Python 3",
   "language": "python",
   "name": "python3"
  },
  "language_info": {
   "codemirror_mode": {
    "name": "ipython",
    "version": 3
   },
   "file_extension": ".py",
   "mimetype": "text/x-python",
   "name": "python",
   "nbconvert_exporter": "python",
   "pygments_lexer": "ipython3",
   "version": "3.9.6"
  },
  "orig_nbformat": 4,
  "vscode": {
   "interpreter": {
    "hash": "31f2aee4e71d21fbe5cf8b01ff0e069b9275f58929596ceb00d14d90e3e16cd6"
   }
  }
 },
 "nbformat": 4,
 "nbformat_minor": 2
}
